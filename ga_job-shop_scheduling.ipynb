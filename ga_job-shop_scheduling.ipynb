{
 "cells": [
  {
   "cell_type": "markdown",
   "id": "9808100a",
   "metadata": {},
   "source": [
    "# Datasets\n",
    "Used from http://mistic.heig-vd.ch/taillard/problemes.dir/ordonnancement.dir/ordonnancement.html\n",
    "\n",
    "## ta01"
   ]
  },
  {
   "cell_type": "code",
   "execution_count": 15,
   "id": "4f239342",
   "metadata": {},
   "outputs": [],
   "source": [
    "times1 = [[94, 66, 10, 53, 26, 15, 65, 82, 10, 27, 93, 92, 96, 70, 83],\n",
    "          [74, 31, 88, 51, 57, 78, 8, 7, 91, 79, 18, 51, 18, 99, 33],\n",
    "          [4, 82, 40, 86, 50, 54, 21, 6, 54, 68, 82, 20, 39, 35, 68],\n",
    "          [73, 23, 30, 30, 53, 94, 58, 93, 32, 91, 30, 56, 27, 92,  9],\n",
    "          [78, 23, 21, 60, 36, 29, 95, 99, 79, 76, 93, 42, 52, 42, 96],\n",
    "          [29, 61, 88, 70, 16, 31, 65, 83, 78, 26, 50, 87, 62, 14, 30],\n",
    "          [18, 75, 20, 4, 91, 68, 19, 54, 85, 73, 43, 24, 37, 87, 66],\n",
    "          [32, 52, 9, 49, 61, 35, 99, 62, 6, 62, 7, 80, 3, 57, 7],\n",
    "          [85, 30, 96, 91, 13, 87, 82, 83, 78, 56, 85, 8, 66, 88, 15],\n",
    "          [5, 59, 30, 60, 41, 17, 66, 89, 78, 88, 69, 45, 82, 6, 13],\n",
    "          [90, 27, 1, 8, 91, 80, 89, 49, 32, 28, 90, 93, 6, 35, 73],\n",
    "          [47, 43, 75, 8, 51, 3, 84, 34, 28, 60, 69, 45, 67, 58, 87],\n",
    "          [65, 62, 97, 20, 31, 33, 33, 77, 50, 80, 48, 90, 75, 96, 44],\n",
    "          [28, 21, 51, 75, 17, 89, 59, 56, 63, 18, 17, 30, 16, 7, 35],\n",
    "          [57, 16, 42, 34, 37, 26, 68, 73, 5, 8, 12, 87, 83, 20, 97]]\n",
    "\n",
    "machines1 = [[7, 13, 5, 8, 4, 3, 11, 12, 9, 15, 10, 14, 6, 1, 2],\n",
    "            [5, 6, 8, 15, 14, 9, 12, 10, 7, 11, 1, 4, 13, 2, 3],\n",
    "            [2, 9, 10, 13, 7, 12, 14, 6, 1, 3, 8, 11, 5, 4, 15],\n",
    "            [6, 3, 10, 7, 11, 1, 14, 5, 8, 15, 12, 9, 13, 2, 4],\n",
    "            [8, 9, 7, 11, 5, 10, 3, 15, 13, 6, 2, 14, 12, 1, 4],\n",
    "            [6, 4, 13, 14, 12, 5, 15, 8, 3, 2, 11, 1, 10, 7, 9],\n",
    "            [13, 4, 8, 9, 15, 7, 2, 12, 5, 6, 3, 11, 1, 14, 10],\n",
    "            [12, 6, 1, 8, 13, 14, 15, 2, 3, 9, 5, 4, 10, 7, 11],\n",
    "            [11, 12, 7, 15, 1, 2, 3, 6, 13, 5, 9, 8, 10, 14, 4],\n",
    "            [7, 12, 10, 3, 9, 1, 14, 4, 11, 8, 2, 13, 15, 5, 6],\n",
    "            [5, 8, 14, 1, 6, 13, 7, 9, 15, 11, 4, 2, 12, 10, 3],\n",
    "            [3, 15, 1, 13, 7, 11, 8, 6, 9, 10, 14, 2, 4, 12, 5],\n",
    "            [6, 9, 11, 3, 4, 7, 10, 1, 14, 5, 2, 12, 13, 8, 15],\n",
    "            [9, 15, 5, 14, 6, 7, 10, 2, 13, 8, 12, 11, 4, 3, 1],\n",
    "            [11, 9, 13, 7, 5, 2, 14, 15, 12, 1, 8, 4, 3, 10, 6]]"
   ]
  },
  {
   "cell_type": "markdown",
   "id": "a4d643b4",
   "metadata": {},
   "source": [
    "## ta11"
   ]
  },
  {
   "cell_type": "code",
   "execution_count": 16,
   "id": "31166d4e",
   "metadata": {},
   "outputs": [],
   "source": [
    "times11 = [[25, 75, 75, 76, 38, 62, 38, 59, 14, 13, 46, 31, 57, 92, 3],\n",
    "           [67, 5, 11, 11, 40, 34, 77, 42, 35, 96, 22, 55, 21, 29, 16],\n",
    "           [22, 98, 8, 35, 59, 31, 13, 46, 52, 22, 18, 19, 64, 29, 70],\n",
    "           [99, 42, 2, 35, 11, 92, 88, 97, 21, 56, 17, 43, 27, 19, 23],\n",
    "           [50, 5, 59, 71, 47, 39, 82, 35, 12, 2, 39, 42, 52, 65, 35],\n",
    "           [48, 57, 5, 2, 60, 64, 86, 3, 51, 26, 34, 39, 45, 63, 54],\n",
    "           [40, 43, 50, 71, 46, 99, 67, 34, 6, 95, 67, 54, 29, 30, 60],\n",
    "           [59, 3, 85, 6, 46, 49, 5, 82, 18, 71, 48, 79, 62, 65, 76],\n",
    "           [65, 55, 81, 15, 32, 52, 97, 69, 82, 89, 69, 87, 22, 71, 63],\n",
    "           [70, 74, 52, 94, 14, 81, 24, 14, 32, 39, 67, 59, 18, 77, 50],\n",
    "           [18, 6, 96, 53, 35, 99, 39, 18, 14, 90, 64, 81, 89, 48, 80],\n",
    "           [44, 75, 12, 13, 74, 59, 71, 75, 30, 93, 26, 30, 84, 91, 93],\n",
    "           [39, 56, 13, 29, 55, 69, 26, 7, 55, 48, 22, 46, 50, 96, 17],\n",
    "           [57, 14, 8, 13, 95, 53, 78, 24, 92, 90, 68, 87, 43, 75, 94],\n",
    "           [93, 92, 18, 28, 27, 40, 56, 83, 51, 15, 97, 48, 53, 78, 39],\n",
    "           [47, 34, 42, 28, 11, 11, 30, 14, 10, 4, 20, 92, 19, 59, 28],\n",
    "           [69, 82, 64, 40, 27, 82, 27, 43, 56, 17, 18, 20, 98, 43, 68],\n",
    "           [84, 26, 87, 61, 95, 23, 88, 89, 49, 84, 12, 51, 3, 44, 20],\n",
    "           [43, 54, 18, 72, 70, 28, 20, 22, 59, 36, 85, 13, 73, 29, 45],\n",
    "           [7, 97, 4, 22, 74, 45, 62, 95, 66, 14, 40, 23, 79, 34, 8]]\n",
    "\n",
    "machines11 = [[4, 12, 15, 2, 11, 3, 5, 8, 1, 13, 6, 10, 7, 14, 9],\n",
    "              [6, 1, 4, 9, 5, 2, 13, 15, 7, 8, 11, 3, 10, 14, 12],\n",
    "              [3, 4, 15, 1, 10, 13, 6, 5, 8, 11, 9, 12, 14, 2, 7],\n",
    "              [9, 11, 2, 14, 4, 5, 15, 10, 3, 6, 12, 8, 1, 7, 13],\n",
    "              [15, 9, 2, 3, 11, 10, 13, 5, 7, 6, 1, 14, 4, 12, 8],\n",
    "              [4, 11, 2, 6, 7, 1, 9, 8, 12, 14, 3, 15, 13, 10, 5],\n",
    "              [3, 11, 2, 13, 9, 1, 8, 7, 15, 14, 5, 4, 6, 10, 12],\n",
    "              [2, 1, 3, 5, 8, 14, 12, 4, 13, 6, 7, 15, 10, 9, 11],\n",
    "              [5, 6, 10, 11, 8, 7, 3, 2, 13, 4, 14, 1, 9, 15, 12],\n",
    "              [2, 5, 4, 11, 15, 1, 7, 14, 12, 9, 6, 13, 8, 10, 3],\n",
    "              [4, 11, 2, 1, 10, 9, 15, 7, 5, 8, 3, 13, 6, 12, 14],\n",
    "              [3, 8, 7, 9, 4, 6, 15, 5, 2, 1, 10, 11, 14, 12, 13],\n",
    "              [1, 8, 15, 9, 13, 11, 10, 4, 7, 2, 5, 3, 12, 14, 6],\n",
    "              [13, 4, 10, 5, 2, 1, 11, 7, 6, 3, 15, 14, 8, 9, 12],\n",
    "              [4, 15, 7, 6, 14, 10, 2, 1, 13, 8, 3, 5, 11, 9, 12],\n",
    "              [6, 15, 7, 13, 9, 3, 5, 10, 12, 14, 4, 2, 8, 1, 11],\n",
    "              [4, 8, 11, 15, 1, 9, 2, 12, 6, 14, 5, 13, 7, 10, 3],\n",
    "              [11, 9, 3, 12, 14, 7, 15, 4, 10, 8, 5, 6, 13, 1, 2],\n",
    "              [4, 3, 13, 14, 2, 7, 15, 6, 5, 9, 10, 12, 1, 11, 8],\n",
    "              [12, 15, 6, 7, 11, 10, 14, 2, 5, 9, 1, 4, 13, 3, 8]]"
   ]
  },
  {
   "cell_type": "markdown",
   "id": "c0a2e1bb",
   "metadata": {},
   "source": [
    "# Genetic algorithm\n",
    "## Functions for GA implementation\n",
    "- generate_population\n",
    "- fitness_function\n",
    "- do_mutation\n",
    "- do_crossover\n",
    "- select"
   ]
  },
  {
   "cell_type": "code",
   "execution_count": 17,
   "id": "1179de53",
   "metadata": {},
   "outputs": [],
   "source": [
    "import numpy as np\n",
    "\n",
    "# Generate the initial population\n",
    "\n",
    "def generate_population(population_size, jobs_number, machines_number):\n",
    "    population = []\n",
    "    unshuffled_chromosome = [i % jobs_number for i in range (jobs_number * machines_number)]\n",
    "    while len(population) < population_size:\n",
    "        chromosome = []\n",
    "        np.random.shuffle(unshuffled_chromosome)\n",
    "        chromosome = unshuffled_chromosome.copy()\n",
    "        if chromosome not in population:\n",
    "            population.append(chromosome)\n",
    "    return population\n",
    "\n",
    "\n",
    "# Compute the fitness of the chromosome \n",
    "\n",
    "def fitness_function(chromosome, times, machines):\n",
    "    jobs_number = len(machines)\n",
    "    machines_number = len(machines[0])\n",
    "    jobs_time = [0 for i in range (jobs_number)]\n",
    "    machines_time = [0 for i in range (machines_number)]\n",
    "    current_operations = [0 for i in range (jobs_number)]\n",
    "    \n",
    "    for job in chromosome:\n",
    "        operation = current_operations[job]\n",
    "        time = times[job][operation]\n",
    "        machine = machines[job][operation] - 1\n",
    "        \n",
    "        if jobs_time[job] + time > machines_time[machine] + time:\n",
    "            jobs_time[job] += time\n",
    "            machines_time[machine] = jobs_time[job]\n",
    "        else:\n",
    "            machines_time[machine] += time\n",
    "            jobs_time[job] = machines_time[machine]\n",
    "            \n",
    "        current_operations[job] += 1\n",
    "        \n",
    "    return max(jobs_time)  \n",
    "\n",
    "\n",
    "# Mutate the chromosome\n",
    "\n",
    "def do_mutation(chromosome):\n",
    "    j = np.random.randint(1, len(chromosome))\n",
    "    i = np.random.randint(0, j)\n",
    "    \n",
    "    new_chromosome = chromosome.copy()\n",
    "    value = new_chromosome.pop(j)\n",
    "    new_chromosome.insert(i, value)\n",
    "    \n",
    "    return new_chromosome\n",
    "\n",
    "\n",
    "# Crossover of two chromosomes\n",
    "\n",
    "def do_crossover(parent1, parent2):\n",
    "    m = np.random.randint(len(parent1) // 2, len(parent1))\n",
    "    \n",
    "    child1 = parent1.copy()\n",
    "    child2 = parent2.copy()\n",
    "    \n",
    "    for i in range (len(parent2) - 1, m - 1, -1):\n",
    "        counter = parent2[:i+1].count(parent2[i])\n",
    "        for j in range(len(child1) - 1, -1, -1):\n",
    "            if child1[j] == parent2[i] and child1[0:j+1].count(child1[j]) == counter:\n",
    "                child1.pop(j)\n",
    "                break\n",
    "    for i in range (len(parent1) - 1, m - 1, -1):\n",
    "        counter = parent1[:i+1].count(parent1[i])\n",
    "        for j in range(len(child2) - 1, -1, -1):\n",
    "            if child2[j] == parent1[i] and child2[0:j+1].count(child2[j]) == counter:\n",
    "                child2.pop(j)\n",
    "                break           \n",
    "    \n",
    "    child1 += parent2[m:]\n",
    "    child2 += parent1[m:]\n",
    "    \n",
    "    return child1, child2\n",
    "\n",
    "\n",
    "# Select the best fitted chromosomes in populations\n",
    "\n",
    "def select(population, size, times, machines):\n",
    "    population = sorted(population, key=lambda s: fitness_function(s, times, machines))\n",
    "    return population[:size]"
   ]
  },
  {
   "cell_type": "markdown",
   "id": "4fe28b44",
   "metadata": {},
   "source": [
    "## Main GA function\n",
    "Params:\n",
    "- times -- times matrix\n",
    "- machine -- machine matrix\n",
    "- k -- size of initial population\n",
    "- generations -- number of generations\n",
    "- mutation_rate -- probability of mutation\n",
    "- early_stop -- number of unimproved generations\n",
    "- keep_parents -- whether the algorithm keep the parents"
   ]
  },
  {
   "cell_type": "code",
   "execution_count": 18,
   "id": "d6f945a0",
   "metadata": {},
   "outputs": [],
   "source": [
    "def GA(times, machines, k=50, generations=100, \n",
    "       mutation_rate=0.3, early_stop=10, keep_parents=False):\n",
    "    # Get the initial population\n",
    "    generation = generate_population(k, len(times), len(times[0]))\n",
    "    \n",
    "    # Calculate the initial fitness\n",
    "    previous_fitness = fitness_function(generation[0], times, machines)\n",
    "    early_stop_flag = early_stop\n",
    "    \n",
    "    for _ in range(generations):\n",
    "        generation = select(generation, k, times, machines)\n",
    "        \n",
    "        # The best fitness in the generation\n",
    "        generation_fitness = fitness_function(generation[0], times, machines)\n",
    "        \n",
    "        #print(generation_fitness)\n",
    "        \n",
    "        # Early stop if fitness does not improve\n",
    "        if previous_fitness - generation_fitness == 0:\n",
    "            early_stop_flag -= 1\n",
    "        else:\n",
    "            early_stop_flag = early_stop\n",
    "            \n",
    "        if early_stop_flag == 0:\n",
    "            break\n",
    "        previous_fitness = generation_fitness\n",
    "        \n",
    "        next_generation = []\n",
    "        \n",
    "        if keep_parents:\n",
    "            next_generation.extend(generation)\n",
    "        \n",
    "        # Crossover\n",
    "        for i in range(len(generation)):\n",
    "            for j in range(i+1, len(generation)):\n",
    "                child1, child2 = do_crossover(generation[i], generation[j])\n",
    "                next_generation.append(child1)\n",
    "                next_generation.append(child2)\n",
    "        \n",
    "            # Mutation\n",
    "            if np.random.rand() < mutation_rate:\n",
    "                next_generation.append(do_mutation(generation[i]))\n",
    "                \n",
    "        generation = next_generation\n",
    "        \n",
    "    # Return the best solution\n",
    "    best_schedule = select(generation, 1, times, machines)[0]\n",
    "    best_fitness = fitness_function(best_schedule, times, machines)\n",
    "    \n",
    "    return best_schedule, best_fitness"
   ]
  },
  {
   "cell_type": "markdown",
   "id": "f830bb42",
   "metadata": {},
   "source": [
    "## Output_schedule function\n",
    "Output the schedule as the sequence of operation for each machine"
   ]
  },
  {
   "cell_type": "code",
   "execution_count": 19,
   "id": "a436fc8b",
   "metadata": {},
   "outputs": [],
   "source": [
    "# Output function\n",
    "\n",
    "def output_schedule(chromosome, machines):\n",
    "    \n",
    "    schedule = [None] * len(machines[0])\n",
    "    current_operations = [0 for i in range (len(machines))]\n",
    "    \n",
    "    for job in chromosome:\n",
    "        operation = current_operations[job]\n",
    "        machine = machines[job][operation] - 1\n",
    "        \n",
    "        if schedule[machine] == None:\n",
    "            schedule[machine] = [[job+1, operation+1]]\n",
    "        else:\n",
    "            schedule[machine].append([job+1, operation+1])\n",
    "        current_operations[job] += 1\n",
    "        \n",
    "    for i in range(len(schedule)):\n",
    "        print('Machine', i+1, '=')\n",
    "        print(*schedule[i])"
   ]
  },
  {
   "cell_type": "markdown",
   "id": "79d29751",
   "metadata": {},
   "source": [
    "## Visualization\n",
    "Using chart_studio.plotly library and Gantt chart where 1 time unit = 1 second"
   ]
  },
  {
   "cell_type": "code",
   "execution_count": 105,
   "id": "ab555903",
   "metadata": {},
   "outputs": [],
   "source": [
    "import pandas as pd\n",
    "import chart_studio.plotly as py\n",
    "import plotly.express as px\n",
    "import datetime\n",
    "\n",
    "def gantt_chart(schedule, times, machines):\n",
    "    current_operations = [0 for i in range (len(machines))]\n",
    "    \n",
    "    machine_keys=[j+1 for j in range(len(times[0]))]\n",
    "    job_keys=[j for j in range(len(times))]\n",
    "    job_count={key:0 for key in job_keys}\n",
    "    machine_count={key:0 for key in machine_keys}\n",
    "    job_record={}\n",
    "    \n",
    "    for job in schedule:\n",
    "        operation = current_operations[job]\n",
    "        time = times[job][operation]\n",
    "        machine = machines[job][operation]\n",
    "        \n",
    "        job_count[job] += time\n",
    "        machine_count[machine] += time\n",
    "        \n",
    "        if machine_count[machine] < job_count[job]:\n",
    "            machine_count[machine]=job_count[job]\n",
    "        else:\n",
    "            job_count[job]=machine_count[machine]\n",
    "            \n",
    "        start_time=str(datetime.timedelta(seconds=job_count[job]-time))\n",
    "        end_time=str(datetime.timedelta(seconds=job_count[job]))\n",
    "\n",
    "        job_record[(job, machine)]=[start_time,end_time]\n",
    "\n",
    "        current_operations[job] += 1\n",
    "        \n",
    "    df=[]\n",
    "    for m in machine_keys:\n",
    "        for j in job_keys:\n",
    "            df.append(dict(Task='Machine %s'%(m), Start='2023-05-05 %s'%(str(job_record[(j, m)][0])),\n",
    "                           Finish='2023-05-05 %s'%(str(job_record[(j, m)][1])), Resource='Job %s'%(j+1)))\n",
    "    \n",
    "    fig = px.timeline(df, x_start=\"Start\", x_end=\"Finish\", y=\"Task\", color=\"Resource\")\n",
    "    fig.update_yaxes(autorange=\"reversed\")\n",
    "    fig.show()"
   ]
  },
  {
   "cell_type": "markdown",
   "id": "e090a567",
   "metadata": {},
   "source": [
    "# Experiments\n",
    "## ta01"
   ]
  },
  {
   "cell_type": "code",
   "execution_count": 85,
   "id": "f0697470",
   "metadata": {},
   "outputs": [
    {
     "name": "stdout",
     "output_type": "stream",
     "text": [
      "Makespan: 1488\n",
      "\n",
      "Machine 1 =\n",
      "[12, 3] [9, 5] [10, 6] [8, 3] [11, 4] [4, 6] [13, 8] [3, 9] [15, 10] [6, 12] [2, 11] [5, 14] [7, 13] [1, 14] [14, 15]\n",
      "Machine 2 =\n",
      "[3, 1] [9, 6] [7, 7] [14, 8] [15, 6] [8, 8] [13, 11] [6, 10] [10, 11] [12, 12] [5, 11] [11, 12] [4, 14] [2, 14] [1, 15]\n",
      "Machine 3 =\n",
      "[12, 1] [4, 2] [10, 4] [1, 6] [5, 7] [13, 4] [6, 9] [9, 7] [8, 9] [3, 10] [15, 13] [7, 11] [11, 15] [14, 14] [2, 15]\n",
      "Machine 4 =\n",
      "[6, 2] [7, 2] [1, 5] [13, 5] [10, 8] [8, 12] [11, 11] [15, 12] [12, 13] [2, 12] [14, 13] [3, 14] [5, 15] [4, 15] [9, 15]\n",
      "Machine 5 =\n",
      "[2, 1] [11, 1] [14, 3] [5, 5] [1, 3] [6, 6] [15, 5] [4, 8] [13, 10] [8, 11] [9, 10] [3, 13] [7, 9] [10, 14] [12, 15]\n",
      "Machine 6 =\n",
      "[6, 1] [4, 1] [2, 2] [13, 1] [14, 5] [8, 2] [11, 5] [12, 8] [3, 8] [9, 8] [5, 10] [7, 10] [1, 13] [10, 15] [15, 15]\n",
      "Machine 7 =\n",
      "[1, 1] [5, 3] [10, 1] [9, 3] [12, 5] [4, 4] [14, 6] [7, 6] [15, 4] [13, 6] [3, 5] [11, 7] [2, 9] [8, 14] [6, 14]\n",
      "Machine 8 =\n",
      "[5, 1] [2, 3] [11, 2] [7, 3] [1, 4] [8, 4] [6, 8] [12, 7] [10, 10] [4, 9] [14, 10] [3, 11] [15, 11] [9, 12] [13, 14]\n",
      "Machine 9 =\n",
      "[5, 2] [14, 1] [3, 2] [13, 2] [15, 2] [7, 4] [10, 5] [2, 6] [1, 9] [12, 9] [11, 8] [8, 10] [9, 11] [4, 12] [6, 15]\n",
      "Machine 10 =\n",
      "[4, 3] [3, 3] [10, 3] [5, 6] [14, 7] [2, 8] [13, 7] [12, 10] [8, 13] [1, 11] [9, 13] [11, 14] [15, 14] [6, 13] [7, 15]\n",
      "Machine 11 =\n",
      "[15, 1] [9, 1] [5, 4] [13, 3] [4, 5] [12, 6] [1, 7] [10, 9] [11, 10] [6, 11] [3, 12] [14, 12] [2, 10] [7, 12] [8, 15]\n",
      "Machine 12 =\n",
      "[9, 2] [10, 2] [6, 5] [8, 1] [2, 7] [1, 8] [3, 6] [15, 9] [14, 11] [13, 12] [7, 8] [4, 11] [5, 13] [11, 13] [12, 14]\n",
      "Machine 13 =\n",
      "[7, 1] [6, 3] [1, 2] [12, 4] [15, 3] [8, 5] [3, 4] [11, 6] [5, 9] [14, 9] [9, 9] [10, 12] [13, 13] [4, 13] [2, 13]\n",
      "Machine 14 =\n",
      "[6, 4] [14, 4] [11, 3] [2, 5] [10, 7] [4, 7] [8, 6] [15, 7] [13, 9] [3, 7] [12, 11] [1, 12] [5, 12] [9, 14] [7, 14]\n",
      "Machine 15 =\n",
      "[12, 2] [14, 2] [2, 4] [9, 4] [7, 5] [6, 7] [5, 8] [8, 7] [15, 8] [11, 9] [1, 10] [4, 10] [10, 13] [3, 15] [13, 15]\n"
     ]
    }
   ],
   "source": [
    "schedule, fit = GA(times1, machines1)\n",
    "print('Makespan:', fit)\n",
    "print()\n",
    "output_schedule(schedule, machines1)"
   ]
  },
  {
   "cell_type": "code",
   "execution_count": 86,
   "id": "fd8221ef",
   "metadata": {},
   "outputs": [
    {
     "data": {
      "application/vnd.plotly.v1+json": {
       "config": {
        "plotlyServerURL": "https://plot.ly"
       },
       "data": [
        {
         "alignmentgroup": "True",
         "base": [
          "2023-05-05 0:22:15",
          "2023-05-05 0:23:25",
          "2023-05-05 0:05:47",
          "2023-05-05 0:05:21",
          "2023-05-05 0:04:11",
          "2023-05-05 0:19:57",
          "2023-05-05 0:00:00",
          "2023-05-05 0:04:28",
          "2023-05-05 0:09:33",
          "2023-05-05 0:16:14",
          "2023-05-05 0:07:06",
          "2023-05-05 0:08:11",
          "2023-05-05 0:02:58",
          "2023-05-05 0:17:47",
          "2023-05-05 0:14:14"
         ],
         "hovertemplate": "Resource=Job 1<br>Start=%{base}<br>Finish=%{x}<br>Task=%{y}<extra></extra>",
         "legendgroup": "Job 1",
         "marker": {
          "color": "#636efa",
          "pattern": {
           "shape": ""
          }
         },
         "name": "Job 1",
         "offsetgroup": "Job 1",
         "orientation": "h",
         "showlegend": true,
         "textposition": "auto",
         "type": "bar",
         "x": [
          70000,
          83000,
          15000,
          26000,
          10000,
          96000,
          94000,
          53000,
          10000,
          93000,
          65000,
          82000,
          66000,
          92000,
          27000
         ],
         "xaxis": "x",
         "y": [
          "Machine 1",
          "Machine 2",
          "Machine 3",
          "Machine 4",
          "Machine 5",
          "Machine 6",
          "Machine 7",
          "Machine 8",
          "Machine 9",
          "Machine 10",
          "Machine 11",
          "Machine 12",
          "Machine 13",
          "Machine 14",
          "Machine 15"
         ],
         "yaxis": "y"
        },
        {
         "alignmentgroup": "True",
         "base": [
          "2023-05-05 0:18:29",
          "2023-05-05 0:21:35",
          "2023-05-05 0:23:14",
          "2023-05-05 0:20:15",
          "2023-05-05 0:00:00",
          "2023-05-05 0:01:42",
          "2023-05-05 0:12:53",
          "2023-05-05 0:02:13",
          "2023-05-05 0:06:22",
          "2023-05-05 0:08:17",
          "2023-05-05 0:17:10",
          "2023-05-05 0:07:40",
          "2023-05-05 0:21:06",
          "2023-05-05 0:05:24",
          "2023-05-05 0:03:41"
         ],
         "hovertemplate": "Resource=Job 2<br>Start=%{base}<br>Finish=%{x}<br>Task=%{y}<extra></extra>",
         "legendgroup": "Job 2",
         "marker": {
          "color": "#EF553B",
          "pattern": {
           "shape": ""
          }
         },
         "name": "Job 2",
         "offsetgroup": "Job 2",
         "orientation": "h",
         "showlegend": true,
         "textposition": "auto",
         "type": "bar",
         "x": [
          18000,
          99000,
          33000,
          51000,
          74000,
          31000,
          91000,
          88000,
          78000,
          7000,
          79000,
          8000,
          18000,
          57000,
          51000
         ],
         "xaxis": "x",
         "y": [
          "Machine 1",
          "Machine 2",
          "Machine 3",
          "Machine 4",
          "Machine 5",
          "Machine 6",
          "Machine 7",
          "Machine 8",
          "Machine 9",
          "Machine 10",
          "Machine 11",
          "Machine 12",
          "Machine 13",
          "Machine 14",
          "Machine 15"
         ],
         "yaxis": "y"
        },
        {
         "alignmentgroup": "True",
         "base": [
          "2023-05-05 0:12:56",
          "2023-05-05 0:00:00",
          "2023-05-05 0:13:50",
          "2023-05-05 0:21:22",
          "2023-05-05 0:16:40",
          "2023-05-05 0:12:50",
          "2023-05-05 0:10:04",
          "2023-05-05 0:14:58",
          "2023-05-05 0:02:09",
          "2023-05-05 0:03:31",
          "2023-05-05 0:16:20",
          "2023-05-05 0:10:54",
          "2023-05-05 0:08:38",
          "2023-05-05 0:12:29",
          "2023-05-05 0:21:57"
         ],
         "hovertemplate": "Resource=Job 3<br>Start=%{base}<br>Finish=%{x}<br>Task=%{y}<extra></extra>",
         "legendgroup": "Job 3",
         "marker": {
          "color": "#00cc96",
          "pattern": {
           "shape": ""
          }
         },
         "name": "Job 3",
         "offsetgroup": "Job 3",
         "orientation": "h",
         "showlegend": true,
         "textposition": "auto",
         "type": "bar",
         "x": [
          54000,
          4000,
          68000,
          35000,
          39000,
          6000,
          50000,
          82000,
          82000,
          40000,
          20000,
          54000,
          86000,
          21000,
          68000
         ],
         "xaxis": "x",
         "y": [
          "Machine 1",
          "Machine 2",
          "Machine 3",
          "Machine 4",
          "Machine 5",
          "Machine 6",
          "Machine 7",
          "Machine 8",
          "Machine 9",
          "Machine 10",
          "Machine 11",
          "Machine 12",
          "Machine 13",
          "Machine 14",
          "Machine 15"
         ],
         "yaxis": "y"
        },
        {
         "alignmentgroup": "True",
         "base": [
          "2023-05-05 0:07:03",
          "2023-05-05 0:20:03",
          "2023-05-05 0:01:42",
          "2023-05-05 0:23:33",
          "2023-05-05 0:09:53",
          "2023-05-05 0:00:29",
          "2023-05-05 0:05:19",
          "2023-05-05 0:12:54",
          "2023-05-05 0:17:58",
          "2023-05-05 0:02:05",
          "2023-05-05 0:06:10",
          "2023-05-05 0:17:01",
          "2023-05-05 0:18:54",
          "2023-05-05 0:08:37",
          "2023-05-05 0:14:41"
         ],
         "hovertemplate": "Resource=Job 4<br>Start=%{base}<br>Finish=%{x}<br>Task=%{y}<extra></extra>",
         "legendgroup": "Job 4",
         "marker": {
          "color": "#ab63fa",
          "pattern": {
           "shape": ""
          }
         },
         "name": "Job 4",
         "offsetgroup": "Job 4",
         "orientation": "h",
         "showlegend": true,
         "textposition": "auto",
         "type": "bar",
         "x": [
          94000,
          92000,
          23000,
          9000,
          93000,
          73000,
          30000,
          32000,
          56000,
          30000,
          53000,
          30000,
          27000,
          58000,
          91000
         ],
         "xaxis": "x",
         "y": [
          "Machine 1",
          "Machine 2",
          "Machine 3",
          "Machine 4",
          "Machine 5",
          "Machine 6",
          "Machine 7",
          "Machine 8",
          "Machine 9",
          "Machine 10",
          "Machine 11",
          "Machine 12",
          "Machine 13",
          "Machine 14",
          "Machine 15"
         ],
         "yaxis": "y"
        },
        {
         "alignmentgroup": "True",
         "base": [
          "2023-05-05 0:20:53",
          "2023-05-05 0:16:57",
          "2023-05-05 0:06:02",
          "2023-05-05 0:21:57",
          "2023-05-05 0:03:35",
          "2023-05-05 0:14:19",
          "2023-05-05 0:01:41",
          "2023-05-05 0:00:00",
          "2023-05-05 0:01:18",
          "2023-05-05 0:04:41",
          "2023-05-05 0:02:22",
          "2023-05-05 0:20:01",
          "2023-05-05 0:11:24",
          "2023-05-05 0:19:19",
          "2023-05-05 0:08:39"
         ],
         "hovertemplate": "Resource=Job 5<br>Start=%{base}<br>Finish=%{x}<br>Task=%{y}<extra></extra>",
         "legendgroup": "Job 5",
         "marker": {
          "color": "#FFA15A",
          "pattern": {
           "shape": ""
          }
         },
         "name": "Job 5",
         "offsetgroup": "Job 5",
         "orientation": "h",
         "showlegend": true,
         "textposition": "auto",
         "type": "bar",
         "x": [
          42000,
          93000,
          95000,
          96000,
          36000,
          76000,
          21000,
          78000,
          23000,
          29000,
          60000,
          52000,
          79000,
          42000,
          99000
         ],
         "xaxis": "x",
         "y": [
          "Machine 1",
          "Machine 2",
          "Machine 3",
          "Machine 4",
          "Machine 5",
          "Machine 6",
          "Machine 7",
          "Machine 8",
          "Machine 9",
          "Machine 10",
          "Machine 11",
          "Machine 12",
          "Machine 13",
          "Machine 14",
          "Machine 15"
         ],
         "yaxis": "y"
        },
        {
         "alignmentgroup": "True",
         "base": [
          "2023-05-05 0:15:53",
          "2023-05-05 0:14:37",
          "2023-05-05 0:10:02",
          "2023-05-05 0:00:29",
          "2023-05-05 0:04:24",
          "2023-05-05 0:00:00",
          "2023-05-05 0:22:56",
          "2023-05-05 0:08:39",
          "2023-05-05 0:23:10",
          "2023-05-05 0:21:54",
          "2023-05-05 0:15:03",
          "2023-05-05 0:04:08",
          "2023-05-05 0:01:30",
          "2023-05-05 0:02:58",
          "2023-05-05 0:07:34"
         ],
         "hovertemplate": "Resource=Job 6<br>Start=%{base}<br>Finish=%{x}<br>Task=%{y}<extra></extra>",
         "legendgroup": "Job 6",
         "marker": {
          "color": "#19d3f3",
          "pattern": {
           "shape": ""
          }
         },
         "name": "Job 6",
         "offsetgroup": "Job 6",
         "orientation": "h",
         "showlegend": true,
         "textposition": "auto",
         "type": "bar",
         "x": [
          87000,
          26000,
          78000,
          61000,
          31000,
          29000,
          14000,
          83000,
          30000,
          62000,
          50000,
          16000,
          88000,
          70000,
          65000
         ],
         "xaxis": "x",
         "y": [
          "Machine 1",
          "Machine 2",
          "Machine 3",
          "Machine 4",
          "Machine 5",
          "Machine 6",
          "Machine 7",
          "Machine 8",
          "Machine 9",
          "Machine 10",
          "Machine 11",
          "Machine 12",
          "Machine 13",
          "Machine 14",
          "Machine 15"
         ],
         "yaxis": "y"
        },
        {
         "alignmentgroup": "True",
         "base": [
          "2023-05-05 0:21:38",
          "2023-05-05 0:08:42",
          "2023-05-05 0:20:31",
          "2023-05-05 0:01:30",
          "2023-05-05 0:17:19",
          "2023-05-05 0:18:44",
          "2023-05-05 0:07:34",
          "2023-05-05 0:04:08",
          "2023-05-05 0:04:49",
          "2023-05-05 0:23:42",
          "2023-05-05 0:21:14",
          "2023-05-05 0:16:07",
          "2023-05-05 0:00:00",
          "2023-05-05 0:22:15",
          "2023-05-05 0:06:03"
         ],
         "hovertemplate": "Resource=Job 7<br>Start=%{base}<br>Finish=%{x}<br>Task=%{y}<extra></extra>",
         "legendgroup": "Job 7",
         "marker": {
          "color": "#FF6692",
          "pattern": {
           "shape": ""
          }
         },
         "name": "Job 7",
         "offsetgroup": "Job 7",
         "orientation": "h",
         "showlegend": true,
         "textposition": "auto",
         "type": "bar",
         "x": [
          37000,
          19000,
          43000,
          75000,
          85000,
          73000,
          68000,
          20000,
          4000,
          66000,
          24000,
          54000,
          18000,
          87000,
          91000
         ],
         "xaxis": "x",
         "y": [
          "Machine 1",
          "Machine 2",
          "Machine 3",
          "Machine 4",
          "Machine 5",
          "Machine 6",
          "Machine 7",
          "Machine 8",
          "Machine 9",
          "Machine 10",
          "Machine 11",
          "Machine 12",
          "Machine 13",
          "Machine 14",
          "Machine 15"
         ],
         "yaxis": "y"
        },
        {
         "alignmentgroup": "True",
         "base": [
          "2023-05-05 0:06:39",
          "2023-05-05 0:11:57",
          "2023-05-05 0:12:59",
          "2023-05-05 0:14:51",
          "2023-05-05 0:14:44",
          "2023-05-05 0:05:40",
          "2023-05-05 0:16:14",
          "2023-05-05 0:06:48",
          "2023-05-05 0:13:42",
          "2023-05-05 0:16:11",
          "2023-05-05 0:21:38",
          "2023-05-05 0:04:24",
          "2023-05-05 0:07:37",
          "2023-05-05 0:09:35",
          "2023-05-05 0:10:18"
         ],
         "hovertemplate": "Resource=Job 8<br>Start=%{base}<br>Finish=%{x}<br>Task=%{y}<extra></extra>",
         "legendgroup": "Job 8",
         "marker": {
          "color": "#B6E880",
          "pattern": {
           "shape": ""
          }
         },
         "name": "Job 8",
         "offsetgroup": "Job 8",
         "orientation": "h",
         "showlegend": true,
         "textposition": "auto",
         "type": "bar",
         "x": [
          9000,
          62000,
          6000,
          80000,
          7000,
          52000,
          57000,
          49000,
          62000,
          3000,
          7000,
          32000,
          61000,
          35000,
          99000
         ],
         "xaxis": "x",
         "y": [
          "Machine 1",
          "Machine 2",
          "Machine 3",
          "Machine 4",
          "Machine 5",
          "Machine 6",
          "Machine 7",
          "Machine 8",
          "Machine 9",
          "Machine 10",
          "Machine 11",
          "Machine 12",
          "Machine 13",
          "Machine 14",
          "Machine 15"
         ],
         "yaxis": "y"
        },
        {
         "alignmentgroup": "True",
         "base": [
          "2023-05-05 0:06:03",
          "2023-05-05 0:06:16",
          "2023-05-05 0:11:20",
          "2023-05-05 0:23:42",
          "2023-05-05 0:15:37",
          "2023-05-05 0:12:56",
          "2023-05-05 0:02:52",
          "2023-05-05 0:17:58",
          "2023-05-05 0:16:33",
          "2023-05-05 0:18:06",
          "2023-05-05 0:00:57",
          "2023-05-05 0:02:22",
          "2023-05-05 0:14:19",
          "2023-05-05 0:20:01",
          "2023-05-05 0:04:32"
         ],
         "hovertemplate": "Resource=Job 9<br>Start=%{base}<br>Finish=%{x}<br>Task=%{y}<extra></extra>",
         "legendgroup": "Job 9",
         "marker": {
          "color": "#FF97FF",
          "pattern": {
           "shape": ""
          }
         },
         "name": "Job 9",
         "offsetgroup": "Job 9",
         "orientation": "h",
         "showlegend": true,
         "textposition": "auto",
         "type": "bar",
         "x": [
          13000,
          87000,
          82000,
          15000,
          56000,
          83000,
          96000,
          8000,
          85000,
          66000,
          85000,
          30000,
          78000,
          88000,
          91000
         ],
         "xaxis": "x",
         "y": [
          "Machine 1",
          "Machine 2",
          "Machine 3",
          "Machine 4",
          "Machine 5",
          "Machine 6",
          "Machine 7",
          "Machine 8",
          "Machine 9",
          "Machine 10",
          "Machine 11",
          "Machine 12",
          "Machine 13",
          "Machine 14",
          "Machine 15"
         ],
         "yaxis": "y"
        },
        {
         "alignmentgroup": "True",
         "base": [
          "2023-05-05 0:06:22",
          "2023-05-05 0:15:03",
          "2023-05-05 0:04:41",
          "2023-05-05 0:08:28",
          "2023-05-05 0:18:44",
          "2023-05-05 0:21:33",
          "2023-05-05 0:02:02",
          "2023-05-05 0:11:26",
          "2023-05-05 0:05:41",
          "2023-05-05 0:04:11",
          "2023-05-05 0:09:57",
          "2023-05-05 0:02:52",
          "2023-05-05 0:16:12",
          "2023-05-05 0:06:39",
          "2023-05-05 0:16:57"
         ],
         "hovertemplate": "Resource=Job 10<br>Start=%{base}<br>Finish=%{x}<br>Task=%{y}<extra></extra>",
         "legendgroup": "Job 10",
         "marker": {
          "color": "#FECB52",
          "pattern": {
           "shape": ""
          }
         },
         "name": "Job 10",
         "offsetgroup": "Job 10",
         "orientation": "h",
         "showlegend": true,
         "textposition": "auto",
         "type": "bar",
         "x": [
          17000,
          69000,
          60000,
          89000,
          6000,
          13000,
          5000,
          88000,
          41000,
          30000,
          78000,
          59000,
          45000,
          66000,
          82000
         ],
         "xaxis": "x",
         "y": [
          "Machine 1",
          "Machine 2",
          "Machine 3",
          "Machine 4",
          "Machine 5",
          "Machine 6",
          "Machine 7",
          "Machine 8",
          "Machine 9",
          "Machine 10",
          "Machine 11",
          "Machine 12",
          "Machine 13",
          "Machine 14",
          "Machine 15"
         ],
         "yaxis": "y"
        },
        {
         "alignmentgroup": "True",
         "base": [
          "2023-05-05 0:06:48",
          "2023-05-05 0:18:30",
          "2023-05-05 0:21:34",
          "2023-05-05 0:16:11",
          "2023-05-05 0:01:14",
          "2023-05-05 0:06:56",
          "2023-05-05 0:11:24",
          "2023-05-05 0:03:41",
          "2023-05-05 0:12:53",
          "2023-05-05 0:20:59",
          "2023-05-05 0:14:14",
          "2023-05-05 0:20:53",
          "2023-05-05 0:10:04",
          "2023-05-05 0:05:23",
          "2023-05-05 0:13:42"
         ],
         "hovertemplate": "Resource=Job 11<br>Start=%{base}<br>Finish=%{x}<br>Task=%{y}<extra></extra>",
         "legendgroup": "Job 11",
         "marker": {
          "color": "#636efa",
          "pattern": {
           "shape": ""
          }
         },
         "name": "Job 11",
         "offsetgroup": "Job 11",
         "orientation": "h",
         "showlegend": true,
         "textposition": "auto",
         "type": "bar",
         "x": [
          8000,
          93000,
          73000,
          90000,
          90000,
          91000,
          89000,
          27000,
          49000,
          35000,
          28000,
          6000,
          80000,
          1000,
          32000
         ],
         "xaxis": "x",
         "y": [
          "Machine 1",
          "Machine 2",
          "Machine 3",
          "Machine 4",
          "Machine 5",
          "Machine 6",
          "Machine 7",
          "Machine 8",
          "Machine 9",
          "Machine 10",
          "Machine 11",
          "Machine 12",
          "Machine 13",
          "Machine 14",
          "Machine 15"
         ],
         "yaxis": "y"
        },
        {
         "alignmentgroup": "True",
         "base": [
          "2023-05-05 0:01:30",
          "2023-05-05 0:16:12",
          "2023-05-05 0:00:00",
          "2023-05-05 0:19:08",
          "2023-05-05 0:21:57",
          "2023-05-05 0:11:26",
          "2023-05-05 0:04:28",
          "2023-05-05 0:10:02",
          "2023-05-05 0:12:00",
          "2023-05-05 0:12:28",
          "2023-05-05 0:07:03",
          "2023-05-05 0:20:59",
          "2023-05-05 0:04:04",
          "2023-05-05 0:13:28",
          "2023-05-05 0:00:47"
         ],
         "hovertemplate": "Resource=Job 12<br>Start=%{base}<br>Finish=%{x}<br>Task=%{y}<extra></extra>",
         "legendgroup": "Job 12",
         "marker": {
          "color": "#EF553B",
          "pattern": {
           "shape": ""
          }
         },
         "name": "Job 12",
         "offsetgroup": "Job 12",
         "orientation": "h",
         "showlegend": true,
         "textposition": "auto",
         "type": "bar",
         "x": [
          75000,
          45000,
          47000,
          67000,
          87000,
          34000,
          51000,
          84000,
          28000,
          60000,
          3000,
          58000,
          8000,
          69000,
          43000
         ],
         "xaxis": "x",
         "y": [
          "Machine 1",
          "Machine 2",
          "Machine 3",
          "Machine 4",
          "Machine 5",
          "Machine 6",
          "Machine 7",
          "Machine 8",
          "Machine 9",
          "Machine 10",
          "Machine 11",
          "Machine 12",
          "Machine 13",
          "Machine 14",
          "Machine 15"
         ],
         "yaxis": "y"
        },
        {
         "alignmentgroup": "True",
         "base": [
          "2023-05-05 0:10:22",
          "2023-05-05 0:13:49",
          "2023-05-05 0:07:37",
          "2023-05-05 0:07:57",
          "2023-05-05 0:12:29",
          "2023-05-05 0:02:13",
          "2023-05-05 0:09:16",
          "2023-05-05 0:18:12",
          "2023-05-05 0:03:31",
          "2023-05-05 0:09:49",
          "2023-05-05 0:04:33",
          "2023-05-05 0:14:37",
          "2023-05-05 0:16:57",
          "2023-05-05 0:11:39",
          "2023-05-05 0:23:05"
         ],
         "hovertemplate": "Resource=Job 13<br>Start=%{base}<br>Finish=%{x}<br>Task=%{y}<extra></extra>",
         "legendgroup": "Job 13",
         "marker": {
          "color": "#00cc96",
          "pattern": {
           "shape": ""
          }
         },
         "name": "Job 13",
         "offsetgroup": "Job 13",
         "orientation": "h",
         "showlegend": true,
         "textposition": "auto",
         "type": "bar",
         "x": [
          77000,
          48000,
          20000,
          31000,
          80000,
          65000,
          33000,
          96000,
          62000,
          33000,
          97000,
          90000,
          75000,
          50000,
          44000
         ],
         "xaxis": "x",
         "y": [
          "Machine 1",
          "Machine 2",
          "Machine 3",
          "Machine 4",
          "Machine 5",
          "Machine 6",
          "Machine 7",
          "Machine 8",
          "Machine 9",
          "Machine 10",
          "Machine 11",
          "Machine 12",
          "Machine 13",
          "Machine 14",
          "Machine 15"
         ],
         "yaxis": "y"
        },
        {
         "alignmentgroup": "True",
         "base": [
          "2023-05-05 0:23:25",
          "2023-05-05 0:09:01",
          "2023-05-05 0:22:47",
          "2023-05-05 0:21:06",
          "2023-05-05 0:02:44",
          "2023-05-05 0:05:23",
          "2023-05-05 0:05:49",
          "2023-05-05 0:13:46",
          "2023-05-05 0:01:41",
          "2023-05-05 0:07:18",
          "2023-05-05 0:16:40",
          "2023-05-05 0:14:04",
          "2023-05-05 0:12:43",
          "2023-05-05 0:04:08",
          "2023-05-05 0:02:09"
         ],
         "hovertemplate": "Resource=Job 14<br>Start=%{base}<br>Finish=%{x}<br>Task=%{y}<extra></extra>",
         "legendgroup": "Job 14",
         "marker": {
          "color": "#ab63fa",
          "pattern": {
           "shape": ""
          }
         },
         "name": "Job 14",
         "offsetgroup": "Job 14",
         "orientation": "h",
         "showlegend": true,
         "textposition": "auto",
         "type": "bar",
         "x": [
          35000,
          56000,
          7000,
          16000,
          51000,
          17000,
          89000,
          18000,
          28000,
          59000,
          30000,
          17000,
          63000,
          75000,
          21000
         ],
         "xaxis": "x",
         "y": [
          "Machine 1",
          "Machine 2",
          "Machine 3",
          "Machine 4",
          "Machine 5",
          "Machine 6",
          "Machine 7",
          "Machine 8",
          "Machine 9",
          "Machine 10",
          "Machine 11",
          "Machine 12",
          "Machine 13",
          "Machine 14",
          "Machine 15"
         ],
         "yaxis": "y"
        },
        {
         "alignmentgroup": "True",
         "base": [
          "2023-05-05 0:13:50",
          "2023-05-05 0:09:57",
          "2023-05-05 0:19:08",
          "2023-05-05 0:17:41",
          "2023-05-05 0:09:16",
          "2023-05-05 0:21:54",
          "2023-05-05 0:08:42",
          "2023-05-05 0:16:20",
          "2023-05-05 0:04:33",
          "2023-05-05 0:21:34",
          "2023-05-05 0:00:00",
          "2023-05-05 0:13:10",
          "2023-05-05 0:04:49",
          "2023-05-05 0:10:23",
          "2023-05-05 0:11:57"
         ],
         "hovertemplate": "Resource=Job 15<br>Start=%{base}<br>Finish=%{x}<br>Task=%{y}<extra></extra>",
         "legendgroup": "Job 15",
         "marker": {
          "color": "#FFA15A",
          "pattern": {
           "shape": ""
          }
         },
         "name": "Job 15",
         "offsetgroup": "Job 15",
         "orientation": "h",
         "showlegend": true,
         "textposition": "auto",
         "type": "bar",
         "x": [
          8000,
          26000,
          83000,
          87000,
          37000,
          97000,
          34000,
          12000,
          16000,
          20000,
          57000,
          5000,
          42000,
          68000,
          73000
         ],
         "xaxis": "x",
         "y": [
          "Machine 1",
          "Machine 2",
          "Machine 3",
          "Machine 4",
          "Machine 5",
          "Machine 6",
          "Machine 7",
          "Machine 8",
          "Machine 9",
          "Machine 10",
          "Machine 11",
          "Machine 12",
          "Machine 13",
          "Machine 14",
          "Machine 15"
         ],
         "yaxis": "y"
        }
       ],
       "layout": {
        "barmode": "overlay",
        "legend": {
         "title": {
          "text": "Resource"
         },
         "tracegroupgap": 0
        },
        "margin": {
         "t": 60
        },
        "template": {
         "data": {
          "bar": [
           {
            "error_x": {
             "color": "#2a3f5f"
            },
            "error_y": {
             "color": "#2a3f5f"
            },
            "marker": {
             "line": {
              "color": "#E5ECF6",
              "width": 0.5
             },
             "pattern": {
              "fillmode": "overlay",
              "size": 10,
              "solidity": 0.2
             }
            },
            "type": "bar"
           }
          ],
          "barpolar": [
           {
            "marker": {
             "line": {
              "color": "#E5ECF6",
              "width": 0.5
             },
             "pattern": {
              "fillmode": "overlay",
              "size": 10,
              "solidity": 0.2
             }
            },
            "type": "barpolar"
           }
          ],
          "carpet": [
           {
            "aaxis": {
             "endlinecolor": "#2a3f5f",
             "gridcolor": "white",
             "linecolor": "white",
             "minorgridcolor": "white",
             "startlinecolor": "#2a3f5f"
            },
            "baxis": {
             "endlinecolor": "#2a3f5f",
             "gridcolor": "white",
             "linecolor": "white",
             "minorgridcolor": "white",
             "startlinecolor": "#2a3f5f"
            },
            "type": "carpet"
           }
          ],
          "choropleth": [
           {
            "colorbar": {
             "outlinewidth": 0,
             "ticks": ""
            },
            "type": "choropleth"
           }
          ],
          "contour": [
           {
            "colorbar": {
             "outlinewidth": 0,
             "ticks": ""
            },
            "colorscale": [
             [
              0,
              "#0d0887"
             ],
             [
              0.1111111111111111,
              "#46039f"
             ],
             [
              0.2222222222222222,
              "#7201a8"
             ],
             [
              0.3333333333333333,
              "#9c179e"
             ],
             [
              0.4444444444444444,
              "#bd3786"
             ],
             [
              0.5555555555555556,
              "#d8576b"
             ],
             [
              0.6666666666666666,
              "#ed7953"
             ],
             [
              0.7777777777777778,
              "#fb9f3a"
             ],
             [
              0.8888888888888888,
              "#fdca26"
             ],
             [
              1,
              "#f0f921"
             ]
            ],
            "type": "contour"
           }
          ],
          "contourcarpet": [
           {
            "colorbar": {
             "outlinewidth": 0,
             "ticks": ""
            },
            "type": "contourcarpet"
           }
          ],
          "heatmap": [
           {
            "colorbar": {
             "outlinewidth": 0,
             "ticks": ""
            },
            "colorscale": [
             [
              0,
              "#0d0887"
             ],
             [
              0.1111111111111111,
              "#46039f"
             ],
             [
              0.2222222222222222,
              "#7201a8"
             ],
             [
              0.3333333333333333,
              "#9c179e"
             ],
             [
              0.4444444444444444,
              "#bd3786"
             ],
             [
              0.5555555555555556,
              "#d8576b"
             ],
             [
              0.6666666666666666,
              "#ed7953"
             ],
             [
              0.7777777777777778,
              "#fb9f3a"
             ],
             [
              0.8888888888888888,
              "#fdca26"
             ],
             [
              1,
              "#f0f921"
             ]
            ],
            "type": "heatmap"
           }
          ],
          "heatmapgl": [
           {
            "colorbar": {
             "outlinewidth": 0,
             "ticks": ""
            },
            "colorscale": [
             [
              0,
              "#0d0887"
             ],
             [
              0.1111111111111111,
              "#46039f"
             ],
             [
              0.2222222222222222,
              "#7201a8"
             ],
             [
              0.3333333333333333,
              "#9c179e"
             ],
             [
              0.4444444444444444,
              "#bd3786"
             ],
             [
              0.5555555555555556,
              "#d8576b"
             ],
             [
              0.6666666666666666,
              "#ed7953"
             ],
             [
              0.7777777777777778,
              "#fb9f3a"
             ],
             [
              0.8888888888888888,
              "#fdca26"
             ],
             [
              1,
              "#f0f921"
             ]
            ],
            "type": "heatmapgl"
           }
          ],
          "histogram": [
           {
            "marker": {
             "pattern": {
              "fillmode": "overlay",
              "size": 10,
              "solidity": 0.2
             }
            },
            "type": "histogram"
           }
          ],
          "histogram2d": [
           {
            "colorbar": {
             "outlinewidth": 0,
             "ticks": ""
            },
            "colorscale": [
             [
              0,
              "#0d0887"
             ],
             [
              0.1111111111111111,
              "#46039f"
             ],
             [
              0.2222222222222222,
              "#7201a8"
             ],
             [
              0.3333333333333333,
              "#9c179e"
             ],
             [
              0.4444444444444444,
              "#bd3786"
             ],
             [
              0.5555555555555556,
              "#d8576b"
             ],
             [
              0.6666666666666666,
              "#ed7953"
             ],
             [
              0.7777777777777778,
              "#fb9f3a"
             ],
             [
              0.8888888888888888,
              "#fdca26"
             ],
             [
              1,
              "#f0f921"
             ]
            ],
            "type": "histogram2d"
           }
          ],
          "histogram2dcontour": [
           {
            "colorbar": {
             "outlinewidth": 0,
             "ticks": ""
            },
            "colorscale": [
             [
              0,
              "#0d0887"
             ],
             [
              0.1111111111111111,
              "#46039f"
             ],
             [
              0.2222222222222222,
              "#7201a8"
             ],
             [
              0.3333333333333333,
              "#9c179e"
             ],
             [
              0.4444444444444444,
              "#bd3786"
             ],
             [
              0.5555555555555556,
              "#d8576b"
             ],
             [
              0.6666666666666666,
              "#ed7953"
             ],
             [
              0.7777777777777778,
              "#fb9f3a"
             ],
             [
              0.8888888888888888,
              "#fdca26"
             ],
             [
              1,
              "#f0f921"
             ]
            ],
            "type": "histogram2dcontour"
           }
          ],
          "mesh3d": [
           {
            "colorbar": {
             "outlinewidth": 0,
             "ticks": ""
            },
            "type": "mesh3d"
           }
          ],
          "parcoords": [
           {
            "line": {
             "colorbar": {
              "outlinewidth": 0,
              "ticks": ""
             }
            },
            "type": "parcoords"
           }
          ],
          "pie": [
           {
            "automargin": true,
            "type": "pie"
           }
          ],
          "scatter": [
           {
            "fillpattern": {
             "fillmode": "overlay",
             "size": 10,
             "solidity": 0.2
            },
            "type": "scatter"
           }
          ],
          "scatter3d": [
           {
            "line": {
             "colorbar": {
              "outlinewidth": 0,
              "ticks": ""
             }
            },
            "marker": {
             "colorbar": {
              "outlinewidth": 0,
              "ticks": ""
             }
            },
            "type": "scatter3d"
           }
          ],
          "scattercarpet": [
           {
            "marker": {
             "colorbar": {
              "outlinewidth": 0,
              "ticks": ""
             }
            },
            "type": "scattercarpet"
           }
          ],
          "scattergeo": [
           {
            "marker": {
             "colorbar": {
              "outlinewidth": 0,
              "ticks": ""
             }
            },
            "type": "scattergeo"
           }
          ],
          "scattergl": [
           {
            "marker": {
             "colorbar": {
              "outlinewidth": 0,
              "ticks": ""
             }
            },
            "type": "scattergl"
           }
          ],
          "scattermapbox": [
           {
            "marker": {
             "colorbar": {
              "outlinewidth": 0,
              "ticks": ""
             }
            },
            "type": "scattermapbox"
           }
          ],
          "scatterpolar": [
           {
            "marker": {
             "colorbar": {
              "outlinewidth": 0,
              "ticks": ""
             }
            },
            "type": "scatterpolar"
           }
          ],
          "scatterpolargl": [
           {
            "marker": {
             "colorbar": {
              "outlinewidth": 0,
              "ticks": ""
             }
            },
            "type": "scatterpolargl"
           }
          ],
          "scatterternary": [
           {
            "marker": {
             "colorbar": {
              "outlinewidth": 0,
              "ticks": ""
             }
            },
            "type": "scatterternary"
           }
          ],
          "surface": [
           {
            "colorbar": {
             "outlinewidth": 0,
             "ticks": ""
            },
            "colorscale": [
             [
              0,
              "#0d0887"
             ],
             [
              0.1111111111111111,
              "#46039f"
             ],
             [
              0.2222222222222222,
              "#7201a8"
             ],
             [
              0.3333333333333333,
              "#9c179e"
             ],
             [
              0.4444444444444444,
              "#bd3786"
             ],
             [
              0.5555555555555556,
              "#d8576b"
             ],
             [
              0.6666666666666666,
              "#ed7953"
             ],
             [
              0.7777777777777778,
              "#fb9f3a"
             ],
             [
              0.8888888888888888,
              "#fdca26"
             ],
             [
              1,
              "#f0f921"
             ]
            ],
            "type": "surface"
           }
          ],
          "table": [
           {
            "cells": {
             "fill": {
              "color": "#EBF0F8"
             },
             "line": {
              "color": "white"
             }
            },
            "header": {
             "fill": {
              "color": "#C8D4E3"
             },
             "line": {
              "color": "white"
             }
            },
            "type": "table"
           }
          ]
         },
         "layout": {
          "annotationdefaults": {
           "arrowcolor": "#2a3f5f",
           "arrowhead": 0,
           "arrowwidth": 1
          },
          "autotypenumbers": "strict",
          "coloraxis": {
           "colorbar": {
            "outlinewidth": 0,
            "ticks": ""
           }
          },
          "colorscale": {
           "diverging": [
            [
             0,
             "#8e0152"
            ],
            [
             0.1,
             "#c51b7d"
            ],
            [
             0.2,
             "#de77ae"
            ],
            [
             0.3,
             "#f1b6da"
            ],
            [
             0.4,
             "#fde0ef"
            ],
            [
             0.5,
             "#f7f7f7"
            ],
            [
             0.6,
             "#e6f5d0"
            ],
            [
             0.7,
             "#b8e186"
            ],
            [
             0.8,
             "#7fbc41"
            ],
            [
             0.9,
             "#4d9221"
            ],
            [
             1,
             "#276419"
            ]
           ],
           "sequential": [
            [
             0,
             "#0d0887"
            ],
            [
             0.1111111111111111,
             "#46039f"
            ],
            [
             0.2222222222222222,
             "#7201a8"
            ],
            [
             0.3333333333333333,
             "#9c179e"
            ],
            [
             0.4444444444444444,
             "#bd3786"
            ],
            [
             0.5555555555555556,
             "#d8576b"
            ],
            [
             0.6666666666666666,
             "#ed7953"
            ],
            [
             0.7777777777777778,
             "#fb9f3a"
            ],
            [
             0.8888888888888888,
             "#fdca26"
            ],
            [
             1,
             "#f0f921"
            ]
           ],
           "sequentialminus": [
            [
             0,
             "#0d0887"
            ],
            [
             0.1111111111111111,
             "#46039f"
            ],
            [
             0.2222222222222222,
             "#7201a8"
            ],
            [
             0.3333333333333333,
             "#9c179e"
            ],
            [
             0.4444444444444444,
             "#bd3786"
            ],
            [
             0.5555555555555556,
             "#d8576b"
            ],
            [
             0.6666666666666666,
             "#ed7953"
            ],
            [
             0.7777777777777778,
             "#fb9f3a"
            ],
            [
             0.8888888888888888,
             "#fdca26"
            ],
            [
             1,
             "#f0f921"
            ]
           ]
          },
          "colorway": [
           "#636efa",
           "#EF553B",
           "#00cc96",
           "#ab63fa",
           "#FFA15A",
           "#19d3f3",
           "#FF6692",
           "#B6E880",
           "#FF97FF",
           "#FECB52"
          ],
          "font": {
           "color": "#2a3f5f"
          },
          "geo": {
           "bgcolor": "white",
           "lakecolor": "white",
           "landcolor": "#E5ECF6",
           "showlakes": true,
           "showland": true,
           "subunitcolor": "white"
          },
          "hoverlabel": {
           "align": "left"
          },
          "hovermode": "closest",
          "mapbox": {
           "style": "light"
          },
          "paper_bgcolor": "white",
          "plot_bgcolor": "#E5ECF6",
          "polar": {
           "angularaxis": {
            "gridcolor": "white",
            "linecolor": "white",
            "ticks": ""
           },
           "bgcolor": "#E5ECF6",
           "radialaxis": {
            "gridcolor": "white",
            "linecolor": "white",
            "ticks": ""
           }
          },
          "scene": {
           "xaxis": {
            "backgroundcolor": "#E5ECF6",
            "gridcolor": "white",
            "gridwidth": 2,
            "linecolor": "white",
            "showbackground": true,
            "ticks": "",
            "zerolinecolor": "white"
           },
           "yaxis": {
            "backgroundcolor": "#E5ECF6",
            "gridcolor": "white",
            "gridwidth": 2,
            "linecolor": "white",
            "showbackground": true,
            "ticks": "",
            "zerolinecolor": "white"
           },
           "zaxis": {
            "backgroundcolor": "#E5ECF6",
            "gridcolor": "white",
            "gridwidth": 2,
            "linecolor": "white",
            "showbackground": true,
            "ticks": "",
            "zerolinecolor": "white"
           }
          },
          "shapedefaults": {
           "line": {
            "color": "#2a3f5f"
           }
          },
          "ternary": {
           "aaxis": {
            "gridcolor": "white",
            "linecolor": "white",
            "ticks": ""
           },
           "baxis": {
            "gridcolor": "white",
            "linecolor": "white",
            "ticks": ""
           },
           "bgcolor": "#E5ECF6",
           "caxis": {
            "gridcolor": "white",
            "linecolor": "white",
            "ticks": ""
           }
          },
          "title": {
           "x": 0.05
          },
          "xaxis": {
           "automargin": true,
           "gridcolor": "white",
           "linecolor": "white",
           "ticks": "",
           "title": {
            "standoff": 15
           },
           "zerolinecolor": "white",
           "zerolinewidth": 2
          },
          "yaxis": {
           "automargin": true,
           "gridcolor": "white",
           "linecolor": "white",
           "ticks": "",
           "title": {
            "standoff": 15
           },
           "zerolinecolor": "white",
           "zerolinewidth": 2
          }
         }
        },
        "xaxis": {
         "anchor": "y",
         "domain": [
          0,
          1
         ],
         "type": "date"
        },
        "yaxis": {
         "anchor": "x",
         "autorange": "reversed",
         "domain": [
          0,
          1
         ],
         "title": {
          "text": "Task"
         }
        }
       }
      },
      "text/html": [
       "<div>                            <div id=\"cacca2de-26e5-452a-a898-16bec7bad5af\" class=\"plotly-graph-div\" style=\"height:525px; width:100%;\"></div>            <script type=\"text/javascript\">                require([\"plotly\"], function(Plotly) {                    window.PLOTLYENV=window.PLOTLYENV || {};                                    if (document.getElementById(\"cacca2de-26e5-452a-a898-16bec7bad5af\")) {                    Plotly.newPlot(                        \"cacca2de-26e5-452a-a898-16bec7bad5af\",                        [{\"alignmentgroup\":\"True\",\"base\":[\"2023-05-05 0:22:15\",\"2023-05-05 0:23:25\",\"2023-05-05 0:05:47\",\"2023-05-05 0:05:21\",\"2023-05-05 0:04:11\",\"2023-05-05 0:19:57\",\"2023-05-05 0:00:00\",\"2023-05-05 0:04:28\",\"2023-05-05 0:09:33\",\"2023-05-05 0:16:14\",\"2023-05-05 0:07:06\",\"2023-05-05 0:08:11\",\"2023-05-05 0:02:58\",\"2023-05-05 0:17:47\",\"2023-05-05 0:14:14\"],\"hovertemplate\":\"Resource=Job 1<br>Start=%{base}<br>Finish=%{x}<br>Task=%{y}<extra></extra>\",\"legendgroup\":\"Job 1\",\"marker\":{\"color\":\"#636efa\",\"pattern\":{\"shape\":\"\"}},\"name\":\"Job 1\",\"offsetgroup\":\"Job 1\",\"orientation\":\"h\",\"showlegend\":true,\"textposition\":\"auto\",\"x\":[70000.0,83000.0,15000.0,26000.0,10000.0,96000.0,94000.0,53000.0,10000.0,93000.0,65000.0,82000.0,66000.0,92000.0,27000.0],\"xaxis\":\"x\",\"y\":[\"Machine 1\",\"Machine 2\",\"Machine 3\",\"Machine 4\",\"Machine 5\",\"Machine 6\",\"Machine 7\",\"Machine 8\",\"Machine 9\",\"Machine 10\",\"Machine 11\",\"Machine 12\",\"Machine 13\",\"Machine 14\",\"Machine 15\"],\"yaxis\":\"y\",\"type\":\"bar\"},{\"alignmentgroup\":\"True\",\"base\":[\"2023-05-05 0:18:29\",\"2023-05-05 0:21:35\",\"2023-05-05 0:23:14\",\"2023-05-05 0:20:15\",\"2023-05-05 0:00:00\",\"2023-05-05 0:01:42\",\"2023-05-05 0:12:53\",\"2023-05-05 0:02:13\",\"2023-05-05 0:06:22\",\"2023-05-05 0:08:17\",\"2023-05-05 0:17:10\",\"2023-05-05 0:07:40\",\"2023-05-05 0:21:06\",\"2023-05-05 0:05:24\",\"2023-05-05 0:03:41\"],\"hovertemplate\":\"Resource=Job 2<br>Start=%{base}<br>Finish=%{x}<br>Task=%{y}<extra></extra>\",\"legendgroup\":\"Job 2\",\"marker\":{\"color\":\"#EF553B\",\"pattern\":{\"shape\":\"\"}},\"name\":\"Job 2\",\"offsetgroup\":\"Job 2\",\"orientation\":\"h\",\"showlegend\":true,\"textposition\":\"auto\",\"x\":[18000.0,99000.0,33000.0,51000.0,74000.0,31000.0,91000.0,88000.0,78000.0,7000.0,79000.0,8000.0,18000.0,57000.0,51000.0],\"xaxis\":\"x\",\"y\":[\"Machine 1\",\"Machine 2\",\"Machine 3\",\"Machine 4\",\"Machine 5\",\"Machine 6\",\"Machine 7\",\"Machine 8\",\"Machine 9\",\"Machine 10\",\"Machine 11\",\"Machine 12\",\"Machine 13\",\"Machine 14\",\"Machine 15\"],\"yaxis\":\"y\",\"type\":\"bar\"},{\"alignmentgroup\":\"True\",\"base\":[\"2023-05-05 0:12:56\",\"2023-05-05 0:00:00\",\"2023-05-05 0:13:50\",\"2023-05-05 0:21:22\",\"2023-05-05 0:16:40\",\"2023-05-05 0:12:50\",\"2023-05-05 0:10:04\",\"2023-05-05 0:14:58\",\"2023-05-05 0:02:09\",\"2023-05-05 0:03:31\",\"2023-05-05 0:16:20\",\"2023-05-05 0:10:54\",\"2023-05-05 0:08:38\",\"2023-05-05 0:12:29\",\"2023-05-05 0:21:57\"],\"hovertemplate\":\"Resource=Job 3<br>Start=%{base}<br>Finish=%{x}<br>Task=%{y}<extra></extra>\",\"legendgroup\":\"Job 3\",\"marker\":{\"color\":\"#00cc96\",\"pattern\":{\"shape\":\"\"}},\"name\":\"Job 3\",\"offsetgroup\":\"Job 3\",\"orientation\":\"h\",\"showlegend\":true,\"textposition\":\"auto\",\"x\":[54000.0,4000.0,68000.0,35000.0,39000.0,6000.0,50000.0,82000.0,82000.0,40000.0,20000.0,54000.0,86000.0,21000.0,68000.0],\"xaxis\":\"x\",\"y\":[\"Machine 1\",\"Machine 2\",\"Machine 3\",\"Machine 4\",\"Machine 5\",\"Machine 6\",\"Machine 7\",\"Machine 8\",\"Machine 9\",\"Machine 10\",\"Machine 11\",\"Machine 12\",\"Machine 13\",\"Machine 14\",\"Machine 15\"],\"yaxis\":\"y\",\"type\":\"bar\"},{\"alignmentgroup\":\"True\",\"base\":[\"2023-05-05 0:07:03\",\"2023-05-05 0:20:03\",\"2023-05-05 0:01:42\",\"2023-05-05 0:23:33\",\"2023-05-05 0:09:53\",\"2023-05-05 0:00:29\",\"2023-05-05 0:05:19\",\"2023-05-05 0:12:54\",\"2023-05-05 0:17:58\",\"2023-05-05 0:02:05\",\"2023-05-05 0:06:10\",\"2023-05-05 0:17:01\",\"2023-05-05 0:18:54\",\"2023-05-05 0:08:37\",\"2023-05-05 0:14:41\"],\"hovertemplate\":\"Resource=Job 4<br>Start=%{base}<br>Finish=%{x}<br>Task=%{y}<extra></extra>\",\"legendgroup\":\"Job 4\",\"marker\":{\"color\":\"#ab63fa\",\"pattern\":{\"shape\":\"\"}},\"name\":\"Job 4\",\"offsetgroup\":\"Job 4\",\"orientation\":\"h\",\"showlegend\":true,\"textposition\":\"auto\",\"x\":[94000.0,92000.0,23000.0,9000.0,93000.0,73000.0,30000.0,32000.0,56000.0,30000.0,53000.0,30000.0,27000.0,58000.0,91000.0],\"xaxis\":\"x\",\"y\":[\"Machine 1\",\"Machine 2\",\"Machine 3\",\"Machine 4\",\"Machine 5\",\"Machine 6\",\"Machine 7\",\"Machine 8\",\"Machine 9\",\"Machine 10\",\"Machine 11\",\"Machine 12\",\"Machine 13\",\"Machine 14\",\"Machine 15\"],\"yaxis\":\"y\",\"type\":\"bar\"},{\"alignmentgroup\":\"True\",\"base\":[\"2023-05-05 0:20:53\",\"2023-05-05 0:16:57\",\"2023-05-05 0:06:02\",\"2023-05-05 0:21:57\",\"2023-05-05 0:03:35\",\"2023-05-05 0:14:19\",\"2023-05-05 0:01:41\",\"2023-05-05 0:00:00\",\"2023-05-05 0:01:18\",\"2023-05-05 0:04:41\",\"2023-05-05 0:02:22\",\"2023-05-05 0:20:01\",\"2023-05-05 0:11:24\",\"2023-05-05 0:19:19\",\"2023-05-05 0:08:39\"],\"hovertemplate\":\"Resource=Job 5<br>Start=%{base}<br>Finish=%{x}<br>Task=%{y}<extra></extra>\",\"legendgroup\":\"Job 5\",\"marker\":{\"color\":\"#FFA15A\",\"pattern\":{\"shape\":\"\"}},\"name\":\"Job 5\",\"offsetgroup\":\"Job 5\",\"orientation\":\"h\",\"showlegend\":true,\"textposition\":\"auto\",\"x\":[42000.0,93000.0,95000.0,96000.0,36000.0,76000.0,21000.0,78000.0,23000.0,29000.0,60000.0,52000.0,79000.0,42000.0,99000.0],\"xaxis\":\"x\",\"y\":[\"Machine 1\",\"Machine 2\",\"Machine 3\",\"Machine 4\",\"Machine 5\",\"Machine 6\",\"Machine 7\",\"Machine 8\",\"Machine 9\",\"Machine 10\",\"Machine 11\",\"Machine 12\",\"Machine 13\",\"Machine 14\",\"Machine 15\"],\"yaxis\":\"y\",\"type\":\"bar\"},{\"alignmentgroup\":\"True\",\"base\":[\"2023-05-05 0:15:53\",\"2023-05-05 0:14:37\",\"2023-05-05 0:10:02\",\"2023-05-05 0:00:29\",\"2023-05-05 0:04:24\",\"2023-05-05 0:00:00\",\"2023-05-05 0:22:56\",\"2023-05-05 0:08:39\",\"2023-05-05 0:23:10\",\"2023-05-05 0:21:54\",\"2023-05-05 0:15:03\",\"2023-05-05 0:04:08\",\"2023-05-05 0:01:30\",\"2023-05-05 0:02:58\",\"2023-05-05 0:07:34\"],\"hovertemplate\":\"Resource=Job 6<br>Start=%{base}<br>Finish=%{x}<br>Task=%{y}<extra></extra>\",\"legendgroup\":\"Job 6\",\"marker\":{\"color\":\"#19d3f3\",\"pattern\":{\"shape\":\"\"}},\"name\":\"Job 6\",\"offsetgroup\":\"Job 6\",\"orientation\":\"h\",\"showlegend\":true,\"textposition\":\"auto\",\"x\":[87000.0,26000.0,78000.0,61000.0,31000.0,29000.0,14000.0,83000.0,30000.0,62000.0,50000.0,16000.0,88000.0,70000.0,65000.0],\"xaxis\":\"x\",\"y\":[\"Machine 1\",\"Machine 2\",\"Machine 3\",\"Machine 4\",\"Machine 5\",\"Machine 6\",\"Machine 7\",\"Machine 8\",\"Machine 9\",\"Machine 10\",\"Machine 11\",\"Machine 12\",\"Machine 13\",\"Machine 14\",\"Machine 15\"],\"yaxis\":\"y\",\"type\":\"bar\"},{\"alignmentgroup\":\"True\",\"base\":[\"2023-05-05 0:21:38\",\"2023-05-05 0:08:42\",\"2023-05-05 0:20:31\",\"2023-05-05 0:01:30\",\"2023-05-05 0:17:19\",\"2023-05-05 0:18:44\",\"2023-05-05 0:07:34\",\"2023-05-05 0:04:08\",\"2023-05-05 0:04:49\",\"2023-05-05 0:23:42\",\"2023-05-05 0:21:14\",\"2023-05-05 0:16:07\",\"2023-05-05 0:00:00\",\"2023-05-05 0:22:15\",\"2023-05-05 0:06:03\"],\"hovertemplate\":\"Resource=Job 7<br>Start=%{base}<br>Finish=%{x}<br>Task=%{y}<extra></extra>\",\"legendgroup\":\"Job 7\",\"marker\":{\"color\":\"#FF6692\",\"pattern\":{\"shape\":\"\"}},\"name\":\"Job 7\",\"offsetgroup\":\"Job 7\",\"orientation\":\"h\",\"showlegend\":true,\"textposition\":\"auto\",\"x\":[37000.0,19000.0,43000.0,75000.0,85000.0,73000.0,68000.0,20000.0,4000.0,66000.0,24000.0,54000.0,18000.0,87000.0,91000.0],\"xaxis\":\"x\",\"y\":[\"Machine 1\",\"Machine 2\",\"Machine 3\",\"Machine 4\",\"Machine 5\",\"Machine 6\",\"Machine 7\",\"Machine 8\",\"Machine 9\",\"Machine 10\",\"Machine 11\",\"Machine 12\",\"Machine 13\",\"Machine 14\",\"Machine 15\"],\"yaxis\":\"y\",\"type\":\"bar\"},{\"alignmentgroup\":\"True\",\"base\":[\"2023-05-05 0:06:39\",\"2023-05-05 0:11:57\",\"2023-05-05 0:12:59\",\"2023-05-05 0:14:51\",\"2023-05-05 0:14:44\",\"2023-05-05 0:05:40\",\"2023-05-05 0:16:14\",\"2023-05-05 0:06:48\",\"2023-05-05 0:13:42\",\"2023-05-05 0:16:11\",\"2023-05-05 0:21:38\",\"2023-05-05 0:04:24\",\"2023-05-05 0:07:37\",\"2023-05-05 0:09:35\",\"2023-05-05 0:10:18\"],\"hovertemplate\":\"Resource=Job 8<br>Start=%{base}<br>Finish=%{x}<br>Task=%{y}<extra></extra>\",\"legendgroup\":\"Job 8\",\"marker\":{\"color\":\"#B6E880\",\"pattern\":{\"shape\":\"\"}},\"name\":\"Job 8\",\"offsetgroup\":\"Job 8\",\"orientation\":\"h\",\"showlegend\":true,\"textposition\":\"auto\",\"x\":[9000.0,62000.0,6000.0,80000.0,7000.0,52000.0,57000.0,49000.0,62000.0,3000.0,7000.0,32000.0,61000.0,35000.0,99000.0],\"xaxis\":\"x\",\"y\":[\"Machine 1\",\"Machine 2\",\"Machine 3\",\"Machine 4\",\"Machine 5\",\"Machine 6\",\"Machine 7\",\"Machine 8\",\"Machine 9\",\"Machine 10\",\"Machine 11\",\"Machine 12\",\"Machine 13\",\"Machine 14\",\"Machine 15\"],\"yaxis\":\"y\",\"type\":\"bar\"},{\"alignmentgroup\":\"True\",\"base\":[\"2023-05-05 0:06:03\",\"2023-05-05 0:06:16\",\"2023-05-05 0:11:20\",\"2023-05-05 0:23:42\",\"2023-05-05 0:15:37\",\"2023-05-05 0:12:56\",\"2023-05-05 0:02:52\",\"2023-05-05 0:17:58\",\"2023-05-05 0:16:33\",\"2023-05-05 0:18:06\",\"2023-05-05 0:00:57\",\"2023-05-05 0:02:22\",\"2023-05-05 0:14:19\",\"2023-05-05 0:20:01\",\"2023-05-05 0:04:32\"],\"hovertemplate\":\"Resource=Job 9<br>Start=%{base}<br>Finish=%{x}<br>Task=%{y}<extra></extra>\",\"legendgroup\":\"Job 9\",\"marker\":{\"color\":\"#FF97FF\",\"pattern\":{\"shape\":\"\"}},\"name\":\"Job 9\",\"offsetgroup\":\"Job 9\",\"orientation\":\"h\",\"showlegend\":true,\"textposition\":\"auto\",\"x\":[13000.0,87000.0,82000.0,15000.0,56000.0,83000.0,96000.0,8000.0,85000.0,66000.0,85000.0,30000.0,78000.0,88000.0,91000.0],\"xaxis\":\"x\",\"y\":[\"Machine 1\",\"Machine 2\",\"Machine 3\",\"Machine 4\",\"Machine 5\",\"Machine 6\",\"Machine 7\",\"Machine 8\",\"Machine 9\",\"Machine 10\",\"Machine 11\",\"Machine 12\",\"Machine 13\",\"Machine 14\",\"Machine 15\"],\"yaxis\":\"y\",\"type\":\"bar\"},{\"alignmentgroup\":\"True\",\"base\":[\"2023-05-05 0:06:22\",\"2023-05-05 0:15:03\",\"2023-05-05 0:04:41\",\"2023-05-05 0:08:28\",\"2023-05-05 0:18:44\",\"2023-05-05 0:21:33\",\"2023-05-05 0:02:02\",\"2023-05-05 0:11:26\",\"2023-05-05 0:05:41\",\"2023-05-05 0:04:11\",\"2023-05-05 0:09:57\",\"2023-05-05 0:02:52\",\"2023-05-05 0:16:12\",\"2023-05-05 0:06:39\",\"2023-05-05 0:16:57\"],\"hovertemplate\":\"Resource=Job 10<br>Start=%{base}<br>Finish=%{x}<br>Task=%{y}<extra></extra>\",\"legendgroup\":\"Job 10\",\"marker\":{\"color\":\"#FECB52\",\"pattern\":{\"shape\":\"\"}},\"name\":\"Job 10\",\"offsetgroup\":\"Job 10\",\"orientation\":\"h\",\"showlegend\":true,\"textposition\":\"auto\",\"x\":[17000.0,69000.0,60000.0,89000.0,6000.0,13000.0,5000.0,88000.0,41000.0,30000.0,78000.0,59000.0,45000.0,66000.0,82000.0],\"xaxis\":\"x\",\"y\":[\"Machine 1\",\"Machine 2\",\"Machine 3\",\"Machine 4\",\"Machine 5\",\"Machine 6\",\"Machine 7\",\"Machine 8\",\"Machine 9\",\"Machine 10\",\"Machine 11\",\"Machine 12\",\"Machine 13\",\"Machine 14\",\"Machine 15\"],\"yaxis\":\"y\",\"type\":\"bar\"},{\"alignmentgroup\":\"True\",\"base\":[\"2023-05-05 0:06:48\",\"2023-05-05 0:18:30\",\"2023-05-05 0:21:34\",\"2023-05-05 0:16:11\",\"2023-05-05 0:01:14\",\"2023-05-05 0:06:56\",\"2023-05-05 0:11:24\",\"2023-05-05 0:03:41\",\"2023-05-05 0:12:53\",\"2023-05-05 0:20:59\",\"2023-05-05 0:14:14\",\"2023-05-05 0:20:53\",\"2023-05-05 0:10:04\",\"2023-05-05 0:05:23\",\"2023-05-05 0:13:42\"],\"hovertemplate\":\"Resource=Job 11<br>Start=%{base}<br>Finish=%{x}<br>Task=%{y}<extra></extra>\",\"legendgroup\":\"Job 11\",\"marker\":{\"color\":\"#636efa\",\"pattern\":{\"shape\":\"\"}},\"name\":\"Job 11\",\"offsetgroup\":\"Job 11\",\"orientation\":\"h\",\"showlegend\":true,\"textposition\":\"auto\",\"x\":[8000.0,93000.0,73000.0,90000.0,90000.0,91000.0,89000.0,27000.0,49000.0,35000.0,28000.0,6000.0,80000.0,1000.0,32000.0],\"xaxis\":\"x\",\"y\":[\"Machine 1\",\"Machine 2\",\"Machine 3\",\"Machine 4\",\"Machine 5\",\"Machine 6\",\"Machine 7\",\"Machine 8\",\"Machine 9\",\"Machine 10\",\"Machine 11\",\"Machine 12\",\"Machine 13\",\"Machine 14\",\"Machine 15\"],\"yaxis\":\"y\",\"type\":\"bar\"},{\"alignmentgroup\":\"True\",\"base\":[\"2023-05-05 0:01:30\",\"2023-05-05 0:16:12\",\"2023-05-05 0:00:00\",\"2023-05-05 0:19:08\",\"2023-05-05 0:21:57\",\"2023-05-05 0:11:26\",\"2023-05-05 0:04:28\",\"2023-05-05 0:10:02\",\"2023-05-05 0:12:00\",\"2023-05-05 0:12:28\",\"2023-05-05 0:07:03\",\"2023-05-05 0:20:59\",\"2023-05-05 0:04:04\",\"2023-05-05 0:13:28\",\"2023-05-05 0:00:47\"],\"hovertemplate\":\"Resource=Job 12<br>Start=%{base}<br>Finish=%{x}<br>Task=%{y}<extra></extra>\",\"legendgroup\":\"Job 12\",\"marker\":{\"color\":\"#EF553B\",\"pattern\":{\"shape\":\"\"}},\"name\":\"Job 12\",\"offsetgroup\":\"Job 12\",\"orientation\":\"h\",\"showlegend\":true,\"textposition\":\"auto\",\"x\":[75000.0,45000.0,47000.0,67000.0,87000.0,34000.0,51000.0,84000.0,28000.0,60000.0,3000.0,58000.0,8000.0,69000.0,43000.0],\"xaxis\":\"x\",\"y\":[\"Machine 1\",\"Machine 2\",\"Machine 3\",\"Machine 4\",\"Machine 5\",\"Machine 6\",\"Machine 7\",\"Machine 8\",\"Machine 9\",\"Machine 10\",\"Machine 11\",\"Machine 12\",\"Machine 13\",\"Machine 14\",\"Machine 15\"],\"yaxis\":\"y\",\"type\":\"bar\"},{\"alignmentgroup\":\"True\",\"base\":[\"2023-05-05 0:10:22\",\"2023-05-05 0:13:49\",\"2023-05-05 0:07:37\",\"2023-05-05 0:07:57\",\"2023-05-05 0:12:29\",\"2023-05-05 0:02:13\",\"2023-05-05 0:09:16\",\"2023-05-05 0:18:12\",\"2023-05-05 0:03:31\",\"2023-05-05 0:09:49\",\"2023-05-05 0:04:33\",\"2023-05-05 0:14:37\",\"2023-05-05 0:16:57\",\"2023-05-05 0:11:39\",\"2023-05-05 0:23:05\"],\"hovertemplate\":\"Resource=Job 13<br>Start=%{base}<br>Finish=%{x}<br>Task=%{y}<extra></extra>\",\"legendgroup\":\"Job 13\",\"marker\":{\"color\":\"#00cc96\",\"pattern\":{\"shape\":\"\"}},\"name\":\"Job 13\",\"offsetgroup\":\"Job 13\",\"orientation\":\"h\",\"showlegend\":true,\"textposition\":\"auto\",\"x\":[77000.0,48000.0,20000.0,31000.0,80000.0,65000.0,33000.0,96000.0,62000.0,33000.0,97000.0,90000.0,75000.0,50000.0,44000.0],\"xaxis\":\"x\",\"y\":[\"Machine 1\",\"Machine 2\",\"Machine 3\",\"Machine 4\",\"Machine 5\",\"Machine 6\",\"Machine 7\",\"Machine 8\",\"Machine 9\",\"Machine 10\",\"Machine 11\",\"Machine 12\",\"Machine 13\",\"Machine 14\",\"Machine 15\"],\"yaxis\":\"y\",\"type\":\"bar\"},{\"alignmentgroup\":\"True\",\"base\":[\"2023-05-05 0:23:25\",\"2023-05-05 0:09:01\",\"2023-05-05 0:22:47\",\"2023-05-05 0:21:06\",\"2023-05-05 0:02:44\",\"2023-05-05 0:05:23\",\"2023-05-05 0:05:49\",\"2023-05-05 0:13:46\",\"2023-05-05 0:01:41\",\"2023-05-05 0:07:18\",\"2023-05-05 0:16:40\",\"2023-05-05 0:14:04\",\"2023-05-05 0:12:43\",\"2023-05-05 0:04:08\",\"2023-05-05 0:02:09\"],\"hovertemplate\":\"Resource=Job 14<br>Start=%{base}<br>Finish=%{x}<br>Task=%{y}<extra></extra>\",\"legendgroup\":\"Job 14\",\"marker\":{\"color\":\"#ab63fa\",\"pattern\":{\"shape\":\"\"}},\"name\":\"Job 14\",\"offsetgroup\":\"Job 14\",\"orientation\":\"h\",\"showlegend\":true,\"textposition\":\"auto\",\"x\":[35000.0,56000.0,7000.0,16000.0,51000.0,17000.0,89000.0,18000.0,28000.0,59000.0,30000.0,17000.0,63000.0,75000.0,21000.0],\"xaxis\":\"x\",\"y\":[\"Machine 1\",\"Machine 2\",\"Machine 3\",\"Machine 4\",\"Machine 5\",\"Machine 6\",\"Machine 7\",\"Machine 8\",\"Machine 9\",\"Machine 10\",\"Machine 11\",\"Machine 12\",\"Machine 13\",\"Machine 14\",\"Machine 15\"],\"yaxis\":\"y\",\"type\":\"bar\"},{\"alignmentgroup\":\"True\",\"base\":[\"2023-05-05 0:13:50\",\"2023-05-05 0:09:57\",\"2023-05-05 0:19:08\",\"2023-05-05 0:17:41\",\"2023-05-05 0:09:16\",\"2023-05-05 0:21:54\",\"2023-05-05 0:08:42\",\"2023-05-05 0:16:20\",\"2023-05-05 0:04:33\",\"2023-05-05 0:21:34\",\"2023-05-05 0:00:00\",\"2023-05-05 0:13:10\",\"2023-05-05 0:04:49\",\"2023-05-05 0:10:23\",\"2023-05-05 0:11:57\"],\"hovertemplate\":\"Resource=Job 15<br>Start=%{base}<br>Finish=%{x}<br>Task=%{y}<extra></extra>\",\"legendgroup\":\"Job 15\",\"marker\":{\"color\":\"#FFA15A\",\"pattern\":{\"shape\":\"\"}},\"name\":\"Job 15\",\"offsetgroup\":\"Job 15\",\"orientation\":\"h\",\"showlegend\":true,\"textposition\":\"auto\",\"x\":[8000.0,26000.0,83000.0,87000.0,37000.0,97000.0,34000.0,12000.0,16000.0,20000.0,57000.0,5000.0,42000.0,68000.0,73000.0],\"xaxis\":\"x\",\"y\":[\"Machine 1\",\"Machine 2\",\"Machine 3\",\"Machine 4\",\"Machine 5\",\"Machine 6\",\"Machine 7\",\"Machine 8\",\"Machine 9\",\"Machine 10\",\"Machine 11\",\"Machine 12\",\"Machine 13\",\"Machine 14\",\"Machine 15\"],\"yaxis\":\"y\",\"type\":\"bar\"}],                        {\"template\":{\"data\":{\"histogram2dcontour\":[{\"type\":\"histogram2dcontour\",\"colorbar\":{\"outlinewidth\":0,\"ticks\":\"\"},\"colorscale\":[[0.0,\"#0d0887\"],[0.1111111111111111,\"#46039f\"],[0.2222222222222222,\"#7201a8\"],[0.3333333333333333,\"#9c179e\"],[0.4444444444444444,\"#bd3786\"],[0.5555555555555556,\"#d8576b\"],[0.6666666666666666,\"#ed7953\"],[0.7777777777777778,\"#fb9f3a\"],[0.8888888888888888,\"#fdca26\"],[1.0,\"#f0f921\"]]}],\"choropleth\":[{\"type\":\"choropleth\",\"colorbar\":{\"outlinewidth\":0,\"ticks\":\"\"}}],\"histogram2d\":[{\"type\":\"histogram2d\",\"colorbar\":{\"outlinewidth\":0,\"ticks\":\"\"},\"colorscale\":[[0.0,\"#0d0887\"],[0.1111111111111111,\"#46039f\"],[0.2222222222222222,\"#7201a8\"],[0.3333333333333333,\"#9c179e\"],[0.4444444444444444,\"#bd3786\"],[0.5555555555555556,\"#d8576b\"],[0.6666666666666666,\"#ed7953\"],[0.7777777777777778,\"#fb9f3a\"],[0.8888888888888888,\"#fdca26\"],[1.0,\"#f0f921\"]]}],\"heatmap\":[{\"type\":\"heatmap\",\"colorbar\":{\"outlinewidth\":0,\"ticks\":\"\"},\"colorscale\":[[0.0,\"#0d0887\"],[0.1111111111111111,\"#46039f\"],[0.2222222222222222,\"#7201a8\"],[0.3333333333333333,\"#9c179e\"],[0.4444444444444444,\"#bd3786\"],[0.5555555555555556,\"#d8576b\"],[0.6666666666666666,\"#ed7953\"],[0.7777777777777778,\"#fb9f3a\"],[0.8888888888888888,\"#fdca26\"],[1.0,\"#f0f921\"]]}],\"heatmapgl\":[{\"type\":\"heatmapgl\",\"colorbar\":{\"outlinewidth\":0,\"ticks\":\"\"},\"colorscale\":[[0.0,\"#0d0887\"],[0.1111111111111111,\"#46039f\"],[0.2222222222222222,\"#7201a8\"],[0.3333333333333333,\"#9c179e\"],[0.4444444444444444,\"#bd3786\"],[0.5555555555555556,\"#d8576b\"],[0.6666666666666666,\"#ed7953\"],[0.7777777777777778,\"#fb9f3a\"],[0.8888888888888888,\"#fdca26\"],[1.0,\"#f0f921\"]]}],\"contourcarpet\":[{\"type\":\"contourcarpet\",\"colorbar\":{\"outlinewidth\":0,\"ticks\":\"\"}}],\"contour\":[{\"type\":\"contour\",\"colorbar\":{\"outlinewidth\":0,\"ticks\":\"\"},\"colorscale\":[[0.0,\"#0d0887\"],[0.1111111111111111,\"#46039f\"],[0.2222222222222222,\"#7201a8\"],[0.3333333333333333,\"#9c179e\"],[0.4444444444444444,\"#bd3786\"],[0.5555555555555556,\"#d8576b\"],[0.6666666666666666,\"#ed7953\"],[0.7777777777777778,\"#fb9f3a\"],[0.8888888888888888,\"#fdca26\"],[1.0,\"#f0f921\"]]}],\"surface\":[{\"type\":\"surface\",\"colorbar\":{\"outlinewidth\":0,\"ticks\":\"\"},\"colorscale\":[[0.0,\"#0d0887\"],[0.1111111111111111,\"#46039f\"],[0.2222222222222222,\"#7201a8\"],[0.3333333333333333,\"#9c179e\"],[0.4444444444444444,\"#bd3786\"],[0.5555555555555556,\"#d8576b\"],[0.6666666666666666,\"#ed7953\"],[0.7777777777777778,\"#fb9f3a\"],[0.8888888888888888,\"#fdca26\"],[1.0,\"#f0f921\"]]}],\"mesh3d\":[{\"type\":\"mesh3d\",\"colorbar\":{\"outlinewidth\":0,\"ticks\":\"\"}}],\"scatter\":[{\"fillpattern\":{\"fillmode\":\"overlay\",\"size\":10,\"solidity\":0.2},\"type\":\"scatter\"}],\"parcoords\":[{\"type\":\"parcoords\",\"line\":{\"colorbar\":{\"outlinewidth\":0,\"ticks\":\"\"}}}],\"scatterpolargl\":[{\"type\":\"scatterpolargl\",\"marker\":{\"colorbar\":{\"outlinewidth\":0,\"ticks\":\"\"}}}],\"bar\":[{\"error_x\":{\"color\":\"#2a3f5f\"},\"error_y\":{\"color\":\"#2a3f5f\"},\"marker\":{\"line\":{\"color\":\"#E5ECF6\",\"width\":0.5},\"pattern\":{\"fillmode\":\"overlay\",\"size\":10,\"solidity\":0.2}},\"type\":\"bar\"}],\"scattergeo\":[{\"type\":\"scattergeo\",\"marker\":{\"colorbar\":{\"outlinewidth\":0,\"ticks\":\"\"}}}],\"scatterpolar\":[{\"type\":\"scatterpolar\",\"marker\":{\"colorbar\":{\"outlinewidth\":0,\"ticks\":\"\"}}}],\"histogram\":[{\"marker\":{\"pattern\":{\"fillmode\":\"overlay\",\"size\":10,\"solidity\":0.2}},\"type\":\"histogram\"}],\"scattergl\":[{\"type\":\"scattergl\",\"marker\":{\"colorbar\":{\"outlinewidth\":0,\"ticks\":\"\"}}}],\"scatter3d\":[{\"type\":\"scatter3d\",\"line\":{\"colorbar\":{\"outlinewidth\":0,\"ticks\":\"\"}},\"marker\":{\"colorbar\":{\"outlinewidth\":0,\"ticks\":\"\"}}}],\"scattermapbox\":[{\"type\":\"scattermapbox\",\"marker\":{\"colorbar\":{\"outlinewidth\":0,\"ticks\":\"\"}}}],\"scatterternary\":[{\"type\":\"scatterternary\",\"marker\":{\"colorbar\":{\"outlinewidth\":0,\"ticks\":\"\"}}}],\"scattercarpet\":[{\"type\":\"scattercarpet\",\"marker\":{\"colorbar\":{\"outlinewidth\":0,\"ticks\":\"\"}}}],\"carpet\":[{\"aaxis\":{\"endlinecolor\":\"#2a3f5f\",\"gridcolor\":\"white\",\"linecolor\":\"white\",\"minorgridcolor\":\"white\",\"startlinecolor\":\"#2a3f5f\"},\"baxis\":{\"endlinecolor\":\"#2a3f5f\",\"gridcolor\":\"white\",\"linecolor\":\"white\",\"minorgridcolor\":\"white\",\"startlinecolor\":\"#2a3f5f\"},\"type\":\"carpet\"}],\"table\":[{\"cells\":{\"fill\":{\"color\":\"#EBF0F8\"},\"line\":{\"color\":\"white\"}},\"header\":{\"fill\":{\"color\":\"#C8D4E3\"},\"line\":{\"color\":\"white\"}},\"type\":\"table\"}],\"barpolar\":[{\"marker\":{\"line\":{\"color\":\"#E5ECF6\",\"width\":0.5},\"pattern\":{\"fillmode\":\"overlay\",\"size\":10,\"solidity\":0.2}},\"type\":\"barpolar\"}],\"pie\":[{\"automargin\":true,\"type\":\"pie\"}]},\"layout\":{\"autotypenumbers\":\"strict\",\"colorway\":[\"#636efa\",\"#EF553B\",\"#00cc96\",\"#ab63fa\",\"#FFA15A\",\"#19d3f3\",\"#FF6692\",\"#B6E880\",\"#FF97FF\",\"#FECB52\"],\"font\":{\"color\":\"#2a3f5f\"},\"hovermode\":\"closest\",\"hoverlabel\":{\"align\":\"left\"},\"paper_bgcolor\":\"white\",\"plot_bgcolor\":\"#E5ECF6\",\"polar\":{\"bgcolor\":\"#E5ECF6\",\"angularaxis\":{\"gridcolor\":\"white\",\"linecolor\":\"white\",\"ticks\":\"\"},\"radialaxis\":{\"gridcolor\":\"white\",\"linecolor\":\"white\",\"ticks\":\"\"}},\"ternary\":{\"bgcolor\":\"#E5ECF6\",\"aaxis\":{\"gridcolor\":\"white\",\"linecolor\":\"white\",\"ticks\":\"\"},\"baxis\":{\"gridcolor\":\"white\",\"linecolor\":\"white\",\"ticks\":\"\"},\"caxis\":{\"gridcolor\":\"white\",\"linecolor\":\"white\",\"ticks\":\"\"}},\"coloraxis\":{\"colorbar\":{\"outlinewidth\":0,\"ticks\":\"\"}},\"colorscale\":{\"sequential\":[[0.0,\"#0d0887\"],[0.1111111111111111,\"#46039f\"],[0.2222222222222222,\"#7201a8\"],[0.3333333333333333,\"#9c179e\"],[0.4444444444444444,\"#bd3786\"],[0.5555555555555556,\"#d8576b\"],[0.6666666666666666,\"#ed7953\"],[0.7777777777777778,\"#fb9f3a\"],[0.8888888888888888,\"#fdca26\"],[1.0,\"#f0f921\"]],\"sequentialminus\":[[0.0,\"#0d0887\"],[0.1111111111111111,\"#46039f\"],[0.2222222222222222,\"#7201a8\"],[0.3333333333333333,\"#9c179e\"],[0.4444444444444444,\"#bd3786\"],[0.5555555555555556,\"#d8576b\"],[0.6666666666666666,\"#ed7953\"],[0.7777777777777778,\"#fb9f3a\"],[0.8888888888888888,\"#fdca26\"],[1.0,\"#f0f921\"]],\"diverging\":[[0,\"#8e0152\"],[0.1,\"#c51b7d\"],[0.2,\"#de77ae\"],[0.3,\"#f1b6da\"],[0.4,\"#fde0ef\"],[0.5,\"#f7f7f7\"],[0.6,\"#e6f5d0\"],[0.7,\"#b8e186\"],[0.8,\"#7fbc41\"],[0.9,\"#4d9221\"],[1,\"#276419\"]]},\"xaxis\":{\"gridcolor\":\"white\",\"linecolor\":\"white\",\"ticks\":\"\",\"title\":{\"standoff\":15},\"zerolinecolor\":\"white\",\"automargin\":true,\"zerolinewidth\":2},\"yaxis\":{\"gridcolor\":\"white\",\"linecolor\":\"white\",\"ticks\":\"\",\"title\":{\"standoff\":15},\"zerolinecolor\":\"white\",\"automargin\":true,\"zerolinewidth\":2},\"scene\":{\"xaxis\":{\"backgroundcolor\":\"#E5ECF6\",\"gridcolor\":\"white\",\"linecolor\":\"white\",\"showbackground\":true,\"ticks\":\"\",\"zerolinecolor\":\"white\",\"gridwidth\":2},\"yaxis\":{\"backgroundcolor\":\"#E5ECF6\",\"gridcolor\":\"white\",\"linecolor\":\"white\",\"showbackground\":true,\"ticks\":\"\",\"zerolinecolor\":\"white\",\"gridwidth\":2},\"zaxis\":{\"backgroundcolor\":\"#E5ECF6\",\"gridcolor\":\"white\",\"linecolor\":\"white\",\"showbackground\":true,\"ticks\":\"\",\"zerolinecolor\":\"white\",\"gridwidth\":2}},\"shapedefaults\":{\"line\":{\"color\":\"#2a3f5f\"}},\"annotationdefaults\":{\"arrowcolor\":\"#2a3f5f\",\"arrowhead\":0,\"arrowwidth\":1},\"geo\":{\"bgcolor\":\"white\",\"landcolor\":\"#E5ECF6\",\"subunitcolor\":\"white\",\"showland\":true,\"showlakes\":true,\"lakecolor\":\"white\"},\"title\":{\"x\":0.05},\"mapbox\":{\"style\":\"light\"}}},\"xaxis\":{\"anchor\":\"y\",\"domain\":[0.0,1.0],\"type\":\"date\"},\"yaxis\":{\"anchor\":\"x\",\"domain\":[0.0,1.0],\"title\":{\"text\":\"Task\"},\"autorange\":\"reversed\"},\"legend\":{\"title\":{\"text\":\"Resource\"},\"tracegroupgap\":0},\"margin\":{\"t\":60},\"barmode\":\"overlay\"},                        {\"responsive\": true}                    ).then(function(){\n",
       "                            \n",
       "var gd = document.getElementById('cacca2de-26e5-452a-a898-16bec7bad5af');\n",
       "var x = new MutationObserver(function (mutations, observer) {{\n",
       "        var display = window.getComputedStyle(gd).display;\n",
       "        if (!display || display === 'none') {{\n",
       "            console.log([gd, 'removed!']);\n",
       "            Plotly.purge(gd);\n",
       "            observer.disconnect();\n",
       "        }}\n",
       "}});\n",
       "\n",
       "// Listen for the removal of the full notebook cells\n",
       "var notebookContainer = gd.closest('#notebook-container');\n",
       "if (notebookContainer) {{\n",
       "    x.observe(notebookContainer, {childList: true});\n",
       "}}\n",
       "\n",
       "// Listen for the clearing of the current output cell\n",
       "var outputEl = gd.closest('.output');\n",
       "if (outputEl) {{\n",
       "    x.observe(outputEl, {childList: true});\n",
       "}}\n",
       "\n",
       "                        })                };                });            </script>        </div>"
      ]
     },
     "metadata": {},
     "output_type": "display_data"
    }
   ],
   "source": [
    "gantt_chart(schedule, times1, machines1)"
   ]
  },
  {
   "cell_type": "markdown",
   "id": "059dd55e",
   "metadata": {},
   "source": [
    "## ta11"
   ]
  },
  {
   "cell_type": "code",
   "execution_count": 89,
   "id": "001b7f85",
   "metadata": {},
   "outputs": [
    {
     "name": "stdout",
     "output_type": "stream",
     "text": [
      "Makespan: 1842\n",
      "\n",
      "Machine 1 =\n",
      "[13, 1] [8, 2] [2, 2] [11, 4] [6, 6] [14, 6] [17, 5] [15, 8] [3, 4] [7, 6] [10, 6] [20, 11] [1, 9] [5, 11] [12, 10] [9, 12] [19, 13] [4, 13] [18, 14] [16, 14]\n",
      "Machine 2 =\n",
      "[8, 1] [10, 1] [5, 3] [4, 3] [7, 3] [11, 3] [6, 3] [1, 4] [14, 5] [2, 6] [15, 7] [19, 5] [17, 7] [9, 8] [20, 8] [12, 9] [16, 12] [13, 10] [3, 14] [18, 15]\n",
      "Machine 3 =\n",
      "[7, 1] [8, 3] [3, 1] [12, 1] [19, 2] [5, 4] [9, 7] [18, 3] [4, 9] [1, 6] [16, 6] [14, 10] [15, 11] [11, 11] [6, 11] [2, 12] [13, 12] [20, 14] [17, 15] [10, 15]\n",
      "Machine 4 =\n",
      "[15, 1] [14, 2] [1, 1] [11, 1] [17, 1] [19, 1] [6, 1] [10, 3] [2, 3] [4, 5] [12, 5] [3, 2] [13, 8] [18, 8] [8, 8] [9, 10] [5, 13] [7, 12] [16, 11] [20, 12]\n",
      "Machine 5 =\n",
      "[9, 1] [10, 2] [14, 4] [8, 4] [4, 6] [2, 5] [1, 7] [5, 8] [12, 8] [16, 7] [11, 9] [20, 9] [19, 9] [3, 8] [7, 11] [18, 11] [15, 12] [17, 11] [13, 11] [6, 15]\n",
      "Machine 6 =\n",
      "[2, 1] [9, 2] [15, 4] [20, 3] [16, 1] [6, 4] [12, 6] [14, 9] [19, 8] [5, 10] [4, 10] [17, 9] [3, 7] [8, 10] [10, 11] [18, 12] [11, 13] [7, 13] [1, 11] [13, 15]\n",
      "Machine 7 =\n",
      "[15, 3] [9, 6] [12, 3] [20, 4] [6, 5] [16, 3] [18, 6] [19, 6] [14, 8] [2, 9] [11, 8] [5, 9] [13, 9] [10, 7] [7, 8] [8, 11] [17, 13] [4, 14] [1, 13] [3, 15]\n",
      "Machine 8 =\n",
      "[13, 2] [9, 5] [12, 2] [17, 2] [8, 5] [1, 8] [7, 7] [15, 10] [11, 10] [6, 8] [18, 10] [3, 9] [2, 10] [4, 12] [10, 13] [5, 15] [16, 13] [14, 13] [19, 15] [20, 15]\n",
      "Machine 9 =\n",
      "[4, 1] [5, 2] [18, 2] [13, 4] [12, 4] [2, 4] [11, 6] [17, 6] [7, 5] [16, 5] [6, 7] [20, 10] [10, 10] [19, 10] [3, 11] [9, 13] [15, 14] [8, 14] [14, 14] [1, 15]\n",
      "Machine 10 =\n",
      "[14, 3] [9, 3] [11, 5] [20, 6] [15, 6] [4, 8] [5, 6] [13, 7] [3, 5] [16, 8] [18, 9] [19, 11] [12, 11] [8, 13] [7, 14] [1, 12] [2, 13] [6, 14] [17, 14] [10, 14]\n",
      "Machine 11 =\n",
      "[7, 2] [4, 2] [18, 1] [9, 4] [11, 2] [6, 2] [20, 5] [5, 5] [17, 3] [14, 7] [1, 5] [10, 4] [13, 6] [3, 10] [12, 12] [2, 11] [15, 13] [19, 14] [8, 15] [16, 15]\n",
      "Machine 12 =\n",
      "[20, 1] [1, 2] [18, 4] [16, 9] [8, 7] [17, 8] [10, 9] [6, 9] [4, 11] [19, 12] [5, 14] [3, 12] [12, 14] [11, 14] [13, 13] [7, 15] [2, 15] [9, 15] [14, 15] [15, 15]\n",
      "Machine 13 =\n",
      "[14, 1] [7, 4] [13, 5] [19, 3] [2, 7] [16, 4] [5, 7] [15, 9] [3, 6] [9, 9] [8, 9] [11, 12] [1, 10] [10, 12] [17, 12] [20, 13] [18, 13] [6, 13] [12, 15] [4, 15]\n",
      "Machine 14 =\n",
      "[4, 4] [15, 5] [20, 7] [19, 4] [18, 5] [8, 6] [10, 8] [7, 10] [5, 12] [16, 10] [9, 11] [6, 10] [17, 10] [12, 13] [3, 13] [14, 12] [2, 14] [13, 14] [1, 14] [11, 15]\n",
      "Machine 15 =\n",
      "[5, 1] [15, 2] [13, 3] [20, 2] [1, 3] [4, 7] [16, 2] [17, 4] [12, 7] [3, 3] [11, 7] [2, 8] [10, 5] [18, 7] [19, 7] [7, 9] [14, 11] [8, 12] [6, 12] [9, 14]\n"
     ]
    }
   ],
   "source": [
    "schedule, fit = GA(times11, machines11)\n",
    "print('Makespan:', fit)\n",
    "print()\n",
    "output_schedule(schedule, machines11)"
   ]
  },
  {
   "cell_type": "code",
   "execution_count": 90,
   "id": "c28dac96",
   "metadata": {},
   "outputs": [
    {
     "data": {
      "application/vnd.plotly.v1+json": {
       "config": {
        "plotlyServerURL": "https://plot.ly"
       },
       "data": [
        {
         "alignmentgroup": "True",
         "base": [
          "2023-05-05 0:18:06",
          "2023-05-05 0:06:12",
          "2023-05-05 0:11:52",
          "2023-05-05 0:01:47",
          "2023-05-05 0:12:54",
          "2023-05-05 0:23:28",
          "2023-05-05 0:24:45",
          "2023-05-05 0:13:32",
          "2023-05-05 0:29:18",
          "2023-05-05 0:24:14",
          "2023-05-05 0:11:14",
          "2023-05-05 0:02:12",
          "2023-05-05 0:20:28",
          "2023-05-05 0:27:46",
          "2023-05-05 0:04:55"
         ],
         "hovertemplate": "Resource=Job 1<br>Start=%{base}<br>Finish=%{x}<br>Task=%{y}<extra></extra>",
         "legendgroup": "Job 1",
         "marker": {
          "color": "#636efa",
          "pattern": {
           "shape": ""
          }
         },
         "name": "Job 1",
         "offsetgroup": "Job 1",
         "orientation": "h",
         "showlegend": true,
         "textposition": "auto",
         "type": "bar",
         "x": [
          14000,
          76000,
          62000,
          25000,
          38000,
          46000,
          57000,
          59000,
          3000,
          31000,
          38000,
          75000,
          13000,
          92000,
          75000
         ],
         "xaxis": "x",
         "y": [
          "Machine 1",
          "Machine 2",
          "Machine 3",
          "Machine 4",
          "Machine 5",
          "Machine 6",
          "Machine 7",
          "Machine 8",
          "Machine 9",
          "Machine 10",
          "Machine 11",
          "Machine 12",
          "Machine 13",
          "Machine 14",
          "Machine 15"
         ],
         "yaxis": "y"
        },
        {
         "alignmentgroup": "True",
         "base": [
          "2023-05-05 0:01:07",
          "2023-05-05 0:09:03",
          "2023-05-05 0:22:01",
          "2023-05-05 0:06:02",
          "2023-05-05 0:07:56",
          "2023-05-05 0:00:00",
          "2023-05-05 0:13:24",
          "2023-05-05 0:20:03",
          "2023-05-05 0:06:13",
          "2023-05-05 0:24:45",
          "2023-05-05 0:21:39",
          "2023-05-05 0:27:10",
          "2023-05-05 0:09:37",
          "2023-05-05 0:25:32",
          "2023-05-05 0:12:36"
         ],
         "hovertemplate": "Resource=Job 2<br>Start=%{base}<br>Finish=%{x}<br>Task=%{y}<extra></extra>",
         "legendgroup": "Job 2",
         "marker": {
          "color": "#EF553B",
          "pattern": {
           "shape": ""
          }
         },
         "name": "Job 2",
         "offsetgroup": "Job 2",
         "orientation": "h",
         "showlegend": true,
         "textposition": "auto",
         "type": "bar",
         "x": [
          5000,
          34000,
          55000,
          11000,
          40000,
          67000,
          35000,
          96000,
          11000,
          21000,
          22000,
          16000,
          77000,
          29000,
          42000
         ],
         "xaxis": "x",
         "y": [
          "Machine 1",
          "Machine 2",
          "Machine 3",
          "Machine 4",
          "Machine 5",
          "Machine 6",
          "Machine 7",
          "Machine 8",
          "Machine 9",
          "Machine 10",
          "Machine 11",
          "Machine 12",
          "Machine 13",
          "Machine 14",
          "Machine 15"
         ],
         "yaxis": "y"
        },
        {
         "alignmentgroup": "True",
         "base": [
          "2023-05-05 0:12:28",
          "2023-05-05 0:24:07",
          "2023-05-05 0:02:27",
          "2023-05-05 0:07:38",
          "2023-05-05 0:18:21",
          "2023-05-05 0:18:08",
          "2023-05-05 0:25:42",
          "2023-05-05 0:19:11",
          "2023-05-05 0:20:25",
          "2023-05-05 0:15:01",
          "2023-05-05 0:20:03",
          "2023-05-05 0:21:42",
          "2023-05-05 0:16:00",
          "2023-05-05 0:23:01",
          "2023-05-05 0:11:49"
         ],
         "hovertemplate": "Resource=Job 3<br>Start=%{base}<br>Finish=%{x}<br>Task=%{y}<extra></extra>",
         "legendgroup": "Job 3",
         "marker": {
          "color": "#00cc96",
          "pattern": {
           "shape": ""
          }
         },
         "name": "Job 3",
         "offsetgroup": "Job 3",
         "orientation": "h",
         "showlegend": true,
         "textposition": "auto",
         "type": "bar",
         "x": [
          35000,
          29000,
          22000,
          98000,
          46000,
          13000,
          70000,
          52000,
          18000,
          59000,
          22000,
          19000,
          31000,
          64000,
          8000
         ],
         "xaxis": "x",
         "y": [
          "Machine 1",
          "Machine 2",
          "Machine 3",
          "Machine 4",
          "Machine 5",
          "Machine 6",
          "Machine 7",
          "Machine 8",
          "Machine 9",
          "Machine 10",
          "Machine 11",
          "Machine 12",
          "Machine 13",
          "Machine 14",
          "Machine 15"
         ],
         "yaxis": "y"
        },
        {
         "alignmentgroup": "True",
         "base": [
          "2023-05-05 0:23:34",
          "2023-05-05 0:03:08",
          "2023-05-05 0:11:01",
          "2023-05-05 0:06:13",
          "2023-05-05 0:06:24",
          "2023-05-05 0:15:52",
          "2023-05-05 0:24:01",
          "2023-05-05 0:21:39",
          "2023-05-05 0:00:00",
          "2023-05-05 0:09:24",
          "2023-05-05 0:01:39",
          "2023-05-05 0:18:38",
          "2023-05-05 0:26:05",
          "2023-05-05 0:03:10",
          "2023-05-05 0:07:56"
         ],
         "hovertemplate": "Resource=Job 4<br>Start=%{base}<br>Finish=%{x}<br>Task=%{y}<extra></extra>",
         "legendgroup": "Job 4",
         "marker": {
          "color": "#ab63fa",
          "pattern": {
           "shape": ""
          }
         },
         "name": "Job 4",
         "offsetgroup": "Job 4",
         "orientation": "h",
         "showlegend": true,
         "textposition": "auto",
         "type": "bar",
         "x": [
          27000,
          2000,
          21000,
          11000,
          92000,
          56000,
          19000,
          43000,
          99000,
          97000,
          42000,
          17000,
          23000,
          35000,
          88000
         ],
         "xaxis": "x",
         "y": [
          "Machine 1",
          "Machine 2",
          "Machine 3",
          "Machine 4",
          "Machine 5",
          "Machine 6",
          "Machine 7",
          "Machine 8",
          "Machine 9",
          "Machine 10",
          "Machine 11",
          "Machine 12",
          "Machine 13",
          "Machine 14",
          "Machine 15"
         ],
         "yaxis": "y"
        },
        {
         "alignmentgroup": "True",
         "base": [
          "2023-05-05 0:18:20",
          "2023-05-05 0:02:09",
          "2023-05-05 0:05:16",
          "2023-05-05 0:19:41",
          "2023-05-05 0:13:32",
          "2023-05-05 0:15:50",
          "2023-05-05 0:14:17",
          "2023-05-05 0:22:40",
          "2023-05-05 0:01:39",
          "2023-05-05 0:11:01",
          "2023-05-05 0:07:35",
          "2023-05-05 0:20:37",
          "2023-05-05 0:11:40",
          "2023-05-05 0:18:59",
          "2023-05-05 0:00:00"
         ],
         "hovertemplate": "Resource=Job 5<br>Start=%{base}<br>Finish=%{x}<br>Task=%{y}<extra></extra>",
         "legendgroup": "Job 5",
         "marker": {
          "color": "#FFA15A",
          "pattern": {
           "shape": ""
          }
         },
         "name": "Job 5",
         "offsetgroup": "Job 5",
         "orientation": "h",
         "showlegend": true,
         "textposition": "auto",
         "type": "bar",
         "x": [
          39000,
          59000,
          71000,
          52000,
          35000,
          2000,
          12000,
          35000,
          5000,
          39000,
          47000,
          65000,
          82000,
          42000,
          50000
         ],
         "xaxis": "x",
         "y": [
          "Machine 1",
          "Machine 2",
          "Machine 3",
          "Machine 4",
          "Machine 5",
          "Machine 6",
          "Machine 7",
          "Machine 8",
          "Machine 9",
          "Machine 10",
          "Machine 11",
          "Machine 12",
          "Machine 13",
          "Machine 14",
          "Machine 15"
         ],
         "yaxis": "y"
        },
        {
         "alignmentgroup": "True",
         "base": [
          "2023-05-05 0:07:21",
          "2023-05-05 0:06:07",
          "2023-05-05 0:21:20",
          "2023-05-05 0:04:22",
          "2023-05-05 0:26:09",
          "2023-05-05 0:06:12",
          "2023-05-05 0:06:21",
          "2023-05-05 0:17:44",
          "2023-05-05 0:13:24",
          "2023-05-05 0:25:06",
          "2023-05-05 0:05:10",
          "2023-05-05 0:17:47",
          "2023-05-05 0:23:37",
          "2023-05-05 0:20:54",
          "2023-05-05 0:21:54"
         ],
         "hovertemplate": "Resource=Job 6<br>Start=%{base}<br>Finish=%{x}<br>Task=%{y}<extra></extra>",
         "legendgroup": "Job 6",
         "marker": {
          "color": "#19d3f3",
          "pattern": {
           "shape": ""
          }
         },
         "name": "Job 6",
         "offsetgroup": "Job 6",
         "orientation": "h",
         "showlegend": true,
         "textposition": "auto",
         "type": "bar",
         "x": [
          64000,
          5000,
          34000,
          48000,
          54000,
          2000,
          60000,
          3000,
          86000,
          63000,
          57000,
          51000,
          45000,
          26000,
          39000
         ],
         "xaxis": "x",
         "y": [
          "Machine 1",
          "Machine 2",
          "Machine 3",
          "Machine 4",
          "Machine 5",
          "Machine 6",
          "Machine 7",
          "Machine 8",
          "Machine 9",
          "Machine 10",
          "Machine 11",
          "Machine 12",
          "Machine 13",
          "Machine 14",
          "Machine 15"
         ],
         "yaxis": "y"
        },
        {
         "alignmentgroup": "True",
         "base": [
          "2023-05-05 0:13:13",
          "2023-05-05 0:03:10",
          "2023-05-05 0:00:00",
          "2023-05-05 0:20:33",
          "2023-05-05 0:19:07",
          "2023-05-05 0:22:59",
          "2023-05-05 0:16:37",
          "2023-05-05 0:14:52",
          "2023-05-05 0:12:27",
          "2023-05-05 0:23:28",
          "2023-05-05 0:00:40",
          "2023-05-05 0:26:10",
          "2023-05-05 0:04:00",
          "2023-05-05 0:17:17",
          "2023-05-05 0:17:11"
         ],
         "hovertemplate": "Resource=Job 7<br>Start=%{base}<br>Finish=%{x}<br>Task=%{y}<extra></extra>",
         "legendgroup": "Job 7",
         "marker": {
          "color": "#FF6692",
          "pattern": {
           "shape": ""
          }
         },
         "name": "Job 7",
         "offsetgroup": "Job 7",
         "orientation": "h",
         "showlegend": true,
         "textposition": "auto",
         "type": "bar",
         "x": [
          99000,
          50000,
          40000,
          54000,
          67000,
          29000,
          34000,
          67000,
          46000,
          30000,
          43000,
          60000,
          71000,
          95000,
          6000
         ],
         "xaxis": "x",
         "y": [
          "Machine 1",
          "Machine 2",
          "Machine 3",
          "Machine 4",
          "Machine 5",
          "Machine 6",
          "Machine 7",
          "Machine 8",
          "Machine 9",
          "Machine 10",
          "Machine 11",
          "Machine 12",
          "Machine 13",
          "Machine 14",
          "Machine 15"
         ],
         "yaxis": "y"
        },
        {
         "alignmentgroup": "True",
         "base": [
          "2023-05-05 0:00:59",
          "2023-05-05 0:00:00",
          "2023-05-05 0:01:02",
          "2023-05-05 0:16:37",
          "2023-05-05 0:03:36",
          "2023-05-05 0:18:21",
          "2023-05-05 0:19:32",
          "2023-05-05 0:07:09",
          "2023-05-05 0:24:12",
          "2023-05-05 0:21:39",
          "2023-05-05 0:25:17",
          "2023-05-05 0:16:24",
          "2023-05-05 0:17:59",
          "2023-05-05 0:12:09",
          "2023-05-05 0:20:20"
         ],
         "hovertemplate": "Resource=Job 8<br>Start=%{base}<br>Finish=%{x}<br>Task=%{y}<extra></extra>",
         "legendgroup": "Job 8",
         "marker": {
          "color": "#B6E880",
          "pattern": {
           "shape": ""
          }
         },
         "name": "Job 8",
         "offsetgroup": "Job 8",
         "orientation": "h",
         "showlegend": true,
         "textposition": "auto",
         "type": "bar",
         "x": [
          3000,
          59000,
          85000,
          82000,
          6000,
          71000,
          48000,
          46000,
          65000,
          62000,
          76000,
          5000,
          18000,
          49000,
          79000
         ],
         "xaxis": "x",
         "y": [
          "Machine 1",
          "Machine 2",
          "Machine 3",
          "Machine 4",
          "Machine 5",
          "Machine 6",
          "Machine 7",
          "Machine 8",
          "Machine 9",
          "Machine 10",
          "Machine 11",
          "Machine 12",
          "Machine 13",
          "Machine 14",
          "Machine 15"
         ],
         "yaxis": "y"
        },
        {
         "alignmentgroup": "True",
         "base": [
          "2023-05-05 0:20:54",
          "2023-05-05 0:12:54",
          "2023-05-05 0:06:27",
          "2023-05-05 0:17:59",
          "2023-05-05 0:00:00",
          "2023-05-05 0:01:07",
          "2023-05-05 0:04:32",
          "2023-05-05 0:04:00",
          "2023-05-05 0:22:21",
          "2023-05-05 0:02:02",
          "2023-05-05 0:03:45",
          "2023-05-05 0:27:26",
          "2023-05-05 0:16:31",
          "2023-05-05 0:19:45",
          "2023-05-05 0:22:43"
         ],
         "hovertemplate": "Resource=Job 9<br>Start=%{base}<br>Finish=%{x}<br>Task=%{y}<extra></extra>",
         "legendgroup": "Job 9",
         "marker": {
          "color": "#FF97FF",
          "pattern": {
           "shape": ""
          }
         },
         "name": "Job 9",
         "offsetgroup": "Job 9",
         "orientation": "h",
         "showlegend": true,
         "textposition": "auto",
         "type": "bar",
         "x": [
          87000,
          69000,
          97000,
          89000,
          65000,
          55000,
          52000,
          32000,
          22000,
          81000,
          15000,
          63000,
          82000,
          69000,
          71000
         ],
         "xaxis": "x",
         "y": [
          "Machine 1",
          "Machine 2",
          "Machine 3",
          "Machine 4",
          "Machine 5",
          "Machine 6",
          "Machine 7",
          "Machine 8",
          "Machine 9",
          "Machine 10",
          "Machine 11",
          "Machine 12",
          "Machine 13",
          "Machine 14",
          "Machine 15"
         ],
         "yaxis": "y"
        },
        {
         "alignmentgroup": "True",
         "base": [
          "2023-05-05 0:14:52",
          "2023-05-05 0:00:59",
          "2023-05-05 0:28:09",
          "2023-05-05 0:05:10",
          "2023-05-05 0:02:09",
          "2023-05-05 0:19:32",
          "2023-05-05 0:16:13",
          "2023-05-05 0:22:22",
          "2023-05-05 0:17:44",
          "2023-05-05 0:26:52",
          "2023-05-05 0:11:52",
          "2023-05-05 0:17:12",
          "2023-05-05 0:20:41",
          "2023-05-05 0:16:37",
          "2023-05-05 0:13:26"
         ],
         "hovertemplate": "Resource=Job 10<br>Start=%{base}<br>Finish=%{x}<br>Task=%{y}<extra></extra>",
         "legendgroup": "Job 10",
         "marker": {
          "color": "#FECB52",
          "pattern": {
           "shape": ""
          }
         },
         "name": "Job 10",
         "offsetgroup": "Job 10",
         "orientation": "h",
         "showlegend": true,
         "textposition": "auto",
         "type": "bar",
         "x": [
          81000,
          70000,
          50000,
          52000,
          74000,
          67000,
          24000,
          18000,
          39000,
          77000,
          94000,
          32000,
          59000,
          14000,
          14000
         ],
         "xaxis": "x",
         "y": [
          "Machine 1",
          "Machine 2",
          "Machine 3",
          "Machine 4",
          "Machine 5",
          "Machine 6",
          "Machine 7",
          "Machine 8",
          "Machine 9",
          "Machine 10",
          "Machine 11",
          "Machine 12",
          "Machine 13",
          "Machine 14",
          "Machine 15"
         ],
         "yaxis": "y"
        },
        {
         "alignmentgroup": "True",
         "base": [
          "2023-05-05 0:05:42",
          "2023-05-05 0:04:06",
          "2023-05-05 0:18:03",
          "2023-05-05 0:02:12",
          "2023-05-05 0:15:52",
          "2023-05-05 0:21:30",
          "2023-05-05 0:13:59",
          "2023-05-05 0:16:14",
          "2023-05-05 0:07:10",
          "2023-05-05 0:06:35",
          "2023-05-05 0:04:00",
          "2023-05-05 0:24:32",
          "2023-05-05 0:19:07",
          "2023-05-05 0:29:18",
          "2023-05-05 0:11:57"
         ],
         "hovertemplate": "Resource=Job 11<br>Start=%{base}<br>Finish=%{x}<br>Task=%{y}<extra></extra>",
         "legendgroup": "Job 11",
         "marker": {
          "color": "#636efa",
          "pattern": {
           "shape": ""
          }
         },
         "name": "Job 11",
         "offsetgroup": "Job 11",
         "orientation": "h",
         "showlegend": true,
         "textposition": "auto",
         "type": "bar",
         "x": [
          53000,
          96000,
          64000,
          18000,
          14000,
          89000,
          18000,
          90000,
          99000,
          35000,
          6000,
          48000,
          81000,
          80000,
          39000
         ],
         "xaxis": "x",
         "y": [
          "Machine 1",
          "Machine 2",
          "Machine 3",
          "Machine 4",
          "Machine 5",
          "Machine 6",
          "Machine 7",
          "Machine 8",
          "Machine 9",
          "Machine 10",
          "Machine 11",
          "Machine 12",
          "Machine 13",
          "Machine 14",
          "Machine 15"
         ],
         "yaxis": "y"
        },
        {
         "alignmentgroup": "True",
         "base": [
          "2023-05-05 0:18:59",
          "2023-05-05 0:15:38",
          "2023-05-05 0:02:49",
          "2023-05-05 0:06:24",
          "2023-05-05 0:14:07",
          "2023-05-05 0:07:38",
          "2023-05-05 0:05:47",
          "2023-05-05 0:04:32",
          "2023-05-05 0:05:59",
          "2023-05-05 0:20:32",
          "2023-05-05 0:20:58",
          "2023-05-05 0:23:01",
          "2023-05-05 0:24:32",
          "2023-05-05 0:21:37",
          "2023-05-05 0:10:38"
         ],
         "hovertemplate": "Resource=Job 12<br>Start=%{base}<br>Finish=%{x}<br>Task=%{y}<extra></extra>",
         "legendgroup": "Job 12",
         "marker": {
          "color": "#EF553B",
          "pattern": {
           "shape": ""
          }
         },
         "name": "Job 12",
         "offsetgroup": "Job 12",
         "orientation": "h",
         "showlegend": true,
         "textposition": "auto",
         "type": "bar",
         "x": [
          93000,
          30000,
          44000,
          74000,
          75000,
          59000,
          12000,
          75000,
          13000,
          26000,
          30000,
          91000,
          93000,
          84000,
          71000
         ],
         "xaxis": "x",
         "y": [
          "Machine 1",
          "Machine 2",
          "Machine 3",
          "Machine 4",
          "Machine 5",
          "Machine 6",
          "Machine 7",
          "Machine 8",
          "Machine 9",
          "Machine 10",
          "Machine 11",
          "Machine 12",
          "Machine 13",
          "Machine 14",
          "Machine 15"
         ],
         "yaxis": "y"
        },
        {
         "alignmentgroup": "True",
         "base": [
          "2023-05-05 0:00:00",
          "2023-05-05 0:23:19",
          "2023-05-05 0:24:29",
          "2023-05-05 0:15:01",
          "2023-05-05 0:24:07",
          "2023-05-05 0:27:46",
          "2023-05-05 0:15:08",
          "2023-05-05 0:00:39",
          "2023-05-05 0:04:11",
          "2023-05-05 0:14:35",
          "2023-05-05 0:13:26",
          "2023-05-05 0:25:20",
          "2023-05-05 0:05:11",
          "2023-05-05 0:26:10",
          "2023-05-05 0:03:05"
         ],
         "hovertemplate": "Resource=Job 13<br>Start=%{base}<br>Finish=%{x}<br>Task=%{y}<extra></extra>",
         "legendgroup": "Job 13",
         "marker": {
          "color": "#00cc96",
          "pattern": {
           "shape": ""
          }
         },
         "name": "Job 13",
         "offsetgroup": "Job 13",
         "orientation": "h",
         "showlegend": true,
         "textposition": "auto",
         "type": "bar",
         "x": [
          39000,
          48000,
          46000,
          7000,
          22000,
          17000,
          55000,
          56000,
          29000,
          26000,
          69000,
          50000,
          55000,
          96000,
          13000
         ],
         "xaxis": "x",
         "y": [
          "Machine 1",
          "Machine 2",
          "Machine 3",
          "Machine 4",
          "Machine 5",
          "Machine 6",
          "Machine 7",
          "Machine 8",
          "Machine 9",
          "Machine 10",
          "Machine 11",
          "Machine 12",
          "Machine 13",
          "Machine 14",
          "Machine 15"
         ],
         "yaxis": "y"
        },
        {
         "alignmentgroup": "True",
         "base": [
          "2023-05-05 0:09:03",
          "2023-05-05 0:07:28",
          "2023-05-05 0:14:56",
          "2023-05-05 0:01:33",
          "2023-05-05 0:03:23",
          "2023-05-05 0:13:24",
          "2023-05-05 0:13:00",
          "2023-05-05 0:25:32",
          "2023-05-05 0:26:15",
          "2023-05-05 0:01:47",
          "2023-05-05 0:09:56",
          "2023-05-05 0:28:29",
          "2023-05-05 0:00:00",
          "2023-05-05 0:24:05",
          "2023-05-05 0:17:17"
         ],
         "hovertemplate": "Resource=Job 14<br>Start=%{base}<br>Finish=%{x}<br>Task=%{y}<extra></extra>",
         "legendgroup": "Job 14",
         "marker": {
          "color": "#ab63fa",
          "pattern": {
           "shape": ""
          }
         },
         "name": "Job 14",
         "offsetgroup": "Job 14",
         "orientation": "h",
         "showlegend": true,
         "textposition": "auto",
         "type": "bar",
         "x": [
          53000,
          95000,
          90000,
          14000,
          13000,
          92000,
          24000,
          43000,
          75000,
          8000,
          78000,
          94000,
          57000,
          87000,
          68000
         ],
         "xaxis": "x",
         "y": [
          "Machine 1",
          "Machine 2",
          "Machine 3",
          "Machine 4",
          "Machine 5",
          "Machine 6",
          "Machine 7",
          "Machine 8",
          "Machine 9",
          "Machine 10",
          "Machine 11",
          "Machine 12",
          "Machine 13",
          "Machine 14",
          "Machine 15"
         ],
         "yaxis": "y"
        },
        {
         "alignmentgroup": "True",
         "base": [
          "2023-05-05 0:11:05",
          "2023-05-05 0:09:37",
          "2023-05-05 0:16:26",
          "2023-05-05 0:00:00",
          "2023-05-05 0:20:26",
          "2023-05-05 0:03:23",
          "2023-05-05 0:03:05",
          "2023-05-05 0:15:59",
          "2023-05-05 0:22:54",
          "2023-05-05 0:08:20",
          "2023-05-05 0:22:01",
          "2023-05-05 0:30:03",
          "2023-05-05 0:13:02",
          "2023-05-05 0:03:51",
          "2023-05-05 0:01:33"
         ],
         "hovertemplate": "Resource=Job 15<br>Start=%{base}<br>Finish=%{x}<br>Task=%{y}<extra></extra>",
         "legendgroup": "Job 15",
         "marker": {
          "color": "#FFA15A",
          "pattern": {
           "shape": ""
          }
         },
         "name": "Job 15",
         "offsetgroup": "Job 15",
         "orientation": "h",
         "showlegend": true,
         "textposition": "auto",
         "type": "bar",
         "x": [
          83000,
          56000,
          97000,
          93000,
          48000,
          28000,
          18000,
          15000,
          78000,
          40000,
          53000,
          39000,
          51000,
          27000,
          92000
         ],
         "xaxis": "x",
         "y": [
          "Machine 1",
          "Machine 2",
          "Machine 3",
          "Machine 4",
          "Machine 5",
          "Machine 6",
          "Machine 7",
          "Machine 8",
          "Machine 9",
          "Machine 10",
          "Machine 11",
          "Machine 12",
          "Machine 13",
          "Machine 14",
          "Machine 15"
         ],
         "yaxis": "y"
        },
        {
         "alignmentgroup": "True",
         "base": [
          "2023-05-05 0:24:45",
          "2023-05-05 0:21:47",
          "2023-05-05 0:13:24",
          "2023-05-05 0:21:27",
          "2023-05-05 0:15:22",
          "2023-05-05 0:04:59",
          "2023-05-05 0:09:58",
          "2023-05-05 0:23:19",
          "2023-05-05 0:13:13",
          "2023-05-05 0:16:00",
          "2023-05-05 0:26:33",
          "2023-05-05 0:16:14",
          "2023-05-05 0:10:54",
          "2023-05-05 0:19:41",
          "2023-05-05 0:09:24"
         ],
         "hovertemplate": "Resource=Job 16<br>Start=%{base}<br>Finish=%{x}<br>Task=%{y}<extra></extra>",
         "legendgroup": "Job 16",
         "marker": {
          "color": "#19d3f3",
          "pattern": {
           "shape": ""
          }
         },
         "name": "Job 16",
         "offsetgroup": "Job 16",
         "orientation": "h",
         "showlegend": true,
         "textposition": "auto",
         "type": "bar",
         "x": [
          59000,
          92000,
          11000,
          20000,
          30000,
          47000,
          42000,
          19000,
          11000,
          14000,
          28000,
          10000,
          28000,
          4000,
          34000
         ],
         "xaxis": "x",
         "y": [
          "Machine 1",
          "Machine 2",
          "Machine 3",
          "Machine 4",
          "Machine 5",
          "Machine 6",
          "Machine 7",
          "Machine 8",
          "Machine 9",
          "Machine 10",
          "Machine 11",
          "Machine 12",
          "Machine 13",
          "Machine 14",
          "Machine 15"
         ],
         "yaxis": "y"
        },
        {
         "alignmentgroup": "True",
         "base": [
          "2023-05-05 0:10:38",
          "2023-05-05 0:12:27",
          "2023-05-05 0:26:52",
          "2023-05-05 0:02:30",
          "2023-05-05 0:21:37",
          "2023-05-05 0:17:12",
          "2023-05-05 0:22:15",
          "2023-05-05 0:05:47",
          "2023-05-05 0:11:05",
          "2023-05-05 0:26:09",
          "2023-05-05 0:08:22",
          "2023-05-05 0:16:29",
          "2023-05-05 0:21:55",
          "2023-05-05 0:21:20",
          "2023-05-05 0:09:58"
         ],
         "hovertemplate": "Resource=Job 17<br>Start=%{base}<br>Finish=%{x}<br>Task=%{y}<extra></extra>",
         "legendgroup": "Job 17",
         "marker": {
          "color": "#FF6692",
          "pattern": {
           "shape": ""
          }
         },
         "name": "Job 17",
         "offsetgroup": "Job 17",
         "orientation": "h",
         "showlegend": true,
         "textposition": "auto",
         "type": "bar",
         "x": [
          27000,
          27000,
          68000,
          69000,
          18000,
          56000,
          98000,
          82000,
          82000,
          43000,
          64000,
          43000,
          20000,
          17000,
          40000
         ],
         "xaxis": "x",
         "y": [
          "Machine 1",
          "Machine 2",
          "Machine 3",
          "Machine 4",
          "Machine 5",
          "Machine 6",
          "Machine 7",
          "Machine 8",
          "Machine 9",
          "Machine 10",
          "Machine 11",
          "Machine 12",
          "Machine 13",
          "Machine 14",
          "Machine 15"
         ],
         "yaxis": "y"
        },
        {
         "alignmentgroup": "True",
         "base": [
          "2023-05-05 0:24:01",
          "2023-05-05 0:24:45",
          "2023-05-05 0:08:04",
          "2023-05-05 0:15:08",
          "2023-05-05 0:20:14",
          "2023-05-05 0:20:39",
          "2023-05-05 0:12:09",
          "2023-05-05 0:17:47",
          "2023-05-05 0:03:45",
          "2023-05-05 0:16:37",
          "2023-05-05 0:02:21",
          "2023-05-05 0:09:31",
          "2023-05-05 0:23:34",
          "2023-05-05 0:10:34",
          "2023-05-05 0:13:40"
         ],
         "hovertemplate": "Resource=Job 18<br>Start=%{base}<br>Finish=%{x}<br>Task=%{y}<extra></extra>",
         "legendgroup": "Job 18",
         "marker": {
          "color": "#B6E880",
          "pattern": {
           "shape": ""
          }
         },
         "name": "Job 18",
         "offsetgroup": "Job 18",
         "orientation": "h",
         "showlegend": true,
         "textposition": "auto",
         "type": "bar",
         "x": [
          44000,
          20000,
          87000,
          89000,
          12000,
          51000,
          23000,
          84000,
          26000,
          49000,
          84000,
          61000,
          3000,
          95000,
          88000
         ],
         "xaxis": "x",
         "y": [
          "Machine 1",
          "Machine 2",
          "Machine 3",
          "Machine 4",
          "Machine 5",
          "Machine 6",
          "Machine 7",
          "Machine 8",
          "Machine 9",
          "Machine 10",
          "Machine 11",
          "Machine 12",
          "Machine 13",
          "Machine 14",
          "Machine 15"
         ],
         "yaxis": "y"
        },
        {
         "alignmentgroup": "True",
         "base": [
          "2023-05-05 0:22:21",
          "2023-05-05 0:10:34",
          "2023-05-05 0:04:22",
          "2023-05-05 0:03:39",
          "2023-05-05 0:17:12",
          "2023-05-05 0:15:28",
          "2023-05-05 0:12:32",
          "2023-05-05 0:26:15",
          "2023-05-05 0:18:23",
          "2023-05-05 0:18:59",
          "2023-05-05 0:23:34",
          "2023-05-05 0:20:24",
          "2023-05-05 0:06:06",
          "2023-05-05 0:09:22",
          "2023-05-05 0:15:08"
         ],
         "hovertemplate": "Resource=Job 19<br>Start=%{base}<br>Finish=%{x}<br>Task=%{y}<extra></extra>",
         "legendgroup": "Job 19",
         "marker": {
          "color": "#FF97FF",
          "pattern": {
           "shape": ""
          }
         },
         "name": "Job 19",
         "offsetgroup": "Job 19",
         "orientation": "h",
         "showlegend": true,
         "textposition": "auto",
         "type": "bar",
         "x": [
          73000,
          70000,
          54000,
          43000,
          59000,
          22000,
          28000,
          45000,
          36000,
          85000,
          29000,
          13000,
          18000,
          72000,
          20000
         ],
         "xaxis": "x",
         "y": [
          "Machine 1",
          "Machine 2",
          "Machine 3",
          "Machine 4",
          "Machine 5",
          "Machine 6",
          "Machine 7",
          "Machine 8",
          "Machine 9",
          "Machine 10",
          "Machine 11",
          "Machine 12",
          "Machine 13",
          "Machine 14",
          "Machine 15"
         ],
         "yaxis": "y"
        },
        {
         "alignmentgroup": "True",
         "base": [
          "2023-05-05 0:17:26",
          "2023-05-05 0:14:03",
          "2023-05-05 0:25:15",
          "2023-05-05 0:21:47",
          "2023-05-05 0:16:06",
          "2023-05-05 0:04:55",
          "2023-05-05 0:05:59",
          "2023-05-05 0:27:00",
          "2023-05-05 0:17:12",
          "2023-05-05 0:07:35",
          "2023-05-05 0:06:21",
          "2023-05-05 0:00:00",
          "2023-05-05 0:22:15",
          "2023-05-05 0:08:20",
          "2023-05-05 0:03:18"
         ],
         "hovertemplate": "Resource=Job 20<br>Start=%{base}<br>Finish=%{x}<br>Task=%{y}<extra></extra>",
         "legendgroup": "Job 20",
         "marker": {
          "color": "#FECB52",
          "pattern": {
           "shape": ""
          }
         },
         "name": "Job 20",
         "offsetgroup": "Job 20",
         "orientation": "h",
         "showlegend": true,
         "textposition": "auto",
         "type": "bar",
         "x": [
          40000,
          95000,
          34000,
          23000,
          66000,
          4000,
          22000,
          8000,
          14000,
          45000,
          74000,
          7000,
          79000,
          62000,
          97000
         ],
         "xaxis": "x",
         "y": [
          "Machine 1",
          "Machine 2",
          "Machine 3",
          "Machine 4",
          "Machine 5",
          "Machine 6",
          "Machine 7",
          "Machine 8",
          "Machine 9",
          "Machine 10",
          "Machine 11",
          "Machine 12",
          "Machine 13",
          "Machine 14",
          "Machine 15"
         ],
         "yaxis": "y"
        }
       ],
       "layout": {
        "barmode": "overlay",
        "legend": {
         "title": {
          "text": "Resource"
         },
         "tracegroupgap": 0
        },
        "margin": {
         "t": 60
        },
        "template": {
         "data": {
          "bar": [
           {
            "error_x": {
             "color": "#2a3f5f"
            },
            "error_y": {
             "color": "#2a3f5f"
            },
            "marker": {
             "line": {
              "color": "#E5ECF6",
              "width": 0.5
             },
             "pattern": {
              "fillmode": "overlay",
              "size": 10,
              "solidity": 0.2
             }
            },
            "type": "bar"
           }
          ],
          "barpolar": [
           {
            "marker": {
             "line": {
              "color": "#E5ECF6",
              "width": 0.5
             },
             "pattern": {
              "fillmode": "overlay",
              "size": 10,
              "solidity": 0.2
             }
            },
            "type": "barpolar"
           }
          ],
          "carpet": [
           {
            "aaxis": {
             "endlinecolor": "#2a3f5f",
             "gridcolor": "white",
             "linecolor": "white",
             "minorgridcolor": "white",
             "startlinecolor": "#2a3f5f"
            },
            "baxis": {
             "endlinecolor": "#2a3f5f",
             "gridcolor": "white",
             "linecolor": "white",
             "minorgridcolor": "white",
             "startlinecolor": "#2a3f5f"
            },
            "type": "carpet"
           }
          ],
          "choropleth": [
           {
            "colorbar": {
             "outlinewidth": 0,
             "ticks": ""
            },
            "type": "choropleth"
           }
          ],
          "contour": [
           {
            "colorbar": {
             "outlinewidth": 0,
             "ticks": ""
            },
            "colorscale": [
             [
              0,
              "#0d0887"
             ],
             [
              0.1111111111111111,
              "#46039f"
             ],
             [
              0.2222222222222222,
              "#7201a8"
             ],
             [
              0.3333333333333333,
              "#9c179e"
             ],
             [
              0.4444444444444444,
              "#bd3786"
             ],
             [
              0.5555555555555556,
              "#d8576b"
             ],
             [
              0.6666666666666666,
              "#ed7953"
             ],
             [
              0.7777777777777778,
              "#fb9f3a"
             ],
             [
              0.8888888888888888,
              "#fdca26"
             ],
             [
              1,
              "#f0f921"
             ]
            ],
            "type": "contour"
           }
          ],
          "contourcarpet": [
           {
            "colorbar": {
             "outlinewidth": 0,
             "ticks": ""
            },
            "type": "contourcarpet"
           }
          ],
          "heatmap": [
           {
            "colorbar": {
             "outlinewidth": 0,
             "ticks": ""
            },
            "colorscale": [
             [
              0,
              "#0d0887"
             ],
             [
              0.1111111111111111,
              "#46039f"
             ],
             [
              0.2222222222222222,
              "#7201a8"
             ],
             [
              0.3333333333333333,
              "#9c179e"
             ],
             [
              0.4444444444444444,
              "#bd3786"
             ],
             [
              0.5555555555555556,
              "#d8576b"
             ],
             [
              0.6666666666666666,
              "#ed7953"
             ],
             [
              0.7777777777777778,
              "#fb9f3a"
             ],
             [
              0.8888888888888888,
              "#fdca26"
             ],
             [
              1,
              "#f0f921"
             ]
            ],
            "type": "heatmap"
           }
          ],
          "heatmapgl": [
           {
            "colorbar": {
             "outlinewidth": 0,
             "ticks": ""
            },
            "colorscale": [
             [
              0,
              "#0d0887"
             ],
             [
              0.1111111111111111,
              "#46039f"
             ],
             [
              0.2222222222222222,
              "#7201a8"
             ],
             [
              0.3333333333333333,
              "#9c179e"
             ],
             [
              0.4444444444444444,
              "#bd3786"
             ],
             [
              0.5555555555555556,
              "#d8576b"
             ],
             [
              0.6666666666666666,
              "#ed7953"
             ],
             [
              0.7777777777777778,
              "#fb9f3a"
             ],
             [
              0.8888888888888888,
              "#fdca26"
             ],
             [
              1,
              "#f0f921"
             ]
            ],
            "type": "heatmapgl"
           }
          ],
          "histogram": [
           {
            "marker": {
             "pattern": {
              "fillmode": "overlay",
              "size": 10,
              "solidity": 0.2
             }
            },
            "type": "histogram"
           }
          ],
          "histogram2d": [
           {
            "colorbar": {
             "outlinewidth": 0,
             "ticks": ""
            },
            "colorscale": [
             [
              0,
              "#0d0887"
             ],
             [
              0.1111111111111111,
              "#46039f"
             ],
             [
              0.2222222222222222,
              "#7201a8"
             ],
             [
              0.3333333333333333,
              "#9c179e"
             ],
             [
              0.4444444444444444,
              "#bd3786"
             ],
             [
              0.5555555555555556,
              "#d8576b"
             ],
             [
              0.6666666666666666,
              "#ed7953"
             ],
             [
              0.7777777777777778,
              "#fb9f3a"
             ],
             [
              0.8888888888888888,
              "#fdca26"
             ],
             [
              1,
              "#f0f921"
             ]
            ],
            "type": "histogram2d"
           }
          ],
          "histogram2dcontour": [
           {
            "colorbar": {
             "outlinewidth": 0,
             "ticks": ""
            },
            "colorscale": [
             [
              0,
              "#0d0887"
             ],
             [
              0.1111111111111111,
              "#46039f"
             ],
             [
              0.2222222222222222,
              "#7201a8"
             ],
             [
              0.3333333333333333,
              "#9c179e"
             ],
             [
              0.4444444444444444,
              "#bd3786"
             ],
             [
              0.5555555555555556,
              "#d8576b"
             ],
             [
              0.6666666666666666,
              "#ed7953"
             ],
             [
              0.7777777777777778,
              "#fb9f3a"
             ],
             [
              0.8888888888888888,
              "#fdca26"
             ],
             [
              1,
              "#f0f921"
             ]
            ],
            "type": "histogram2dcontour"
           }
          ],
          "mesh3d": [
           {
            "colorbar": {
             "outlinewidth": 0,
             "ticks": ""
            },
            "type": "mesh3d"
           }
          ],
          "parcoords": [
           {
            "line": {
             "colorbar": {
              "outlinewidth": 0,
              "ticks": ""
             }
            },
            "type": "parcoords"
           }
          ],
          "pie": [
           {
            "automargin": true,
            "type": "pie"
           }
          ],
          "scatter": [
           {
            "fillpattern": {
             "fillmode": "overlay",
             "size": 10,
             "solidity": 0.2
            },
            "type": "scatter"
           }
          ],
          "scatter3d": [
           {
            "line": {
             "colorbar": {
              "outlinewidth": 0,
              "ticks": ""
             }
            },
            "marker": {
             "colorbar": {
              "outlinewidth": 0,
              "ticks": ""
             }
            },
            "type": "scatter3d"
           }
          ],
          "scattercarpet": [
           {
            "marker": {
             "colorbar": {
              "outlinewidth": 0,
              "ticks": ""
             }
            },
            "type": "scattercarpet"
           }
          ],
          "scattergeo": [
           {
            "marker": {
             "colorbar": {
              "outlinewidth": 0,
              "ticks": ""
             }
            },
            "type": "scattergeo"
           }
          ],
          "scattergl": [
           {
            "marker": {
             "colorbar": {
              "outlinewidth": 0,
              "ticks": ""
             }
            },
            "type": "scattergl"
           }
          ],
          "scattermapbox": [
           {
            "marker": {
             "colorbar": {
              "outlinewidth": 0,
              "ticks": ""
             }
            },
            "type": "scattermapbox"
           }
          ],
          "scatterpolar": [
           {
            "marker": {
             "colorbar": {
              "outlinewidth": 0,
              "ticks": ""
             }
            },
            "type": "scatterpolar"
           }
          ],
          "scatterpolargl": [
           {
            "marker": {
             "colorbar": {
              "outlinewidth": 0,
              "ticks": ""
             }
            },
            "type": "scatterpolargl"
           }
          ],
          "scatterternary": [
           {
            "marker": {
             "colorbar": {
              "outlinewidth": 0,
              "ticks": ""
             }
            },
            "type": "scatterternary"
           }
          ],
          "surface": [
           {
            "colorbar": {
             "outlinewidth": 0,
             "ticks": ""
            },
            "colorscale": [
             [
              0,
              "#0d0887"
             ],
             [
              0.1111111111111111,
              "#46039f"
             ],
             [
              0.2222222222222222,
              "#7201a8"
             ],
             [
              0.3333333333333333,
              "#9c179e"
             ],
             [
              0.4444444444444444,
              "#bd3786"
             ],
             [
              0.5555555555555556,
              "#d8576b"
             ],
             [
              0.6666666666666666,
              "#ed7953"
             ],
             [
              0.7777777777777778,
              "#fb9f3a"
             ],
             [
              0.8888888888888888,
              "#fdca26"
             ],
             [
              1,
              "#f0f921"
             ]
            ],
            "type": "surface"
           }
          ],
          "table": [
           {
            "cells": {
             "fill": {
              "color": "#EBF0F8"
             },
             "line": {
              "color": "white"
             }
            },
            "header": {
             "fill": {
              "color": "#C8D4E3"
             },
             "line": {
              "color": "white"
             }
            },
            "type": "table"
           }
          ]
         },
         "layout": {
          "annotationdefaults": {
           "arrowcolor": "#2a3f5f",
           "arrowhead": 0,
           "arrowwidth": 1
          },
          "autotypenumbers": "strict",
          "coloraxis": {
           "colorbar": {
            "outlinewidth": 0,
            "ticks": ""
           }
          },
          "colorscale": {
           "diverging": [
            [
             0,
             "#8e0152"
            ],
            [
             0.1,
             "#c51b7d"
            ],
            [
             0.2,
             "#de77ae"
            ],
            [
             0.3,
             "#f1b6da"
            ],
            [
             0.4,
             "#fde0ef"
            ],
            [
             0.5,
             "#f7f7f7"
            ],
            [
             0.6,
             "#e6f5d0"
            ],
            [
             0.7,
             "#b8e186"
            ],
            [
             0.8,
             "#7fbc41"
            ],
            [
             0.9,
             "#4d9221"
            ],
            [
             1,
             "#276419"
            ]
           ],
           "sequential": [
            [
             0,
             "#0d0887"
            ],
            [
             0.1111111111111111,
             "#46039f"
            ],
            [
             0.2222222222222222,
             "#7201a8"
            ],
            [
             0.3333333333333333,
             "#9c179e"
            ],
            [
             0.4444444444444444,
             "#bd3786"
            ],
            [
             0.5555555555555556,
             "#d8576b"
            ],
            [
             0.6666666666666666,
             "#ed7953"
            ],
            [
             0.7777777777777778,
             "#fb9f3a"
            ],
            [
             0.8888888888888888,
             "#fdca26"
            ],
            [
             1,
             "#f0f921"
            ]
           ],
           "sequentialminus": [
            [
             0,
             "#0d0887"
            ],
            [
             0.1111111111111111,
             "#46039f"
            ],
            [
             0.2222222222222222,
             "#7201a8"
            ],
            [
             0.3333333333333333,
             "#9c179e"
            ],
            [
             0.4444444444444444,
             "#bd3786"
            ],
            [
             0.5555555555555556,
             "#d8576b"
            ],
            [
             0.6666666666666666,
             "#ed7953"
            ],
            [
             0.7777777777777778,
             "#fb9f3a"
            ],
            [
             0.8888888888888888,
             "#fdca26"
            ],
            [
             1,
             "#f0f921"
            ]
           ]
          },
          "colorway": [
           "#636efa",
           "#EF553B",
           "#00cc96",
           "#ab63fa",
           "#FFA15A",
           "#19d3f3",
           "#FF6692",
           "#B6E880",
           "#FF97FF",
           "#FECB52"
          ],
          "font": {
           "color": "#2a3f5f"
          },
          "geo": {
           "bgcolor": "white",
           "lakecolor": "white",
           "landcolor": "#E5ECF6",
           "showlakes": true,
           "showland": true,
           "subunitcolor": "white"
          },
          "hoverlabel": {
           "align": "left"
          },
          "hovermode": "closest",
          "mapbox": {
           "style": "light"
          },
          "paper_bgcolor": "white",
          "plot_bgcolor": "#E5ECF6",
          "polar": {
           "angularaxis": {
            "gridcolor": "white",
            "linecolor": "white",
            "ticks": ""
           },
           "bgcolor": "#E5ECF6",
           "radialaxis": {
            "gridcolor": "white",
            "linecolor": "white",
            "ticks": ""
           }
          },
          "scene": {
           "xaxis": {
            "backgroundcolor": "#E5ECF6",
            "gridcolor": "white",
            "gridwidth": 2,
            "linecolor": "white",
            "showbackground": true,
            "ticks": "",
            "zerolinecolor": "white"
           },
           "yaxis": {
            "backgroundcolor": "#E5ECF6",
            "gridcolor": "white",
            "gridwidth": 2,
            "linecolor": "white",
            "showbackground": true,
            "ticks": "",
            "zerolinecolor": "white"
           },
           "zaxis": {
            "backgroundcolor": "#E5ECF6",
            "gridcolor": "white",
            "gridwidth": 2,
            "linecolor": "white",
            "showbackground": true,
            "ticks": "",
            "zerolinecolor": "white"
           }
          },
          "shapedefaults": {
           "line": {
            "color": "#2a3f5f"
           }
          },
          "ternary": {
           "aaxis": {
            "gridcolor": "white",
            "linecolor": "white",
            "ticks": ""
           },
           "baxis": {
            "gridcolor": "white",
            "linecolor": "white",
            "ticks": ""
           },
           "bgcolor": "#E5ECF6",
           "caxis": {
            "gridcolor": "white",
            "linecolor": "white",
            "ticks": ""
           }
          },
          "title": {
           "x": 0.05
          },
          "xaxis": {
           "automargin": true,
           "gridcolor": "white",
           "linecolor": "white",
           "ticks": "",
           "title": {
            "standoff": 15
           },
           "zerolinecolor": "white",
           "zerolinewidth": 2
          },
          "yaxis": {
           "automargin": true,
           "gridcolor": "white",
           "linecolor": "white",
           "ticks": "",
           "title": {
            "standoff": 15
           },
           "zerolinecolor": "white",
           "zerolinewidth": 2
          }
         }
        },
        "xaxis": {
         "anchor": "y",
         "domain": [
          0,
          1
         ],
         "type": "date"
        },
        "yaxis": {
         "anchor": "x",
         "autorange": "reversed",
         "domain": [
          0,
          1
         ],
         "title": {
          "text": "Task"
         }
        }
       }
      },
      "text/html": [
       "<div>                            <div id=\"17bf3d5f-1f81-454a-8b43-a2dfa9694ed5\" class=\"plotly-graph-div\" style=\"height:525px; width:100%;\"></div>            <script type=\"text/javascript\">                require([\"plotly\"], function(Plotly) {                    window.PLOTLYENV=window.PLOTLYENV || {};                                    if (document.getElementById(\"17bf3d5f-1f81-454a-8b43-a2dfa9694ed5\")) {                    Plotly.newPlot(                        \"17bf3d5f-1f81-454a-8b43-a2dfa9694ed5\",                        [{\"alignmentgroup\":\"True\",\"base\":[\"2023-05-05 0:18:06\",\"2023-05-05 0:06:12\",\"2023-05-05 0:11:52\",\"2023-05-05 0:01:47\",\"2023-05-05 0:12:54\",\"2023-05-05 0:23:28\",\"2023-05-05 0:24:45\",\"2023-05-05 0:13:32\",\"2023-05-05 0:29:18\",\"2023-05-05 0:24:14\",\"2023-05-05 0:11:14\",\"2023-05-05 0:02:12\",\"2023-05-05 0:20:28\",\"2023-05-05 0:27:46\",\"2023-05-05 0:04:55\"],\"hovertemplate\":\"Resource=Job 1<br>Start=%{base}<br>Finish=%{x}<br>Task=%{y}<extra></extra>\",\"legendgroup\":\"Job 1\",\"marker\":{\"color\":\"#636efa\",\"pattern\":{\"shape\":\"\"}},\"name\":\"Job 1\",\"offsetgroup\":\"Job 1\",\"orientation\":\"h\",\"showlegend\":true,\"textposition\":\"auto\",\"x\":[14000.0,76000.0,62000.0,25000.0,38000.0,46000.0,57000.0,59000.0,3000.0,31000.0,38000.0,75000.0,13000.0,92000.0,75000.0],\"xaxis\":\"x\",\"y\":[\"Machine 1\",\"Machine 2\",\"Machine 3\",\"Machine 4\",\"Machine 5\",\"Machine 6\",\"Machine 7\",\"Machine 8\",\"Machine 9\",\"Machine 10\",\"Machine 11\",\"Machine 12\",\"Machine 13\",\"Machine 14\",\"Machine 15\"],\"yaxis\":\"y\",\"type\":\"bar\"},{\"alignmentgroup\":\"True\",\"base\":[\"2023-05-05 0:01:07\",\"2023-05-05 0:09:03\",\"2023-05-05 0:22:01\",\"2023-05-05 0:06:02\",\"2023-05-05 0:07:56\",\"2023-05-05 0:00:00\",\"2023-05-05 0:13:24\",\"2023-05-05 0:20:03\",\"2023-05-05 0:06:13\",\"2023-05-05 0:24:45\",\"2023-05-05 0:21:39\",\"2023-05-05 0:27:10\",\"2023-05-05 0:09:37\",\"2023-05-05 0:25:32\",\"2023-05-05 0:12:36\"],\"hovertemplate\":\"Resource=Job 2<br>Start=%{base}<br>Finish=%{x}<br>Task=%{y}<extra></extra>\",\"legendgroup\":\"Job 2\",\"marker\":{\"color\":\"#EF553B\",\"pattern\":{\"shape\":\"\"}},\"name\":\"Job 2\",\"offsetgroup\":\"Job 2\",\"orientation\":\"h\",\"showlegend\":true,\"textposition\":\"auto\",\"x\":[5000.0,34000.0,55000.0,11000.0,40000.0,67000.0,35000.0,96000.0,11000.0,21000.0,22000.0,16000.0,77000.0,29000.0,42000.0],\"xaxis\":\"x\",\"y\":[\"Machine 1\",\"Machine 2\",\"Machine 3\",\"Machine 4\",\"Machine 5\",\"Machine 6\",\"Machine 7\",\"Machine 8\",\"Machine 9\",\"Machine 10\",\"Machine 11\",\"Machine 12\",\"Machine 13\",\"Machine 14\",\"Machine 15\"],\"yaxis\":\"y\",\"type\":\"bar\"},{\"alignmentgroup\":\"True\",\"base\":[\"2023-05-05 0:12:28\",\"2023-05-05 0:24:07\",\"2023-05-05 0:02:27\",\"2023-05-05 0:07:38\",\"2023-05-05 0:18:21\",\"2023-05-05 0:18:08\",\"2023-05-05 0:25:42\",\"2023-05-05 0:19:11\",\"2023-05-05 0:20:25\",\"2023-05-05 0:15:01\",\"2023-05-05 0:20:03\",\"2023-05-05 0:21:42\",\"2023-05-05 0:16:00\",\"2023-05-05 0:23:01\",\"2023-05-05 0:11:49\"],\"hovertemplate\":\"Resource=Job 3<br>Start=%{base}<br>Finish=%{x}<br>Task=%{y}<extra></extra>\",\"legendgroup\":\"Job 3\",\"marker\":{\"color\":\"#00cc96\",\"pattern\":{\"shape\":\"\"}},\"name\":\"Job 3\",\"offsetgroup\":\"Job 3\",\"orientation\":\"h\",\"showlegend\":true,\"textposition\":\"auto\",\"x\":[35000.0,29000.0,22000.0,98000.0,46000.0,13000.0,70000.0,52000.0,18000.0,59000.0,22000.0,19000.0,31000.0,64000.0,8000.0],\"xaxis\":\"x\",\"y\":[\"Machine 1\",\"Machine 2\",\"Machine 3\",\"Machine 4\",\"Machine 5\",\"Machine 6\",\"Machine 7\",\"Machine 8\",\"Machine 9\",\"Machine 10\",\"Machine 11\",\"Machine 12\",\"Machine 13\",\"Machine 14\",\"Machine 15\"],\"yaxis\":\"y\",\"type\":\"bar\"},{\"alignmentgroup\":\"True\",\"base\":[\"2023-05-05 0:23:34\",\"2023-05-05 0:03:08\",\"2023-05-05 0:11:01\",\"2023-05-05 0:06:13\",\"2023-05-05 0:06:24\",\"2023-05-05 0:15:52\",\"2023-05-05 0:24:01\",\"2023-05-05 0:21:39\",\"2023-05-05 0:00:00\",\"2023-05-05 0:09:24\",\"2023-05-05 0:01:39\",\"2023-05-05 0:18:38\",\"2023-05-05 0:26:05\",\"2023-05-05 0:03:10\",\"2023-05-05 0:07:56\"],\"hovertemplate\":\"Resource=Job 4<br>Start=%{base}<br>Finish=%{x}<br>Task=%{y}<extra></extra>\",\"legendgroup\":\"Job 4\",\"marker\":{\"color\":\"#ab63fa\",\"pattern\":{\"shape\":\"\"}},\"name\":\"Job 4\",\"offsetgroup\":\"Job 4\",\"orientation\":\"h\",\"showlegend\":true,\"textposition\":\"auto\",\"x\":[27000.0,2000.0,21000.0,11000.0,92000.0,56000.0,19000.0,43000.0,99000.0,97000.0,42000.0,17000.0,23000.0,35000.0,88000.0],\"xaxis\":\"x\",\"y\":[\"Machine 1\",\"Machine 2\",\"Machine 3\",\"Machine 4\",\"Machine 5\",\"Machine 6\",\"Machine 7\",\"Machine 8\",\"Machine 9\",\"Machine 10\",\"Machine 11\",\"Machine 12\",\"Machine 13\",\"Machine 14\",\"Machine 15\"],\"yaxis\":\"y\",\"type\":\"bar\"},{\"alignmentgroup\":\"True\",\"base\":[\"2023-05-05 0:18:20\",\"2023-05-05 0:02:09\",\"2023-05-05 0:05:16\",\"2023-05-05 0:19:41\",\"2023-05-05 0:13:32\",\"2023-05-05 0:15:50\",\"2023-05-05 0:14:17\",\"2023-05-05 0:22:40\",\"2023-05-05 0:01:39\",\"2023-05-05 0:11:01\",\"2023-05-05 0:07:35\",\"2023-05-05 0:20:37\",\"2023-05-05 0:11:40\",\"2023-05-05 0:18:59\",\"2023-05-05 0:00:00\"],\"hovertemplate\":\"Resource=Job 5<br>Start=%{base}<br>Finish=%{x}<br>Task=%{y}<extra></extra>\",\"legendgroup\":\"Job 5\",\"marker\":{\"color\":\"#FFA15A\",\"pattern\":{\"shape\":\"\"}},\"name\":\"Job 5\",\"offsetgroup\":\"Job 5\",\"orientation\":\"h\",\"showlegend\":true,\"textposition\":\"auto\",\"x\":[39000.0,59000.0,71000.0,52000.0,35000.0,2000.0,12000.0,35000.0,5000.0,39000.0,47000.0,65000.0,82000.0,42000.0,50000.0],\"xaxis\":\"x\",\"y\":[\"Machine 1\",\"Machine 2\",\"Machine 3\",\"Machine 4\",\"Machine 5\",\"Machine 6\",\"Machine 7\",\"Machine 8\",\"Machine 9\",\"Machine 10\",\"Machine 11\",\"Machine 12\",\"Machine 13\",\"Machine 14\",\"Machine 15\"],\"yaxis\":\"y\",\"type\":\"bar\"},{\"alignmentgroup\":\"True\",\"base\":[\"2023-05-05 0:07:21\",\"2023-05-05 0:06:07\",\"2023-05-05 0:21:20\",\"2023-05-05 0:04:22\",\"2023-05-05 0:26:09\",\"2023-05-05 0:06:12\",\"2023-05-05 0:06:21\",\"2023-05-05 0:17:44\",\"2023-05-05 0:13:24\",\"2023-05-05 0:25:06\",\"2023-05-05 0:05:10\",\"2023-05-05 0:17:47\",\"2023-05-05 0:23:37\",\"2023-05-05 0:20:54\",\"2023-05-05 0:21:54\"],\"hovertemplate\":\"Resource=Job 6<br>Start=%{base}<br>Finish=%{x}<br>Task=%{y}<extra></extra>\",\"legendgroup\":\"Job 6\",\"marker\":{\"color\":\"#19d3f3\",\"pattern\":{\"shape\":\"\"}},\"name\":\"Job 6\",\"offsetgroup\":\"Job 6\",\"orientation\":\"h\",\"showlegend\":true,\"textposition\":\"auto\",\"x\":[64000.0,5000.0,34000.0,48000.0,54000.0,2000.0,60000.0,3000.0,86000.0,63000.0,57000.0,51000.0,45000.0,26000.0,39000.0],\"xaxis\":\"x\",\"y\":[\"Machine 1\",\"Machine 2\",\"Machine 3\",\"Machine 4\",\"Machine 5\",\"Machine 6\",\"Machine 7\",\"Machine 8\",\"Machine 9\",\"Machine 10\",\"Machine 11\",\"Machine 12\",\"Machine 13\",\"Machine 14\",\"Machine 15\"],\"yaxis\":\"y\",\"type\":\"bar\"},{\"alignmentgroup\":\"True\",\"base\":[\"2023-05-05 0:13:13\",\"2023-05-05 0:03:10\",\"2023-05-05 0:00:00\",\"2023-05-05 0:20:33\",\"2023-05-05 0:19:07\",\"2023-05-05 0:22:59\",\"2023-05-05 0:16:37\",\"2023-05-05 0:14:52\",\"2023-05-05 0:12:27\",\"2023-05-05 0:23:28\",\"2023-05-05 0:00:40\",\"2023-05-05 0:26:10\",\"2023-05-05 0:04:00\",\"2023-05-05 0:17:17\",\"2023-05-05 0:17:11\"],\"hovertemplate\":\"Resource=Job 7<br>Start=%{base}<br>Finish=%{x}<br>Task=%{y}<extra></extra>\",\"legendgroup\":\"Job 7\",\"marker\":{\"color\":\"#FF6692\",\"pattern\":{\"shape\":\"\"}},\"name\":\"Job 7\",\"offsetgroup\":\"Job 7\",\"orientation\":\"h\",\"showlegend\":true,\"textposition\":\"auto\",\"x\":[99000.0,50000.0,40000.0,54000.0,67000.0,29000.0,34000.0,67000.0,46000.0,30000.0,43000.0,60000.0,71000.0,95000.0,6000.0],\"xaxis\":\"x\",\"y\":[\"Machine 1\",\"Machine 2\",\"Machine 3\",\"Machine 4\",\"Machine 5\",\"Machine 6\",\"Machine 7\",\"Machine 8\",\"Machine 9\",\"Machine 10\",\"Machine 11\",\"Machine 12\",\"Machine 13\",\"Machine 14\",\"Machine 15\"],\"yaxis\":\"y\",\"type\":\"bar\"},{\"alignmentgroup\":\"True\",\"base\":[\"2023-05-05 0:00:59\",\"2023-05-05 0:00:00\",\"2023-05-05 0:01:02\",\"2023-05-05 0:16:37\",\"2023-05-05 0:03:36\",\"2023-05-05 0:18:21\",\"2023-05-05 0:19:32\",\"2023-05-05 0:07:09\",\"2023-05-05 0:24:12\",\"2023-05-05 0:21:39\",\"2023-05-05 0:25:17\",\"2023-05-05 0:16:24\",\"2023-05-05 0:17:59\",\"2023-05-05 0:12:09\",\"2023-05-05 0:20:20\"],\"hovertemplate\":\"Resource=Job 8<br>Start=%{base}<br>Finish=%{x}<br>Task=%{y}<extra></extra>\",\"legendgroup\":\"Job 8\",\"marker\":{\"color\":\"#B6E880\",\"pattern\":{\"shape\":\"\"}},\"name\":\"Job 8\",\"offsetgroup\":\"Job 8\",\"orientation\":\"h\",\"showlegend\":true,\"textposition\":\"auto\",\"x\":[3000.0,59000.0,85000.0,82000.0,6000.0,71000.0,48000.0,46000.0,65000.0,62000.0,76000.0,5000.0,18000.0,49000.0,79000.0],\"xaxis\":\"x\",\"y\":[\"Machine 1\",\"Machine 2\",\"Machine 3\",\"Machine 4\",\"Machine 5\",\"Machine 6\",\"Machine 7\",\"Machine 8\",\"Machine 9\",\"Machine 10\",\"Machine 11\",\"Machine 12\",\"Machine 13\",\"Machine 14\",\"Machine 15\"],\"yaxis\":\"y\",\"type\":\"bar\"},{\"alignmentgroup\":\"True\",\"base\":[\"2023-05-05 0:20:54\",\"2023-05-05 0:12:54\",\"2023-05-05 0:06:27\",\"2023-05-05 0:17:59\",\"2023-05-05 0:00:00\",\"2023-05-05 0:01:07\",\"2023-05-05 0:04:32\",\"2023-05-05 0:04:00\",\"2023-05-05 0:22:21\",\"2023-05-05 0:02:02\",\"2023-05-05 0:03:45\",\"2023-05-05 0:27:26\",\"2023-05-05 0:16:31\",\"2023-05-05 0:19:45\",\"2023-05-05 0:22:43\"],\"hovertemplate\":\"Resource=Job 9<br>Start=%{base}<br>Finish=%{x}<br>Task=%{y}<extra></extra>\",\"legendgroup\":\"Job 9\",\"marker\":{\"color\":\"#FF97FF\",\"pattern\":{\"shape\":\"\"}},\"name\":\"Job 9\",\"offsetgroup\":\"Job 9\",\"orientation\":\"h\",\"showlegend\":true,\"textposition\":\"auto\",\"x\":[87000.0,69000.0,97000.0,89000.0,65000.0,55000.0,52000.0,32000.0,22000.0,81000.0,15000.0,63000.0,82000.0,69000.0,71000.0],\"xaxis\":\"x\",\"y\":[\"Machine 1\",\"Machine 2\",\"Machine 3\",\"Machine 4\",\"Machine 5\",\"Machine 6\",\"Machine 7\",\"Machine 8\",\"Machine 9\",\"Machine 10\",\"Machine 11\",\"Machine 12\",\"Machine 13\",\"Machine 14\",\"Machine 15\"],\"yaxis\":\"y\",\"type\":\"bar\"},{\"alignmentgroup\":\"True\",\"base\":[\"2023-05-05 0:14:52\",\"2023-05-05 0:00:59\",\"2023-05-05 0:28:09\",\"2023-05-05 0:05:10\",\"2023-05-05 0:02:09\",\"2023-05-05 0:19:32\",\"2023-05-05 0:16:13\",\"2023-05-05 0:22:22\",\"2023-05-05 0:17:44\",\"2023-05-05 0:26:52\",\"2023-05-05 0:11:52\",\"2023-05-05 0:17:12\",\"2023-05-05 0:20:41\",\"2023-05-05 0:16:37\",\"2023-05-05 0:13:26\"],\"hovertemplate\":\"Resource=Job 10<br>Start=%{base}<br>Finish=%{x}<br>Task=%{y}<extra></extra>\",\"legendgroup\":\"Job 10\",\"marker\":{\"color\":\"#FECB52\",\"pattern\":{\"shape\":\"\"}},\"name\":\"Job 10\",\"offsetgroup\":\"Job 10\",\"orientation\":\"h\",\"showlegend\":true,\"textposition\":\"auto\",\"x\":[81000.0,70000.0,50000.0,52000.0,74000.0,67000.0,24000.0,18000.0,39000.0,77000.0,94000.0,32000.0,59000.0,14000.0,14000.0],\"xaxis\":\"x\",\"y\":[\"Machine 1\",\"Machine 2\",\"Machine 3\",\"Machine 4\",\"Machine 5\",\"Machine 6\",\"Machine 7\",\"Machine 8\",\"Machine 9\",\"Machine 10\",\"Machine 11\",\"Machine 12\",\"Machine 13\",\"Machine 14\",\"Machine 15\"],\"yaxis\":\"y\",\"type\":\"bar\"},{\"alignmentgroup\":\"True\",\"base\":[\"2023-05-05 0:05:42\",\"2023-05-05 0:04:06\",\"2023-05-05 0:18:03\",\"2023-05-05 0:02:12\",\"2023-05-05 0:15:52\",\"2023-05-05 0:21:30\",\"2023-05-05 0:13:59\",\"2023-05-05 0:16:14\",\"2023-05-05 0:07:10\",\"2023-05-05 0:06:35\",\"2023-05-05 0:04:00\",\"2023-05-05 0:24:32\",\"2023-05-05 0:19:07\",\"2023-05-05 0:29:18\",\"2023-05-05 0:11:57\"],\"hovertemplate\":\"Resource=Job 11<br>Start=%{base}<br>Finish=%{x}<br>Task=%{y}<extra></extra>\",\"legendgroup\":\"Job 11\",\"marker\":{\"color\":\"#636efa\",\"pattern\":{\"shape\":\"\"}},\"name\":\"Job 11\",\"offsetgroup\":\"Job 11\",\"orientation\":\"h\",\"showlegend\":true,\"textposition\":\"auto\",\"x\":[53000.0,96000.0,64000.0,18000.0,14000.0,89000.0,18000.0,90000.0,99000.0,35000.0,6000.0,48000.0,81000.0,80000.0,39000.0],\"xaxis\":\"x\",\"y\":[\"Machine 1\",\"Machine 2\",\"Machine 3\",\"Machine 4\",\"Machine 5\",\"Machine 6\",\"Machine 7\",\"Machine 8\",\"Machine 9\",\"Machine 10\",\"Machine 11\",\"Machine 12\",\"Machine 13\",\"Machine 14\",\"Machine 15\"],\"yaxis\":\"y\",\"type\":\"bar\"},{\"alignmentgroup\":\"True\",\"base\":[\"2023-05-05 0:18:59\",\"2023-05-05 0:15:38\",\"2023-05-05 0:02:49\",\"2023-05-05 0:06:24\",\"2023-05-05 0:14:07\",\"2023-05-05 0:07:38\",\"2023-05-05 0:05:47\",\"2023-05-05 0:04:32\",\"2023-05-05 0:05:59\",\"2023-05-05 0:20:32\",\"2023-05-05 0:20:58\",\"2023-05-05 0:23:01\",\"2023-05-05 0:24:32\",\"2023-05-05 0:21:37\",\"2023-05-05 0:10:38\"],\"hovertemplate\":\"Resource=Job 12<br>Start=%{base}<br>Finish=%{x}<br>Task=%{y}<extra></extra>\",\"legendgroup\":\"Job 12\",\"marker\":{\"color\":\"#EF553B\",\"pattern\":{\"shape\":\"\"}},\"name\":\"Job 12\",\"offsetgroup\":\"Job 12\",\"orientation\":\"h\",\"showlegend\":true,\"textposition\":\"auto\",\"x\":[93000.0,30000.0,44000.0,74000.0,75000.0,59000.0,12000.0,75000.0,13000.0,26000.0,30000.0,91000.0,93000.0,84000.0,71000.0],\"xaxis\":\"x\",\"y\":[\"Machine 1\",\"Machine 2\",\"Machine 3\",\"Machine 4\",\"Machine 5\",\"Machine 6\",\"Machine 7\",\"Machine 8\",\"Machine 9\",\"Machine 10\",\"Machine 11\",\"Machine 12\",\"Machine 13\",\"Machine 14\",\"Machine 15\"],\"yaxis\":\"y\",\"type\":\"bar\"},{\"alignmentgroup\":\"True\",\"base\":[\"2023-05-05 0:00:00\",\"2023-05-05 0:23:19\",\"2023-05-05 0:24:29\",\"2023-05-05 0:15:01\",\"2023-05-05 0:24:07\",\"2023-05-05 0:27:46\",\"2023-05-05 0:15:08\",\"2023-05-05 0:00:39\",\"2023-05-05 0:04:11\",\"2023-05-05 0:14:35\",\"2023-05-05 0:13:26\",\"2023-05-05 0:25:20\",\"2023-05-05 0:05:11\",\"2023-05-05 0:26:10\",\"2023-05-05 0:03:05\"],\"hovertemplate\":\"Resource=Job 13<br>Start=%{base}<br>Finish=%{x}<br>Task=%{y}<extra></extra>\",\"legendgroup\":\"Job 13\",\"marker\":{\"color\":\"#00cc96\",\"pattern\":{\"shape\":\"\"}},\"name\":\"Job 13\",\"offsetgroup\":\"Job 13\",\"orientation\":\"h\",\"showlegend\":true,\"textposition\":\"auto\",\"x\":[39000.0,48000.0,46000.0,7000.0,22000.0,17000.0,55000.0,56000.0,29000.0,26000.0,69000.0,50000.0,55000.0,96000.0,13000.0],\"xaxis\":\"x\",\"y\":[\"Machine 1\",\"Machine 2\",\"Machine 3\",\"Machine 4\",\"Machine 5\",\"Machine 6\",\"Machine 7\",\"Machine 8\",\"Machine 9\",\"Machine 10\",\"Machine 11\",\"Machine 12\",\"Machine 13\",\"Machine 14\",\"Machine 15\"],\"yaxis\":\"y\",\"type\":\"bar\"},{\"alignmentgroup\":\"True\",\"base\":[\"2023-05-05 0:09:03\",\"2023-05-05 0:07:28\",\"2023-05-05 0:14:56\",\"2023-05-05 0:01:33\",\"2023-05-05 0:03:23\",\"2023-05-05 0:13:24\",\"2023-05-05 0:13:00\",\"2023-05-05 0:25:32\",\"2023-05-05 0:26:15\",\"2023-05-05 0:01:47\",\"2023-05-05 0:09:56\",\"2023-05-05 0:28:29\",\"2023-05-05 0:00:00\",\"2023-05-05 0:24:05\",\"2023-05-05 0:17:17\"],\"hovertemplate\":\"Resource=Job 14<br>Start=%{base}<br>Finish=%{x}<br>Task=%{y}<extra></extra>\",\"legendgroup\":\"Job 14\",\"marker\":{\"color\":\"#ab63fa\",\"pattern\":{\"shape\":\"\"}},\"name\":\"Job 14\",\"offsetgroup\":\"Job 14\",\"orientation\":\"h\",\"showlegend\":true,\"textposition\":\"auto\",\"x\":[53000.0,95000.0,90000.0,14000.0,13000.0,92000.0,24000.0,43000.0,75000.0,8000.0,78000.0,94000.0,57000.0,87000.0,68000.0],\"xaxis\":\"x\",\"y\":[\"Machine 1\",\"Machine 2\",\"Machine 3\",\"Machine 4\",\"Machine 5\",\"Machine 6\",\"Machine 7\",\"Machine 8\",\"Machine 9\",\"Machine 10\",\"Machine 11\",\"Machine 12\",\"Machine 13\",\"Machine 14\",\"Machine 15\"],\"yaxis\":\"y\",\"type\":\"bar\"},{\"alignmentgroup\":\"True\",\"base\":[\"2023-05-05 0:11:05\",\"2023-05-05 0:09:37\",\"2023-05-05 0:16:26\",\"2023-05-05 0:00:00\",\"2023-05-05 0:20:26\",\"2023-05-05 0:03:23\",\"2023-05-05 0:03:05\",\"2023-05-05 0:15:59\",\"2023-05-05 0:22:54\",\"2023-05-05 0:08:20\",\"2023-05-05 0:22:01\",\"2023-05-05 0:30:03\",\"2023-05-05 0:13:02\",\"2023-05-05 0:03:51\",\"2023-05-05 0:01:33\"],\"hovertemplate\":\"Resource=Job 15<br>Start=%{base}<br>Finish=%{x}<br>Task=%{y}<extra></extra>\",\"legendgroup\":\"Job 15\",\"marker\":{\"color\":\"#FFA15A\",\"pattern\":{\"shape\":\"\"}},\"name\":\"Job 15\",\"offsetgroup\":\"Job 15\",\"orientation\":\"h\",\"showlegend\":true,\"textposition\":\"auto\",\"x\":[83000.0,56000.0,97000.0,93000.0,48000.0,28000.0,18000.0,15000.0,78000.0,40000.0,53000.0,39000.0,51000.0,27000.0,92000.0],\"xaxis\":\"x\",\"y\":[\"Machine 1\",\"Machine 2\",\"Machine 3\",\"Machine 4\",\"Machine 5\",\"Machine 6\",\"Machine 7\",\"Machine 8\",\"Machine 9\",\"Machine 10\",\"Machine 11\",\"Machine 12\",\"Machine 13\",\"Machine 14\",\"Machine 15\"],\"yaxis\":\"y\",\"type\":\"bar\"},{\"alignmentgroup\":\"True\",\"base\":[\"2023-05-05 0:24:45\",\"2023-05-05 0:21:47\",\"2023-05-05 0:13:24\",\"2023-05-05 0:21:27\",\"2023-05-05 0:15:22\",\"2023-05-05 0:04:59\",\"2023-05-05 0:09:58\",\"2023-05-05 0:23:19\",\"2023-05-05 0:13:13\",\"2023-05-05 0:16:00\",\"2023-05-05 0:26:33\",\"2023-05-05 0:16:14\",\"2023-05-05 0:10:54\",\"2023-05-05 0:19:41\",\"2023-05-05 0:09:24\"],\"hovertemplate\":\"Resource=Job 16<br>Start=%{base}<br>Finish=%{x}<br>Task=%{y}<extra></extra>\",\"legendgroup\":\"Job 16\",\"marker\":{\"color\":\"#19d3f3\",\"pattern\":{\"shape\":\"\"}},\"name\":\"Job 16\",\"offsetgroup\":\"Job 16\",\"orientation\":\"h\",\"showlegend\":true,\"textposition\":\"auto\",\"x\":[59000.0,92000.0,11000.0,20000.0,30000.0,47000.0,42000.0,19000.0,11000.0,14000.0,28000.0,10000.0,28000.0,4000.0,34000.0],\"xaxis\":\"x\",\"y\":[\"Machine 1\",\"Machine 2\",\"Machine 3\",\"Machine 4\",\"Machine 5\",\"Machine 6\",\"Machine 7\",\"Machine 8\",\"Machine 9\",\"Machine 10\",\"Machine 11\",\"Machine 12\",\"Machine 13\",\"Machine 14\",\"Machine 15\"],\"yaxis\":\"y\",\"type\":\"bar\"},{\"alignmentgroup\":\"True\",\"base\":[\"2023-05-05 0:10:38\",\"2023-05-05 0:12:27\",\"2023-05-05 0:26:52\",\"2023-05-05 0:02:30\",\"2023-05-05 0:21:37\",\"2023-05-05 0:17:12\",\"2023-05-05 0:22:15\",\"2023-05-05 0:05:47\",\"2023-05-05 0:11:05\",\"2023-05-05 0:26:09\",\"2023-05-05 0:08:22\",\"2023-05-05 0:16:29\",\"2023-05-05 0:21:55\",\"2023-05-05 0:21:20\",\"2023-05-05 0:09:58\"],\"hovertemplate\":\"Resource=Job 17<br>Start=%{base}<br>Finish=%{x}<br>Task=%{y}<extra></extra>\",\"legendgroup\":\"Job 17\",\"marker\":{\"color\":\"#FF6692\",\"pattern\":{\"shape\":\"\"}},\"name\":\"Job 17\",\"offsetgroup\":\"Job 17\",\"orientation\":\"h\",\"showlegend\":true,\"textposition\":\"auto\",\"x\":[27000.0,27000.0,68000.0,69000.0,18000.0,56000.0,98000.0,82000.0,82000.0,43000.0,64000.0,43000.0,20000.0,17000.0,40000.0],\"xaxis\":\"x\",\"y\":[\"Machine 1\",\"Machine 2\",\"Machine 3\",\"Machine 4\",\"Machine 5\",\"Machine 6\",\"Machine 7\",\"Machine 8\",\"Machine 9\",\"Machine 10\",\"Machine 11\",\"Machine 12\",\"Machine 13\",\"Machine 14\",\"Machine 15\"],\"yaxis\":\"y\",\"type\":\"bar\"},{\"alignmentgroup\":\"True\",\"base\":[\"2023-05-05 0:24:01\",\"2023-05-05 0:24:45\",\"2023-05-05 0:08:04\",\"2023-05-05 0:15:08\",\"2023-05-05 0:20:14\",\"2023-05-05 0:20:39\",\"2023-05-05 0:12:09\",\"2023-05-05 0:17:47\",\"2023-05-05 0:03:45\",\"2023-05-05 0:16:37\",\"2023-05-05 0:02:21\",\"2023-05-05 0:09:31\",\"2023-05-05 0:23:34\",\"2023-05-05 0:10:34\",\"2023-05-05 0:13:40\"],\"hovertemplate\":\"Resource=Job 18<br>Start=%{base}<br>Finish=%{x}<br>Task=%{y}<extra></extra>\",\"legendgroup\":\"Job 18\",\"marker\":{\"color\":\"#B6E880\",\"pattern\":{\"shape\":\"\"}},\"name\":\"Job 18\",\"offsetgroup\":\"Job 18\",\"orientation\":\"h\",\"showlegend\":true,\"textposition\":\"auto\",\"x\":[44000.0,20000.0,87000.0,89000.0,12000.0,51000.0,23000.0,84000.0,26000.0,49000.0,84000.0,61000.0,3000.0,95000.0,88000.0],\"xaxis\":\"x\",\"y\":[\"Machine 1\",\"Machine 2\",\"Machine 3\",\"Machine 4\",\"Machine 5\",\"Machine 6\",\"Machine 7\",\"Machine 8\",\"Machine 9\",\"Machine 10\",\"Machine 11\",\"Machine 12\",\"Machine 13\",\"Machine 14\",\"Machine 15\"],\"yaxis\":\"y\",\"type\":\"bar\"},{\"alignmentgroup\":\"True\",\"base\":[\"2023-05-05 0:22:21\",\"2023-05-05 0:10:34\",\"2023-05-05 0:04:22\",\"2023-05-05 0:03:39\",\"2023-05-05 0:17:12\",\"2023-05-05 0:15:28\",\"2023-05-05 0:12:32\",\"2023-05-05 0:26:15\",\"2023-05-05 0:18:23\",\"2023-05-05 0:18:59\",\"2023-05-05 0:23:34\",\"2023-05-05 0:20:24\",\"2023-05-05 0:06:06\",\"2023-05-05 0:09:22\",\"2023-05-05 0:15:08\"],\"hovertemplate\":\"Resource=Job 19<br>Start=%{base}<br>Finish=%{x}<br>Task=%{y}<extra></extra>\",\"legendgroup\":\"Job 19\",\"marker\":{\"color\":\"#FF97FF\",\"pattern\":{\"shape\":\"\"}},\"name\":\"Job 19\",\"offsetgroup\":\"Job 19\",\"orientation\":\"h\",\"showlegend\":true,\"textposition\":\"auto\",\"x\":[73000.0,70000.0,54000.0,43000.0,59000.0,22000.0,28000.0,45000.0,36000.0,85000.0,29000.0,13000.0,18000.0,72000.0,20000.0],\"xaxis\":\"x\",\"y\":[\"Machine 1\",\"Machine 2\",\"Machine 3\",\"Machine 4\",\"Machine 5\",\"Machine 6\",\"Machine 7\",\"Machine 8\",\"Machine 9\",\"Machine 10\",\"Machine 11\",\"Machine 12\",\"Machine 13\",\"Machine 14\",\"Machine 15\"],\"yaxis\":\"y\",\"type\":\"bar\"},{\"alignmentgroup\":\"True\",\"base\":[\"2023-05-05 0:17:26\",\"2023-05-05 0:14:03\",\"2023-05-05 0:25:15\",\"2023-05-05 0:21:47\",\"2023-05-05 0:16:06\",\"2023-05-05 0:04:55\",\"2023-05-05 0:05:59\",\"2023-05-05 0:27:00\",\"2023-05-05 0:17:12\",\"2023-05-05 0:07:35\",\"2023-05-05 0:06:21\",\"2023-05-05 0:00:00\",\"2023-05-05 0:22:15\",\"2023-05-05 0:08:20\",\"2023-05-05 0:03:18\"],\"hovertemplate\":\"Resource=Job 20<br>Start=%{base}<br>Finish=%{x}<br>Task=%{y}<extra></extra>\",\"legendgroup\":\"Job 20\",\"marker\":{\"color\":\"#FECB52\",\"pattern\":{\"shape\":\"\"}},\"name\":\"Job 20\",\"offsetgroup\":\"Job 20\",\"orientation\":\"h\",\"showlegend\":true,\"textposition\":\"auto\",\"x\":[40000.0,95000.0,34000.0,23000.0,66000.0,4000.0,22000.0,8000.0,14000.0,45000.0,74000.0,7000.0,79000.0,62000.0,97000.0],\"xaxis\":\"x\",\"y\":[\"Machine 1\",\"Machine 2\",\"Machine 3\",\"Machine 4\",\"Machine 5\",\"Machine 6\",\"Machine 7\",\"Machine 8\",\"Machine 9\",\"Machine 10\",\"Machine 11\",\"Machine 12\",\"Machine 13\",\"Machine 14\",\"Machine 15\"],\"yaxis\":\"y\",\"type\":\"bar\"}],                        {\"template\":{\"data\":{\"histogram2dcontour\":[{\"type\":\"histogram2dcontour\",\"colorbar\":{\"outlinewidth\":0,\"ticks\":\"\"},\"colorscale\":[[0.0,\"#0d0887\"],[0.1111111111111111,\"#46039f\"],[0.2222222222222222,\"#7201a8\"],[0.3333333333333333,\"#9c179e\"],[0.4444444444444444,\"#bd3786\"],[0.5555555555555556,\"#d8576b\"],[0.6666666666666666,\"#ed7953\"],[0.7777777777777778,\"#fb9f3a\"],[0.8888888888888888,\"#fdca26\"],[1.0,\"#f0f921\"]]}],\"choropleth\":[{\"type\":\"choropleth\",\"colorbar\":{\"outlinewidth\":0,\"ticks\":\"\"}}],\"histogram2d\":[{\"type\":\"histogram2d\",\"colorbar\":{\"outlinewidth\":0,\"ticks\":\"\"},\"colorscale\":[[0.0,\"#0d0887\"],[0.1111111111111111,\"#46039f\"],[0.2222222222222222,\"#7201a8\"],[0.3333333333333333,\"#9c179e\"],[0.4444444444444444,\"#bd3786\"],[0.5555555555555556,\"#d8576b\"],[0.6666666666666666,\"#ed7953\"],[0.7777777777777778,\"#fb9f3a\"],[0.8888888888888888,\"#fdca26\"],[1.0,\"#f0f921\"]]}],\"heatmap\":[{\"type\":\"heatmap\",\"colorbar\":{\"outlinewidth\":0,\"ticks\":\"\"},\"colorscale\":[[0.0,\"#0d0887\"],[0.1111111111111111,\"#46039f\"],[0.2222222222222222,\"#7201a8\"],[0.3333333333333333,\"#9c179e\"],[0.4444444444444444,\"#bd3786\"],[0.5555555555555556,\"#d8576b\"],[0.6666666666666666,\"#ed7953\"],[0.7777777777777778,\"#fb9f3a\"],[0.8888888888888888,\"#fdca26\"],[1.0,\"#f0f921\"]]}],\"heatmapgl\":[{\"type\":\"heatmapgl\",\"colorbar\":{\"outlinewidth\":0,\"ticks\":\"\"},\"colorscale\":[[0.0,\"#0d0887\"],[0.1111111111111111,\"#46039f\"],[0.2222222222222222,\"#7201a8\"],[0.3333333333333333,\"#9c179e\"],[0.4444444444444444,\"#bd3786\"],[0.5555555555555556,\"#d8576b\"],[0.6666666666666666,\"#ed7953\"],[0.7777777777777778,\"#fb9f3a\"],[0.8888888888888888,\"#fdca26\"],[1.0,\"#f0f921\"]]}],\"contourcarpet\":[{\"type\":\"contourcarpet\",\"colorbar\":{\"outlinewidth\":0,\"ticks\":\"\"}}],\"contour\":[{\"type\":\"contour\",\"colorbar\":{\"outlinewidth\":0,\"ticks\":\"\"},\"colorscale\":[[0.0,\"#0d0887\"],[0.1111111111111111,\"#46039f\"],[0.2222222222222222,\"#7201a8\"],[0.3333333333333333,\"#9c179e\"],[0.4444444444444444,\"#bd3786\"],[0.5555555555555556,\"#d8576b\"],[0.6666666666666666,\"#ed7953\"],[0.7777777777777778,\"#fb9f3a\"],[0.8888888888888888,\"#fdca26\"],[1.0,\"#f0f921\"]]}],\"surface\":[{\"type\":\"surface\",\"colorbar\":{\"outlinewidth\":0,\"ticks\":\"\"},\"colorscale\":[[0.0,\"#0d0887\"],[0.1111111111111111,\"#46039f\"],[0.2222222222222222,\"#7201a8\"],[0.3333333333333333,\"#9c179e\"],[0.4444444444444444,\"#bd3786\"],[0.5555555555555556,\"#d8576b\"],[0.6666666666666666,\"#ed7953\"],[0.7777777777777778,\"#fb9f3a\"],[0.8888888888888888,\"#fdca26\"],[1.0,\"#f0f921\"]]}],\"mesh3d\":[{\"type\":\"mesh3d\",\"colorbar\":{\"outlinewidth\":0,\"ticks\":\"\"}}],\"scatter\":[{\"fillpattern\":{\"fillmode\":\"overlay\",\"size\":10,\"solidity\":0.2},\"type\":\"scatter\"}],\"parcoords\":[{\"type\":\"parcoords\",\"line\":{\"colorbar\":{\"outlinewidth\":0,\"ticks\":\"\"}}}],\"scatterpolargl\":[{\"type\":\"scatterpolargl\",\"marker\":{\"colorbar\":{\"outlinewidth\":0,\"ticks\":\"\"}}}],\"bar\":[{\"error_x\":{\"color\":\"#2a3f5f\"},\"error_y\":{\"color\":\"#2a3f5f\"},\"marker\":{\"line\":{\"color\":\"#E5ECF6\",\"width\":0.5},\"pattern\":{\"fillmode\":\"overlay\",\"size\":10,\"solidity\":0.2}},\"type\":\"bar\"}],\"scattergeo\":[{\"type\":\"scattergeo\",\"marker\":{\"colorbar\":{\"outlinewidth\":0,\"ticks\":\"\"}}}],\"scatterpolar\":[{\"type\":\"scatterpolar\",\"marker\":{\"colorbar\":{\"outlinewidth\":0,\"ticks\":\"\"}}}],\"histogram\":[{\"marker\":{\"pattern\":{\"fillmode\":\"overlay\",\"size\":10,\"solidity\":0.2}},\"type\":\"histogram\"}],\"scattergl\":[{\"type\":\"scattergl\",\"marker\":{\"colorbar\":{\"outlinewidth\":0,\"ticks\":\"\"}}}],\"scatter3d\":[{\"type\":\"scatter3d\",\"line\":{\"colorbar\":{\"outlinewidth\":0,\"ticks\":\"\"}},\"marker\":{\"colorbar\":{\"outlinewidth\":0,\"ticks\":\"\"}}}],\"scattermapbox\":[{\"type\":\"scattermapbox\",\"marker\":{\"colorbar\":{\"outlinewidth\":0,\"ticks\":\"\"}}}],\"scatterternary\":[{\"type\":\"scatterternary\",\"marker\":{\"colorbar\":{\"outlinewidth\":0,\"ticks\":\"\"}}}],\"scattercarpet\":[{\"type\":\"scattercarpet\",\"marker\":{\"colorbar\":{\"outlinewidth\":0,\"ticks\":\"\"}}}],\"carpet\":[{\"aaxis\":{\"endlinecolor\":\"#2a3f5f\",\"gridcolor\":\"white\",\"linecolor\":\"white\",\"minorgridcolor\":\"white\",\"startlinecolor\":\"#2a3f5f\"},\"baxis\":{\"endlinecolor\":\"#2a3f5f\",\"gridcolor\":\"white\",\"linecolor\":\"white\",\"minorgridcolor\":\"white\",\"startlinecolor\":\"#2a3f5f\"},\"type\":\"carpet\"}],\"table\":[{\"cells\":{\"fill\":{\"color\":\"#EBF0F8\"},\"line\":{\"color\":\"white\"}},\"header\":{\"fill\":{\"color\":\"#C8D4E3\"},\"line\":{\"color\":\"white\"}},\"type\":\"table\"}],\"barpolar\":[{\"marker\":{\"line\":{\"color\":\"#E5ECF6\",\"width\":0.5},\"pattern\":{\"fillmode\":\"overlay\",\"size\":10,\"solidity\":0.2}},\"type\":\"barpolar\"}],\"pie\":[{\"automargin\":true,\"type\":\"pie\"}]},\"layout\":{\"autotypenumbers\":\"strict\",\"colorway\":[\"#636efa\",\"#EF553B\",\"#00cc96\",\"#ab63fa\",\"#FFA15A\",\"#19d3f3\",\"#FF6692\",\"#B6E880\",\"#FF97FF\",\"#FECB52\"],\"font\":{\"color\":\"#2a3f5f\"},\"hovermode\":\"closest\",\"hoverlabel\":{\"align\":\"left\"},\"paper_bgcolor\":\"white\",\"plot_bgcolor\":\"#E5ECF6\",\"polar\":{\"bgcolor\":\"#E5ECF6\",\"angularaxis\":{\"gridcolor\":\"white\",\"linecolor\":\"white\",\"ticks\":\"\"},\"radialaxis\":{\"gridcolor\":\"white\",\"linecolor\":\"white\",\"ticks\":\"\"}},\"ternary\":{\"bgcolor\":\"#E5ECF6\",\"aaxis\":{\"gridcolor\":\"white\",\"linecolor\":\"white\",\"ticks\":\"\"},\"baxis\":{\"gridcolor\":\"white\",\"linecolor\":\"white\",\"ticks\":\"\"},\"caxis\":{\"gridcolor\":\"white\",\"linecolor\":\"white\",\"ticks\":\"\"}},\"coloraxis\":{\"colorbar\":{\"outlinewidth\":0,\"ticks\":\"\"}},\"colorscale\":{\"sequential\":[[0.0,\"#0d0887\"],[0.1111111111111111,\"#46039f\"],[0.2222222222222222,\"#7201a8\"],[0.3333333333333333,\"#9c179e\"],[0.4444444444444444,\"#bd3786\"],[0.5555555555555556,\"#d8576b\"],[0.6666666666666666,\"#ed7953\"],[0.7777777777777778,\"#fb9f3a\"],[0.8888888888888888,\"#fdca26\"],[1.0,\"#f0f921\"]],\"sequentialminus\":[[0.0,\"#0d0887\"],[0.1111111111111111,\"#46039f\"],[0.2222222222222222,\"#7201a8\"],[0.3333333333333333,\"#9c179e\"],[0.4444444444444444,\"#bd3786\"],[0.5555555555555556,\"#d8576b\"],[0.6666666666666666,\"#ed7953\"],[0.7777777777777778,\"#fb9f3a\"],[0.8888888888888888,\"#fdca26\"],[1.0,\"#f0f921\"]],\"diverging\":[[0,\"#8e0152\"],[0.1,\"#c51b7d\"],[0.2,\"#de77ae\"],[0.3,\"#f1b6da\"],[0.4,\"#fde0ef\"],[0.5,\"#f7f7f7\"],[0.6,\"#e6f5d0\"],[0.7,\"#b8e186\"],[0.8,\"#7fbc41\"],[0.9,\"#4d9221\"],[1,\"#276419\"]]},\"xaxis\":{\"gridcolor\":\"white\",\"linecolor\":\"white\",\"ticks\":\"\",\"title\":{\"standoff\":15},\"zerolinecolor\":\"white\",\"automargin\":true,\"zerolinewidth\":2},\"yaxis\":{\"gridcolor\":\"white\",\"linecolor\":\"white\",\"ticks\":\"\",\"title\":{\"standoff\":15},\"zerolinecolor\":\"white\",\"automargin\":true,\"zerolinewidth\":2},\"scene\":{\"xaxis\":{\"backgroundcolor\":\"#E5ECF6\",\"gridcolor\":\"white\",\"linecolor\":\"white\",\"showbackground\":true,\"ticks\":\"\",\"zerolinecolor\":\"white\",\"gridwidth\":2},\"yaxis\":{\"backgroundcolor\":\"#E5ECF6\",\"gridcolor\":\"white\",\"linecolor\":\"white\",\"showbackground\":true,\"ticks\":\"\",\"zerolinecolor\":\"white\",\"gridwidth\":2},\"zaxis\":{\"backgroundcolor\":\"#E5ECF6\",\"gridcolor\":\"white\",\"linecolor\":\"white\",\"showbackground\":true,\"ticks\":\"\",\"zerolinecolor\":\"white\",\"gridwidth\":2}},\"shapedefaults\":{\"line\":{\"color\":\"#2a3f5f\"}},\"annotationdefaults\":{\"arrowcolor\":\"#2a3f5f\",\"arrowhead\":0,\"arrowwidth\":1},\"geo\":{\"bgcolor\":\"white\",\"landcolor\":\"#E5ECF6\",\"subunitcolor\":\"white\",\"showland\":true,\"showlakes\":true,\"lakecolor\":\"white\"},\"title\":{\"x\":0.05},\"mapbox\":{\"style\":\"light\"}}},\"xaxis\":{\"anchor\":\"y\",\"domain\":[0.0,1.0],\"type\":\"date\"},\"yaxis\":{\"anchor\":\"x\",\"domain\":[0.0,1.0],\"title\":{\"text\":\"Task\"},\"autorange\":\"reversed\"},\"legend\":{\"title\":{\"text\":\"Resource\"},\"tracegroupgap\":0},\"margin\":{\"t\":60},\"barmode\":\"overlay\"},                        {\"responsive\": true}                    ).then(function(){\n",
       "                            \n",
       "var gd = document.getElementById('17bf3d5f-1f81-454a-8b43-a2dfa9694ed5');\n",
       "var x = new MutationObserver(function (mutations, observer) {{\n",
       "        var display = window.getComputedStyle(gd).display;\n",
       "        if (!display || display === 'none') {{\n",
       "            console.log([gd, 'removed!']);\n",
       "            Plotly.purge(gd);\n",
       "            observer.disconnect();\n",
       "        }}\n",
       "}});\n",
       "\n",
       "// Listen for the removal of the full notebook cells\n",
       "var notebookContainer = gd.closest('#notebook-container');\n",
       "if (notebookContainer) {{\n",
       "    x.observe(notebookContainer, {childList: true});\n",
       "}}\n",
       "\n",
       "// Listen for the clearing of the current output cell\n",
       "var outputEl = gd.closest('.output');\n",
       "if (outputEl) {{\n",
       "    x.observe(outputEl, {childList: true});\n",
       "}}\n",
       "\n",
       "                        })                };                });            </script>        </div>"
      ]
     },
     "metadata": {},
     "output_type": "display_data"
    }
   ],
   "source": [
    "gantt_chart(schedule, times11, machines11)"
   ]
  },
  {
   "cell_type": "code",
   "execution_count": null,
   "id": "9198ab31",
   "metadata": {},
   "outputs": [],
   "source": []
  }
 ],
 "metadata": {
  "kernelspec": {
   "display_name": "Python 3 (ipykernel)",
   "language": "python",
   "name": "python3"
  },
  "language_info": {
   "codemirror_mode": {
    "name": "ipython",
    "version": 3
   },
   "file_extension": ".py",
   "mimetype": "text/x-python",
   "name": "python",
   "nbconvert_exporter": "python",
   "pygments_lexer": "ipython3",
   "version": "3.9.2"
  }
 },
 "nbformat": 4,
 "nbformat_minor": 5
}
